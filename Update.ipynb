{
 "cells": [
  {
   "cell_type": "code",
   "execution_count": null,
   "metadata": {},
   "outputs": [],
   "source": [
    "#default_exp update"
   ]
  },
  {
   "cell_type": "code",
   "execution_count": null,
   "metadata": {},
   "outputs": [],
   "source": [
    "#hide\n",
    "import pickle, os\n",
    "\n",
    "os.environ['DATABASE_TABLE_NAME'] = 'product-table-dev-manual'\n",
    "os.environ['REGION'] = 'ap-southeast-1'\n",
    "os.environ['INVENTORY_BUCKET_NAME'] = 'product-bucket-dev-manual'\n",
    "os.environ['INPUT_BUCKET_NAME'] = 'input-product-bucket-dev-manual'\n",
    "os.environ['DAX_ENDPOINT'] = 'longtermcluster.vuu7lr.clustercfg.dax.apse1.cache.amazonaws.com:8111'\n",
    "os.environ['LINEKEY'] = '2uAfV4AoYglUGmKTAk2xNOm0aV2Ufgh1BQPvQl9vJd4'\n",
    "REGION = 'ap-southeast-1'"
   ]
  },
  {
   "cell_type": "markdown",
   "metadata": {},
   "source": [
    "# Update\n",
    "update the database"
   ]
  },
  {
   "cell_type": "code",
   "execution_count": null,
   "metadata": {},
   "outputs": [],
   "source": [
    "#export\n",
    "from s3bz.s3bz import S3\n",
    "from nicHelper.wrappers import add_method, add_class_method, add_static_method\n",
    "from nicHelper.dictUtil import stripDict, printDict, hashDict, saveStringToFile, loadStringFromFile, saveDictToFile, loadDictFromFile\n",
    "from nicHelper.exception import errorString\n",
    "from dict_hash import dict_hash, sha256\n",
    "from base64 import b64encode, b64decode\n",
    "from dataclasses_json import dataclass_json, Undefined, CatchAll\n",
    "from dataclasses_jsonschema import JsonSchemaMixin\n",
    "from dataclasses import dataclass\n",
    "from jsonschema import validate\n",
    "from typing import List\n",
    "from datetime import datetime\n",
    "from nicHelper.schema import validateUrl\n",
    "import pandas as pd\n",
    "import os, logging, json"
   ]
  },
  {
   "cell_type": "code",
   "execution_count": null,
   "metadata": {},
   "outputs": [],
   "source": [
    "#hide\n",
    "from villaProductDatabase.database import ProductDatabase\n",
    "import logging\n",
    "logging.basicConfig(level=logging.INFO)"
   ]
  },
  {
   "cell_type": "code",
   "execution_count": null,
   "metadata": {},
   "outputs": [
    {
     "name": "stdout",
     "output_type": "stream",
     "text": [
      "longtermcluster.vuu7lr.clustercfg.dax.apse1.cache.amazonaws.com:8111\n"
     ]
    }
   ],
   "source": [
    "#export\n",
    "import os\n",
    "DBHASHLOCATION = '/tmp/database.hash'\n",
    "DBCACHELOCATION = '/tmp/database.cache'\n",
    "DATABASE_TABLE_NAME = os.environ.get('DATABASE_TABLE_NAME')\n",
    "INVENTORY_BUCKET_NAME = os.environ.get('INVENTORY_BUCKET_NAME')\n",
    "INPUT_BUCKET_NAME = os.environ.get('INPUT_BUCKET_NAME')\n",
    "REGION = os.environ.get('REGION') or 'ap-southeast-1'\n",
    "ACCESS_KEY_ID = os.environ.get('USER') or None\n",
    "SECRET_ACCESS_KEY = os.environ.get('PW') or None\n",
    "LINEKEY= os.environ.get('LINEKEY')\n",
    "VALUEUPDATESCHEMAURL = 'https://raw.githubusercontent.com/thanakijwanavit/villaMasterSchema/master/valueUpdate.json'\n",
    "  \n",
    "try:\n",
    "  DAX_ENDPOINT = os.environ['DAX_ENDPOINT']\n",
    "  print(DAX_ENDPOINT)\n",
    "except KeyError as e:\n",
    "  print(f'dax endpoint missing {e}')"
   ]
  },
  {
   "cell_type": "code",
   "execution_count": null,
   "metadata": {},
   "outputs": [],
   "source": [
    "#export\n",
    "class Updater:\n",
    "  pass"
   ]
  },
  {
   "cell_type": "code",
   "execution_count": null,
   "metadata": {},
   "outputs": [],
   "source": [
    "class Tester( Updater, ProductDatabase):\n",
    "  class Meta:\n",
    "    table_name = os.environ['DATABASE_TABLE_NAME']\n",
    "    region = os.environ['REGION']\n",
    "    billing_mode='PAY_PER_REQUEST'\n",
    "    dax_read_endpoints = [DAX_ENDPOINT] if DAX_ENDPOINT else None\n",
    "    dax_write_endpoints = [DAX_ENDPOINT] if DAX_ENDPOINT else None\n",
    "  pass"
   ]
  },
  {
   "cell_type": "markdown",
   "metadata": {},
   "source": [
    "## Update with dict"
   ]
  },
  {
   "cell_type": "code",
   "execution_count": null,
   "metadata": {},
   "outputs": [],
   "source": [
    "#export\n",
    "@add_class_method(Updater)\n",
    "def updateWithDict(cls, originalObject:Updater, inputDict:dict ):\n",
    "  data = originalObject.data\n",
    "  data.update(inputDict)\n",
    "  return cls.fromDict(data)"
   ]
  },
  {
   "cell_type": "code",
   "execution_count": null,
   "metadata": {},
   "outputs": [
    {
     "name": "stdout",
     "output_type": "stream",
     "text": [
      "engname is JIRAAT YOUNG KALE 200 G.\n",
      "testName\n"
     ]
    }
   ],
   "source": [
    "# test\n",
    "item = next(Tester.query(171670))\n",
    "print(f'engname is {item.data.get(\"pr_engname\")}')\n",
    "\n",
    "updatedItem = Tester.updateWithDict(item,{'pr_engname':'testName'})\n",
    "assert updatedItem.data.get('pr_engname') == 'testName'\n",
    "print(updatedItem.data.get('pr_engname'))"
   ]
  },
  {
   "cell_type": "markdown",
   "metadata": {},
   "source": [
    "## update with list of dict"
   ]
  },
  {
   "cell_type": "code",
   "execution_count": null,
   "metadata": {},
   "outputs": [
    {
     "name": "stdout",
     "output_type": "stream",
     "text": [
      "{\n",
      "  \"$schema\": \"http://json-schema.org/draft-06/schema#\",\n",
      "  \"description\": \"Product(iprcode: int, cprcode: int)\",\n",
      "  \"properties\": {\n",
      "    \"cprcode\": {\n",
      "      \"type\": \"integer\"\n",
      "    },\n",
      "    \"iprcode\": {\n",
      "      \"type\": \"integer\"\n",
      "    }\n",
      "  },\n",
      "  \"required\": [\n",
      "    \"iprcode\",\n",
      "    \"cprcode\"\n",
      "  ],\n",
      "  \"type\": \"object\"\n",
      "}\n",
      "{\n",
      "  \"$schema\": \"http://json-schema.org/draft-06/schema#\",\n",
      "  \"definitions\": {\n",
      "    \"Product\": {\n",
      "      \"description\": \"Product(iprcode: int, cprcode: int)\",\n",
      "      \"properties\": {\n",
      "        \"cprcode\": {\n",
      "          \"type\": \"integer\"\n",
      "        },\n",
      "        \"iprcode\": {\n",
      "          \"type\": \"integer\"\n",
      "        }\n",
      "      },\n",
      "      \"required\": [\n",
      "        \"iprcode\",\n",
      "        \"cprcode\"\n",
      "      ],\n",
      "      \"type\": \"object\"\n",
      "    }\n",
      "  },\n",
      "  \"description\": \"ValueUpdate(items: List[__main__.Product])\",\n",
      "  \"properties\": {\n",
      "    \"items\": {\n",
      "      \"items\": {\n",
      "        \"$ref\": \"#/definitions/Product\"\n",
      "      },\n",
      "      \"type\": \"array\"\n",
      "    }\n",
      "  },\n",
      "  \"required\": [\n",
      "    \"items\"\n",
      "  ],\n",
      "  \"type\": \"object\"\n",
      "}\n"
     ]
    }
   ],
   "source": [
    "#hide\n",
    "@dataclass_json(undefined=Undefined.INCLUDE)\n",
    "@dataclass\n",
    "class Product(JsonSchemaMixin):\n",
    "  iprcode: int\n",
    "  cprcode: int\n",
    "#   data: CatchAll\n",
    "@dataclass_json\n",
    "@dataclass\n",
    "class ValueUpdate(JsonSchemaMixin):\n",
    "  items: List[Product]\n",
    "print(json.dumps(Product.json_schema(), indent=2, sort_keys=True))\n",
    "print(json.dumps(ValueUpdate.json_schema(), indent=2, sort_keys=True))"
   ]
  },
  {
   "cell_type": "code",
   "execution_count": null,
   "metadata": {},
   "outputs": [],
   "source": [
    "#export\n",
    "class ValueUpdate2:\n",
    "   #### divide work into chunks\n",
    "  @staticmethod\n",
    "  def chunks(l, n): return [l[x: x+n] for x in range(0, len(l), n)]\n",
    "  ##### plot time elapsed for debugging\n",
    "  @staticmethod\n",
    "  def getTimeElasped(t0): return (t0-datetime.now()).total_seconds()\n",
    "\n",
    "  t0 = datetime.now()\n",
    "\n",
    "  ### validate input\n",
    "  @staticmethod\n",
    "  def validateInput(input_):\n",
    "    return validateUrl(VALUEUPDATESCHEMAURL, \n",
    "                       input_)"
   ]
  },
  {
   "cell_type": "code",
   "execution_count": null,
   "metadata": {},
   "outputs": [
    {
     "data": {
      "text/plain": [
       "[{'cprcode': 171670,\n",
       "  'iprcode': 171670,\n",
       "  'oprcode': 171670,\n",
       "  'ordertype': 'Y',\n",
       "  'pr_abb': 'JIRAPAT YOUNG KALE 2',\n",
       "  'pr_active': 'Y',\n",
       "  'pr_cgcode': '05',\n",
       "  'pr_code': '0171670',\n",
       "  'pr_dpcode': '19',\n",
       "  'pr_engname': 'JIRAAT YOUNG KALE 200 G.',\n",
       "  'pr_ggcode': '057',\n",
       "  'pr_market': 'JIRAPAT ยอดคะน้า 200 G.',\n",
       "  'pr_name': 'JIRAPAT ยอดคะน้า 200 G.',\n",
       "  'pr_puqty': '1',\n",
       "  'pr_sa_method': '1',\n",
       "  'pr_sucode1': 'CM845',\n",
       "  'pr_suref3': 'A',\n",
       "  'prtype': 'I',\n",
       "  'psqty': '1',\n",
       "  'pstype': '1'}]"
      ]
     },
     "execution_count": null,
     "metadata": {},
     "output_type": "execute_result"
    }
   ],
   "source": [
    "sampleProducts = {'items':[{ 'cprcode': 171670, 'iprcode': 171670, 'oprcode': 171670, 'ordertype': 'Y', 'pr_abb': 'JIRAPAT YOUNG KALE 2', 'pr_active': 'Y', 'pr_cgcode': '05', 'pr_code': '0171670', 'pr_dpcode': '19', 'pr_engname': 'JIRAAT YOUNG KALE 200 G.', 'pr_ggcode': '057', 'pr_market': 'JIRAPAT ยอดคะน้า 200 G.', 'pr_name': 'JIRAPAT ยอดคะน้า 200 G.', 'pr_puqty': '1', 'pr_sa_method': '1', 'pr_sucode1': 'CM845', 'pr_suref3': 'A', 'prtype': 'I', 'psqty': '1', 'pstype': '1'}]}\n",
    "# t0 = datetime.now()\n",
    "# ValueUpdate2.chunks(sampleProducts, 500)\n",
    "# ValueUpdate2.getTimeElasped(t0)\n",
    "# schema = requests.get(VALUEUPDATESCHEMAURL).json()\n",
    "# validate(sampleProducts, schema)\n",
    "ValueUpdate2.validateInput(sampleProducts).items"
   ]
  },
  {
   "cell_type": "code",
   "execution_count": null,
   "metadata": {},
   "outputs": [],
   "source": [
    "#export\n",
    "@add_static_method(ValueUpdate2)\n",
    "def saveBatchToDynamodb(productBatch:list, dbClass:Updater, db:pd.DataFrame, itemsUpdated:dict):\n",
    "  def checkIfInDb(db:pd.DataFrame, iprcode:int, cprcode:int)->dbClass:\n",
    "    '''check if product is in the database, if not, create an empty class with the product code''' \n",
    "    if 'cprcode' in db.columns:\n",
    "      incumbentDb = db[db['cprcode']==cprcode] ## filter for the cprcode\n",
    "      if incumbentDb.empty:\n",
    "        incumbentSeries = pd.Series() ## if empty, create an empty series\n",
    "      else:\n",
    "        incumbentSeries = incumbentDb.iloc[0] ## if not empty, pull the series\n",
    "        \n",
    "      #### create object from series or new object if series is empty ####\n",
    "      if incumbentSeries.any:  incumbentItem = dbClass.fromSeries(incumbentSeries)\n",
    "      else: incumbentItem = dbClass.fromDict({'iprcode': iprcode, 'cprcode': cprcode})\n",
    "        \n",
    "    #### if cprcode doesnt exist, create empty object ####\n",
    "    else: incumbentItem = dbClass.fromDict({'iprcode': iprcode, 'cprcode': cprcode})\n",
    "    return incumbentItem\n",
    "      \n",
    "  ###### main ######\n",
    "  with dbClass.batch_write() as batch:\n",
    "    # loop through each product\n",
    "    for product in productBatch:\n",
    "      iprcode = product['iprcode']\n",
    "      cprcode = product['cprcode']\n",
    "      incumbentItem = checkIfInDb(db, iprcode, cprcode) ### check if product in db or return empty obj\n",
    "\n",
    "      ##### make a copy of original data\n",
    "      originalData = incumbentItem.data.copy()\n",
    "      ###### update data\n",
    "      updatedData = dbClass.updateWithDict(incumbentItem, product)\n",
    "\n",
    "      logging.info(f'incumbentBr is {incumbentItem.iprcode}\\n, prcode is {iprcode}')\n",
    "\n",
    "      # check for difference\n",
    "      try:\n",
    "        if updatedData.data != originalData:\n",
    "          logging.info(f'product {iprcode} has changed from \\n{originalData} \\n{updatedData.data}')\n",
    "          batch.save(updatedData)\n",
    "          itemsUpdated['success'] += 1\n",
    "        else:\n",
    "          logging.info(f'no change for {iprcode}')\n",
    "          itemsUpdated['skipped'] += 1\n",
    "      except Exception as e:\n",
    "        itemsUpdated['failure'] += 1\n",
    "        itemsUpdated['failureMessage'].append(e)\n",
    "\n",
    "    # log time taken\n",
    "#     itemsUpdated['timetaken(ms)'] = (datetime.now()- t0).total_seconds()*1000"
   ]
  },
  {
   "cell_type": "code",
   "execution_count": null,
   "metadata": {},
   "outputs": [],
   "source": [
    "#export\n",
    "@add_class_method(Updater)\n",
    "def valueUpdate2(cls, inputs:List[dict]):\n",
    "    ''' \n",
    "      check for difference and batch update the changes in product data\n",
    "    '''\n",
    "    #### setup #####\n",
    "    itemsUpdated = {'success':0, 'failure': 0, 'skipped': 0 ,'failureMessage':[], 'timetaken(ms)': 0}\n",
    "    t0 = datetime.now()\n",
    "    \n",
    "    ##### main #####\n",
    "    \n",
    "    ######validate input ###########\n",
    "    products = ValueUpdate2.validateInput(inputs).items\n",
    "    print(f'products are {products}')\n",
    "    print(f'time taken for validation  {ValueUpdate2.getTimeElasped(t0)} ms')\n",
    "    \n",
    "    ######dividing input into batch of 500###########\n",
    "    productBatches = ValueUpdate2.chunks(products, 500)\n",
    "    print(f'divided into chunks {ValueUpdate2.getTimeElasped(t0)} ms')\n",
    "    \n",
    "    ######try to load from cache########\n",
    "    db = cls.loadFromCache().fillna('none')\n",
    "    print(f'get all from s3 {ValueUpdate2.getTimeElasped(t0)} ms')\n",
    "    \n",
    "    ###### save to dynamodb ########\n",
    "    for productBatch in productBatches:\n",
    "      ValueUpdate2.saveBatchToDynamodb(productBatch, cls, db, itemsUpdated)\n",
    "    itemsUpdated['timetaken(ms)'] = (datetime.now()- t0).total_seconds()*1000\n",
    "    return itemsUpdated"
   ]
  },
  {
   "cell_type": "code",
   "execution_count": null,
   "metadata": {},
   "outputs": [
    {
     "name": "stderr",
     "output_type": "stream",
     "text": [
      "INFO:root:using accelerate endpoint\n",
      "INFO:root:using accelerate endpoint\n"
     ]
    },
    {
     "name": "stdout",
     "output_type": "stream",
     "text": [
      "products are [{'cprcode': 171670, 'iprcode': 171670, 'oprcode': 171670, 'ordertype': 'Y', 'pr_abb': 'JIRAPAT YOUNG KALE 2', 'pr_active': 'Y', 'pr_cgcode': '05', 'pr_code': '0171670', 'pr_dpcode': '19', 'pr_engname': 'JIRAAT YOUNG KALE 200 G.', 'pr_ggcode': '057', 'pr_market': 'JIRAPAT ยอดคะน้า 200 G.', 'pr_name': 'JIRAPAT ยอดคะน้า 200 G.', 'pr_puqty': '1', 'pr_sa_method': '1', 'pr_sucode1': 'CM845', 'pr_suref3': 'A', 'prtype': 'I', 'psqty': '1', 'pstype': '1'}]\n",
      "time taken for validation  -0.021606 ms\n",
      "divided into chunks -0.022067 ms\n",
      "loading hashkey allData-hash\n"
     ]
    },
    {
     "name": "stderr",
     "output_type": "stream",
     "text": [
      "<ipython-input-102-2bf83c032b62>:9: DeprecationWarning: The default dtype for empty Series will be 'object' instead of 'float64' in a future version. Specify a dtype explicitly to silence this warning.\n",
      "  incumbentSeries = pd.Series() ## if empty, create an empty series\n",
      "INFO:root:incumbentBr is \n",
      ", prcode is 171670\n",
      "INFO:root:product 171670 has changed from \n",
      "{} \n",
      "{'cprcode': 171670, 'iprcode': 171670, 'oprcode': 171670, 'ordertype': 'Y', 'pr_abb': 'JIRAPAT YOUNG KALE 2', 'pr_active': 'Y', 'pr_cgcode': '05', 'pr_code': '0171670', 'pr_dpcode': '19', 'pr_engname': 'JIRAAT YOUNG KALE 200 G.', 'pr_ggcode': '057', 'pr_market': 'JIRAPAT ยอดคะน้า 200 G.', 'pr_name': 'JIRAPAT ยอดคะน้า 200 G.', 'pr_puqty': '1', 'pr_sa_method': '1', 'pr_sucode1': 'CM845', 'pr_suref3': 'A', 'prtype': 'I', 'psqty': '1', 'pstype': '1'}\n"
     ]
    },
    {
     "name": "stdout",
     "output_type": "stream",
     "text": [
      "loaded hash is d0c0857f93ea21a99bc59a7c459dea6b8341d7cf\n",
      "data is still in sync, using local cache\n",
      "get all from s3 -0.262969 ms\n",
      "CPU times: user 57.1 ms, sys: 4.28 ms, total: 61.3 ms\n",
      "Wall time: 277 ms\n"
     ]
    },
    {
     "data": {
      "text/plain": [
       "{'success': 1,\n",
       " 'failure': 0,\n",
       " 'skipped': 0,\n",
       " 'failureMessage': [],\n",
       " 'timetaken(ms)': 277.072}"
      ]
     },
     "execution_count": null,
     "metadata": {},
     "output_type": "execute_result"
    }
   ],
   "source": [
    "%%time\n",
    "# sampleProducts = {'items':[{ 'cprcode': 171670, 'iprcode': 171670, 'oprcode': 171670, 'ordertype': 'Y', 'pr_abb': 'JIRAPAT YOUNG KALE 2', 'pr_active': 'Y', 'pr_cgcode': '05', 'pr_code': '0171670', 'pr_dpcode': '19', 'pr_engname': 'JIRAAT YOUNG KALE 200 G.', 'pr_ggcode': '057', 'pr_market': 'JIRAPAT ยอดคะน้า 200 G.', 'pr_name': 'JIRAPAT ยอดคะน้า 200 G.', 'pr_puqty': '1', 'pr_sa_method': '1', 'pr_sucode1': 'CM845', 'pr_suref3': 'A', 'prtype': 'I', 'psqty': '1', 'pstype': '1'}]}\n",
    "# products = ValueUpdate.from_dict({'items':sampleProducts}).to_dict()\n",
    "Tester.valueUpdate2(sampleProducts)\n",
    "# Tester.saveRemoteCache()"
   ]
  },
  {
   "cell_type": "code",
   "execution_count": null,
   "metadata": {},
   "outputs": [
    {
     "name": "stderr",
     "output_type": "stream",
     "text": [
      "INFO:root:using accelerate endpoint\n",
      "INFO:root:using accelerate endpoint\n"
     ]
    },
    {
     "name": "stdout",
     "output_type": "stream",
     "text": [
      "loading hashkey allData-hash\n",
      "loaded hash is d0c0857f93ea21a99bc59a7c459dea6b8341d7cf\n",
      "data is still in sync, using local cache\n"
     ]
    },
    {
     "data": {
      "text/html": [
       "<div>\n",
       "<style scoped>\n",
       "    .dataframe tbody tr th:only-of-type {\n",
       "        vertical-align: middle;\n",
       "    }\n",
       "\n",
       "    .dataframe tbody tr th {\n",
       "        vertical-align: top;\n",
       "    }\n",
       "\n",
       "    .dataframe thead th {\n",
       "        text-align: right;\n",
       "    }\n",
       "</style>\n",
       "<table border=\"1\" class=\"dataframe\">\n",
       "  <thead>\n",
       "    <tr style=\"text-align: right;\">\n",
       "      <th></th>\n",
       "      <th>cprcode</th>\n",
       "      <th>iprcode</th>\n",
       "      <th>oprcode</th>\n",
       "      <th>ordertype</th>\n",
       "      <th>pr_abb</th>\n",
       "      <th>pr_active</th>\n",
       "      <th>pr_cgcode</th>\n",
       "      <th>pr_code</th>\n",
       "      <th>pr_dpcode</th>\n",
       "      <th>pr_engname</th>\n",
       "      <th>pr_ggcode</th>\n",
       "      <th>pr_market</th>\n",
       "      <th>pr_name</th>\n",
       "      <th>pr_puqty</th>\n",
       "      <th>pr_sa_method</th>\n",
       "      <th>pr_sucode1</th>\n",
       "      <th>pr_suref3</th>\n",
       "      <th>prtype</th>\n",
       "      <th>psqty</th>\n",
       "      <th>pstype</th>\n",
       "    </tr>\n",
       "  </thead>\n",
       "  <tbody>\n",
       "    <tr>\n",
       "      <th>0</th>\n",
       "      <td>0171670</td>\n",
       "      <td>0171670</td>\n",
       "      <td>0171670</td>\n",
       "      <td>Y</td>\n",
       "      <td>JIRAPAT YOUG KALE 2</td>\n",
       "      <td>Y</td>\n",
       "      <td>05</td>\n",
       "      <td>0171670</td>\n",
       "      <td>19</td>\n",
       "      <td>JIRAPAT YOUNG KALE 200 G.</td>\n",
       "      <td>057</td>\n",
       "      <td>JIRAPAT ยอดคะน้า 200 G.</td>\n",
       "      <td>JIRAPAT ยอดคะน้า 200 G.</td>\n",
       "      <td>1</td>\n",
       "      <td>1</td>\n",
       "      <td>CM845</td>\n",
       "      <td>A</td>\n",
       "      <td>I</td>\n",
       "      <td>1</td>\n",
       "      <td>1</td>\n",
       "    </tr>\n",
       "  </tbody>\n",
       "</table>\n",
       "</div>"
      ],
      "text/plain": [
       "   cprcode  iprcode  oprcode ordertype               pr_abb pr_active  \\\n",
       "0  0171670  0171670  0171670         Y  JIRAPAT YOUG KALE 2         Y   \n",
       "\n",
       "  pr_cgcode  pr_code pr_dpcode                 pr_engname pr_ggcode  \\\n",
       "0        05  0171670        19  JIRAPAT YOUNG KALE 200 G.       057   \n",
       "\n",
       "                 pr_market                  pr_name pr_puqty pr_sa_method  \\\n",
       "0  JIRAPAT ยอดคะน้า 200 G.  JIRAPAT ยอดคะน้า 200 G.        1            1   \n",
       "\n",
       "   pr_sucode1 pr_suref3 prtype psqty pstype  \n",
       "0  CM845              A      I     1      1  "
      ]
     },
     "execution_count": null,
     "metadata": {},
     "output_type": "execute_result"
    }
   ],
   "source": [
    "db = Tester.loadFromCache()\n",
    "db"
   ]
  },
  {
   "cell_type": "code",
   "execution_count": null,
   "metadata": {},
   "outputs": [],
   "source": []
  }
 ],
 "metadata": {
  "kernelspec": {
   "display_name": "python38",
   "language": "python",
   "name": "python38"
  }
 },
 "nbformat": 4,
 "nbformat_minor": 4
}
