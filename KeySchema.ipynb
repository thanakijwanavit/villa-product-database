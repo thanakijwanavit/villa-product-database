{
 "cells": [
  {
   "cell_type": "code",
   "execution_count": null,
   "metadata": {},
   "outputs": [],
   "source": [
    "#default_exp schema"
   ]
  },
  {
   "cell_type": "markdown",
   "metadata": {},
   "source": [
    "# Schema module\n",
    "Schema of the database object"
   ]
  },
  {
   "cell_type": "code",
   "execution_count": null,
   "metadata": {},
   "outputs": [],
   "source": [
    "#hide\n",
    "import pickle, os\n",
    "\n",
    "os.environ['DATABASE_TABLE_NAME'] = 'product-table-dev-manual'\n",
    "os.environ['REGION'] = 'ap-southeast-1'\n",
    "os.environ['INVENTORY_BUCKET_NAME'] = 'product-bucket-dev-manual'\n",
    "os.environ['INPUT_BUCKET_NAME'] = 'input-product-bucket-dev-manual'\n",
    "os.environ['DAX_ENDPOINT'] = 'longtermcluster.vuu7lr.clustercfg.dax.apse1.cache.amazonaws.com:8111'\n",
    "os.environ['LINEKEY'] = '2uAfV4AoYglUGmKTAk2xNOm0aV2Ufgh1BQPvQl9vJd4'\n",
    "REGION = 'ap-southeast-1'"
   ]
  },
  {
   "cell_type": "code",
   "execution_count": null,
   "metadata": {},
   "outputs": [
    {
     "name": "stdout",
     "output_type": "stream",
     "text": [
      "longtermcluster.vuu7lr.clustercfg.dax.apse1.cache.amazonaws.com:8111\n"
     ]
    }
   ],
   "source": [
    "#export\n",
    "import os\n",
    "\n",
    "DATABASE_TABLE_NAME = os.environ.get('DATABASE_TABLE_NAME')\n",
    "INVENTORY_BUCKET_NAME = os.environ.get('INVENTORY_BUCKET_NAME')\n",
    "INPUT_BUCKET_NAME = os.environ.get('INPUT_BUCKET_NAME')\n",
    "REGION = os.environ.get('REGION') or 'ap-southeast-1'\n",
    "ACCESS_KEY_ID = os.environ.get('USER') or None\n",
    "SECRET_ACCESS_KEY = os.environ.get('PW') or None\n",
    "LINEKEY= os.environ.get('LINEKEY')\n",
    "  \n",
    "try:\n",
    "  DAX_ENDPOINT = os.environ['DAX_ENDPOINT']\n",
    "except KeyError as e:\n",
    "  DAX_ENDPOINT = None\n",
    "  print(f'dax endpoint missing {e}')\n",
    "  \n",
    "print(DAX_ENDPOINT)"
   ]
  },
  {
   "cell_type": "code",
   "execution_count": null,
   "metadata": {},
   "outputs": [
    {
     "name": "stdout",
     "output_type": "stream",
     "text": [
      "longtermcluster.vuu7lr.clustercfg.dax.apse1.cache.amazonaws.com:8111\n",
      "longtermcluster.vuu7lr.clustercfg.dax.apse1.cache.amazonaws.com:8111\n",
      "longtermcluster.vuu7lr.clustercfg.dax.apse1.cache.amazonaws.com:8111\n",
      "longtermcluster.vuu7lr.clustercfg.dax.apse1.cache.amazonaws.com:8111\n"
     ]
    }
   ],
   "source": [
    "from villaProductDatabase.database import ProductDatabase\n",
    "from villaProductDatabase.query import Querier"
   ]
  },
  {
   "cell_type": "code",
   "execution_count": null,
   "metadata": {},
   "outputs": [],
   "source": [
    "#export\n",
    "from nicHelper.wrappers import add_method, add_class_method, add_static_method\n",
    "from pynamodb.attributes import UnicodeAttribute, NumberAttribute, JSONAttribute, BooleanAttribute, BinaryAttribute\n",
    "from pynamodb.indexes import GlobalSecondaryIndex, AllProjection\n",
    "from pynamodb.models import Model\n",
    "from pprint import pformat"
   ]
  },
  {
   "cell_type": "markdown",
   "metadata": {},
   "source": [
    "## Create index helper function"
   ]
  },
  {
   "cell_type": "code",
   "execution_count": null,
   "metadata": {},
   "outputs": [],
   "source": [
    "#export\n",
    "def createIndex(name, rangeKeyName= None, indexName = None, HashKeyType = UnicodeAttribute, RangeKeyType = UnicodeAttribute):\n",
    "  class ReturnSecondaryIndex(GlobalSecondaryIndex):\n",
    "    class Meta:\n",
    "      index_name = indexName or name\n",
    "      projection = AllProjection()\n",
    "      dax_read_endpoints = [DAX_ENDPOINT] if DAX_ENDPOINT else None\n",
    "      dax_write_endpoints = [DAX_ENDPOINT] if DAX_ENDPOINT else None\n",
    "      read_capacity_units = 1\n",
    "      write_capacity_units = 1\n",
    "  setattr(ReturnSecondaryIndex, name, HashKeyType(hash_key = True))\n",
    "  if rangeKeyName:\n",
    "    setattr(ReturnSecondaryIndex, rangeKeyName, RangeKeyType(range_key = True))\n",
    "  return ReturnSecondaryIndex()"
   ]
  },
  {
   "cell_type": "code",
   "execution_count": null,
   "metadata": {},
   "outputs": [],
   "source": [
    "#export\n",
    "class KeySchema(Model):\n",
    "  iprcode = NumberAttribute(hash_key=True, default = 0)\n",
    "  cprcode = NumberAttribute(default = 0, range_key = True)\n",
    "  oprcode = NumberAttribute(default = 0)\n",
    "  pr_dpcode = UnicodeAttribute(default = 'none')\n",
    "  pr_barcode = UnicodeAttribute(default = 'none')\n",
    "  pr_barcode2 = UnicodeAttribute(default = 'none')\n",
    "  pr_sucode1 = UnicodeAttribute(default = 'none')\n",
    "  pr_suref3 = UnicodeAttribute(default= 'none')\n",
    "  pr_sa_method = UnicodeAttribute(default= 'none')\n",
    "  sellingPrice = NumberAttribute(default = 0)\n",
    "  lastUpdate = NumberAttribute( default = 0)\n",
    "  needsUpdate = UnicodeAttribute(default = 'Y')\n",
    "  data = JSONAttribute()\n",
    "\n",
    "  # indexes\n",
    "  needsUpdateIndex = createIndex('needsUpdate','sellingPrice')\n",
    "  cprcodeIndex = createIndex('cprcode', 'sellingPrice')\n",
    "  oprcodeIndex = createIndex('oprcode', 'sellingPrice')\n",
    "  pr_dpcodeIndex = createIndex('pr_dpcode', 'sellingPrice')\n",
    "  pr_barcodeIndex = createIndex('pr_barcode', 'sellingPrice')\n",
    "  pr_barcode2Index = createIndex('pr_barcode2', 'sellingPrice')\n",
    "  pr_suref3Index = createIndex('pr_suref3', 'sellingPrice')\n",
    "  pr_sa_methodIndex = createIndex('pr_sa_method', 'sellingPrice')\n",
    "  cprcodeOnlyIndex = createIndex('cprcode', indexName='cprcodeOnly')\n",
    "  \n",
    "  def __repr__(self):\n",
    "    return pformat(vars(self)[\"attribute_values\"])"
   ]
  },
  {
   "cell_type": "markdown",
   "metadata": {},
   "source": [
    "# Test"
   ]
  },
  {
   "cell_type": "code",
   "execution_count": null,
   "metadata": {},
   "outputs": [],
   "source": [
    "class Tester(Querier, KeySchema):\n",
    "  class Meta:\n",
    "    aws_access_key_id = ACCESS_KEY_ID\n",
    "    aws_secret_access_key = SECRET_ACCESS_KEY\n",
    "    table_name = DATABASE_TABLE_NAME\n",
    "    region = REGION\n",
    "    billing_mode='PAY_PER_REQUEST'\n",
    "    dax_read_endpoints = [DAX_ENDPOINT] if DAX_ENDPOINT else None\n",
    "    dax_write_endpoints = [DAX_ENDPOINT] if DAX_ENDPOINT else None\n",
    "  pass"
   ]
  },
  {
   "cell_type": "code",
   "execution_count": null,
   "metadata": {},
   "outputs": [
    {
     "data": {
      "text/html": [
       "<div>\n",
       "<style scoped>\n",
       "    .dataframe tbody tr th:only-of-type {\n",
       "        vertical-align: middle;\n",
       "    }\n",
       "\n",
       "    .dataframe tbody tr th {\n",
       "        vertical-align: top;\n",
       "    }\n",
       "\n",
       "    .dataframe thead th {\n",
       "        text-align: right;\n",
       "    }\n",
       "</style>\n",
       "<table border=\"1\" class=\"dataframe\">\n",
       "  <thead>\n",
       "    <tr style=\"text-align: right;\">\n",
       "      <th></th>\n",
       "      <th>cprcode</th>\n",
       "      <th>iprcode</th>\n",
       "      <th>oprcode</th>\n",
       "      <th>ordertype</th>\n",
       "      <th>pr_abb</th>\n",
       "      <th>pr_active</th>\n",
       "      <th>pr_cgcode</th>\n",
       "      <th>pr_dpcode</th>\n",
       "      <th>pr_engname</th>\n",
       "      <th>pr_ggcode</th>\n",
       "      <th>...</th>\n",
       "      <th>preorder_fix_date</th>\n",
       "      <th>preorder_relative_day</th>\n",
       "      <th>meta_title</th>\n",
       "      <th>meta_keywords</th>\n",
       "      <th>meta_description</th>\n",
       "      <th>depth</th>\n",
       "      <th>priority_score</th>\n",
       "      <th>product_attribute_id</th>\n",
       "      <th>product_attribute</th>\n",
       "      <th>related_products</th>\n",
       "    </tr>\n",
       "  </thead>\n",
       "  <tbody>\n",
       "    <tr>\n",
       "      <th>0</th>\n",
       "      <td>225407</td>\n",
       "      <td>225407</td>\n",
       "      <td>225407</td>\n",
       "      <td>Y</td>\n",
       "      <td>MOKU</td>\n",
       "      <td>True</td>\n",
       "      <td>87</td>\n",
       "      <td>21</td>\n",
       "      <td>KONJAC LINGUINI</td>\n",
       "      <td>010</td>\n",
       "      <td>...</td>\n",
       "      <td>NaN</td>\n",
       "      <td>NaN</td>\n",
       "      <td>NaN</td>\n",
       "      <td>NaN</td>\n",
       "      <td>NaN</td>\n",
       "      <td>NaN</td>\n",
       "      <td>NaN</td>\n",
       "      <td>NaN</td>\n",
       "      <td>NaN</td>\n",
       "      <td>NaN</td>\n",
       "    </tr>\n",
       "    <tr>\n",
       "      <th>1</th>\n",
       "      <td>241101</td>\n",
       "      <td>241101</td>\n",
       "      <td>241101</td>\n",
       "      <td>Y</td>\n",
       "      <td>BUMILGOCHUJANG</td>\n",
       "      <td>True</td>\n",
       "      <td>06</td>\n",
       "      <td>08</td>\n",
       "      <td>BUMILGOCHUJANG</td>\n",
       "      <td>006</td>\n",
       "      <td>...</td>\n",
       "      <td>NaN</td>\n",
       "      <td>NaN</td>\n",
       "      <td>NaN</td>\n",
       "      <td>NaN</td>\n",
       "      <td>NaN</td>\n",
       "      <td>NaN</td>\n",
       "      <td>NaN</td>\n",
       "      <td>NaN</td>\n",
       "      <td>NaN</td>\n",
       "      <td>NaN</td>\n",
       "    </tr>\n",
       "    <tr>\n",
       "      <th>2</th>\n",
       "      <td>190100</td>\n",
       "      <td>190100</td>\n",
       "      <td>190100</td>\n",
       "      <td>Y</td>\n",
       "      <td>WHITE SHIMEJI</td>\n",
       "      <td>True</td>\n",
       "      <td>05</td>\n",
       "      <td>19</td>\n",
       "      <td>WHITE SHIMEJI</td>\n",
       "      <td>143</td>\n",
       "      <td>...</td>\n",
       "      <td>NaN</td>\n",
       "      <td>NaN</td>\n",
       "      <td>NaN</td>\n",
       "      <td>NaN</td>\n",
       "      <td>NaN</td>\n",
       "      <td>NaN</td>\n",
       "      <td>NaN</td>\n",
       "      <td>NaN</td>\n",
       "      <td>NaN</td>\n",
       "      <td>NaN</td>\n",
       "    </tr>\n",
       "    <tr>\n",
       "      <th>3</th>\n",
       "      <td>62644</td>\n",
       "      <td>62644</td>\n",
       "      <td>62644</td>\n",
       "      <td>Y</td>\n",
       "      <td>STUTE APRICOT JAM430</td>\n",
       "      <td>True</td>\n",
       "      <td>07</td>\n",
       "      <td>08</td>\n",
       "      <td>STUTE APRICOT JAM 430 G.</td>\n",
       "      <td>002</td>\n",
       "      <td>...</td>\n",
       "      <td>NaN</td>\n",
       "      <td>NaN</td>\n",
       "      <td>NaN</td>\n",
       "      <td>NaN</td>\n",
       "      <td>NaN</td>\n",
       "      <td>NaN</td>\n",
       "      <td>NaN</td>\n",
       "      <td>NaN</td>\n",
       "      <td>NaN</td>\n",
       "      <td>NaN</td>\n",
       "    </tr>\n",
       "    <tr>\n",
       "      <th>4</th>\n",
       "      <td>192167</td>\n",
       "      <td>192167</td>\n",
       "      <td>192167</td>\n",
       "      <td>Y</td>\n",
       "      <td>**COLGATE TOTAL CHAR</td>\n",
       "      <td>True</td>\n",
       "      <td>10</td>\n",
       "      <td>09</td>\n",
       "      <td>**COLGATE TOTAL CHARCOAL DEEP CLEAN 150G</td>\n",
       "      <td>005</td>\n",
       "      <td>...</td>\n",
       "      <td>NaN</td>\n",
       "      <td>NaN</td>\n",
       "      <td>NaN</td>\n",
       "      <td>NaN</td>\n",
       "      <td>NaN</td>\n",
       "      <td>NaN</td>\n",
       "      <td>NaN</td>\n",
       "      <td>NaN</td>\n",
       "      <td>NaN</td>\n",
       "      <td>NaN</td>\n",
       "    </tr>\n",
       "  </tbody>\n",
       "</table>\n",
       "<p>5 rows × 75 columns</p>\n",
       "</div>"
      ],
      "text/plain": [
       "   cprcode  iprcode  oprcode ordertype                pr_abb  pr_active  \\\n",
       "0   225407   225407   225407         Y                  MOKU       True   \n",
       "1   241101   241101   241101         Y        BUMILGOCHUJANG       True   \n",
       "2   190100   190100   190100         Y         WHITE SHIMEJI       True   \n",
       "3    62644    62644    62644         Y  STUTE APRICOT JAM430       True   \n",
       "4   192167   192167   192167         Y  **COLGATE TOTAL CHAR       True   \n",
       "\n",
       "  pr_cgcode pr_dpcode                                pr_engname pr_ggcode  \\\n",
       "0        87        21                           KONJAC LINGUINI       010   \n",
       "1        06        08                            BUMILGOCHUJANG       006   \n",
       "2        05        19                             WHITE SHIMEJI       143   \n",
       "3        07        08                  STUTE APRICOT JAM 430 G.       002   \n",
       "4        10        09  **COLGATE TOTAL CHARCOAL DEEP CLEAN 150G       005   \n",
       "\n",
       "   ... preorder_fix_date preorder_relative_day meta_title meta_keywords  \\\n",
       "0  ...               NaN                   NaN        NaN           NaN   \n",
       "1  ...               NaN                   NaN        NaN           NaN   \n",
       "2  ...               NaN                   NaN        NaN           NaN   \n",
       "3  ...               NaN                   NaN        NaN           NaN   \n",
       "4  ...               NaN                   NaN        NaN           NaN   \n",
       "\n",
       "  meta_description depth priority_score product_attribute_id  \\\n",
       "0              NaN   NaN            NaN                  NaN   \n",
       "1              NaN   NaN            NaN                  NaN   \n",
       "2              NaN   NaN            NaN                  NaN   \n",
       "3              NaN   NaN            NaN                  NaN   \n",
       "4              NaN   NaN            NaN                  NaN   \n",
       "\n",
       "  product_attribute related_products  \n",
       "0               NaN              NaN  \n",
       "1               NaN              NaN  \n",
       "2               NaN              NaN  \n",
       "3               NaN              NaN  \n",
       "4               NaN              NaN  \n",
       "\n",
       "[5 rows x 75 columns]"
      ]
     },
     "execution_count": null,
     "metadata": {},
     "output_type": "execute_result"
    }
   ],
   "source": [
    "import pandas as pd\n",
    "from s3bz.s3bz import S3\n",
    "import boto3, json, yaml, sys, gzip\n",
    "df = pd.DataFrame([i.data for i in Tester.scan()])\n",
    "df.head()"
   ]
  },
  {
   "cell_type": "code",
   "execution_count": null,
   "metadata": {},
   "outputs": [
    {
     "data": {
      "text/plain": [
       "(45075, 75)"
      ]
     },
     "execution_count": null,
     "metadata": {},
     "output_type": "execute_result"
    }
   ],
   "source": [
    "df.shape"
   ]
  },
  {
   "cell_type": "code",
   "execution_count": null,
   "metadata": {},
   "outputs": [
    {
     "name": "stderr",
     "output_type": "stream",
     "text": [
      "<ipython-input-11-bcf26bf89ba1>:3: YAMLLoadWarning: calling yaml.load() without Loader=... is deprecated, as the default Loader is unsafe. Please read https://msg.pyyaml.org/load for full details.\n",
      "  onlineList = yaml.load(requests.get(ECOMMERCE_COL_LIST).content)\n"
     ]
    }
   ],
   "source": [
    "import requests\n",
    "ECOMMERCE_COL_LIST = 'https://raw.githubusercontent.com/thanakijwanavit/villaMasterSchema/dev/product/ecommerceColList.yaml'\n",
    "onlineList = yaml.load(requests.get(ECOMMERCE_COL_LIST).content)"
   ]
  },
  {
   "cell_type": "code",
   "execution_count": null,
   "metadata": {},
   "outputs": [
    {
     "name": "stdout",
     "output_type": "stream",
     "text": [
      "shape is: (19108, 11)\n",
      "size is: 3.272721 Mb\n"
     ]
    }
   ],
   "source": [
    "condition = df['master_online'] == True\n",
    "condition2 = df['hema_name_en'] != ''\n",
    "onlineDf = df[condition & condition2].loc[:,onlineList]\n",
    "print('shape is:',onlineDf.shape)\n",
    "# get size\n",
    "print('size is:',sys.getsizeof(onlineDf.to_json(orient='split'))/1e6, 'Mb')"
   ]
  },
  {
   "cell_type": "code",
   "execution_count": null,
   "metadata": {},
   "outputs": [],
   "source": [
    "key = 'onlineData'\n",
    "bucket = INVENTORY_BUCKET_NAME\n",
    "path = '/tmp/tmp.json'"
   ]
  },
  {
   "cell_type": "code",
   "execution_count": null,
   "metadata": {},
   "outputs": [],
   "source": [
    "## save to s3\n",
    "from s3bz.s3bz import S3, ExtraArgs\n",
    "\n",
    "\n",
    "onlineDf.to_json(path ,orient='split',compression='gzip')\n",
    "\n",
    "S3.saveFile(key=key,path=path,bucket=bucket,\n",
    "            ExtraArgs = {**ExtraArgs.gzip, **ExtraArgs.publicRead })\n",
    "\n",
    "# s3 = boto3.resource('s3')\n",
    "# onlineDict = onlineDf.to_dict(orient='split')\n",
    "# onlineJson = json.dumps(onlineDict)\n",
    "# onlineGzip = gzip.compress(onlineJson.encode())\n",
    "\n",
    "# with open(path, 'wb') as f:\n",
    "#   f.write(onlineGzip)\n",
    "  \n",
    "# s3.meta.client.upload_file(\n",
    "#   Filename=path,\n",
    "#   Bucket=bucket,\n",
    "#   Key=key,\n",
    "#   ExtraArgs={'ContentType': 'application/json', 'ContentEncoding':'gzip','ACL':'public-read'})"
   ]
  },
  {
   "cell_type": "code",
   "execution_count": null,
   "metadata": {},
   "outputs": [
    {
     "data": {
      "text/html": [
       "<div>\n",
       "<style scoped>\n",
       "    .dataframe tbody tr th:only-of-type {\n",
       "        vertical-align: middle;\n",
       "    }\n",
       "\n",
       "    .dataframe tbody tr th {\n",
       "        vertical-align: top;\n",
       "    }\n",
       "\n",
       "    .dataframe thead th {\n",
       "        text-align: right;\n",
       "    }\n",
       "</style>\n",
       "<table border=\"1\" class=\"dataframe\">\n",
       "  <thead>\n",
       "    <tr style=\"text-align: right;\">\n",
       "      <th></th>\n",
       "      <th>cprcode</th>\n",
       "      <th>iprcode</th>\n",
       "      <th>psqty</th>\n",
       "      <th>pr_country_en</th>\n",
       "      <th>online_category_l1_en</th>\n",
       "      <th>online_category_l2_en</th>\n",
       "      <th>online_category_l3_en</th>\n",
       "      <th>hema_brand_en</th>\n",
       "      <th>hema_sizedesc</th>\n",
       "      <th>hema_name_en</th>\n",
       "      <th>hema_name_th</th>\n",
       "    </tr>\n",
       "  </thead>\n",
       "  <tbody>\n",
       "  </tbody>\n",
       "</table>\n",
       "</div>"
      ],
      "text/plain": [
       "Empty DataFrame\n",
       "Columns: [cprcode, iprcode, psqty, pr_country_en, online_category_l1_en, online_category_l2_en, online_category_l3_en, hema_brand_en, hema_sizedesc, hema_name_en, hema_name_th]\n",
       "Index: []"
      ]
     },
     "execution_count": null,
     "metadata": {},
     "output_type": "execute_result"
    }
   ],
   "source": [
    "onlineDf[onlineDf['hema_name_en'] == '']"
   ]
  },
  {
   "cell_type": "code",
   "execution_count": null,
   "metadata": {},
   "outputs": [
    {
     "data": {
      "text/html": [
       "<div>\n",
       "<style scoped>\n",
       "    .dataframe tbody tr th:only-of-type {\n",
       "        vertical-align: middle;\n",
       "    }\n",
       "\n",
       "    .dataframe tbody tr th {\n",
       "        vertical-align: top;\n",
       "    }\n",
       "\n",
       "    .dataframe thead th {\n",
       "        text-align: right;\n",
       "    }\n",
       "</style>\n",
       "<table border=\"1\" class=\"dataframe\">\n",
       "  <thead>\n",
       "    <tr style=\"text-align: right;\">\n",
       "      <th></th>\n",
       "      <th>cprcode</th>\n",
       "      <th>iprcode</th>\n",
       "      <th>psqty</th>\n",
       "      <th>pr_country_en</th>\n",
       "      <th>online_category_l1_en</th>\n",
       "      <th>online_category_l2_en</th>\n",
       "      <th>online_category_l3_en</th>\n",
       "      <th>hema_brand_en</th>\n",
       "      <th>hema_sizedesc</th>\n",
       "      <th>hema_name_en</th>\n",
       "      <th>hema_name_th</th>\n",
       "    </tr>\n",
       "  </thead>\n",
       "  <tbody>\n",
       "    <tr>\n",
       "      <th>22068</th>\n",
       "      <td>204731</td>\n",
       "      <td>204731</td>\n",
       "      <td>1</td>\n",
       "      <td>France</td>\n",
       "      <td>Delicatessen &amp; Eggs</td>\n",
       "      <td>Salmon &amp; Seafood</td>\n",
       "      <td>Smoked Seafood</td>\n",
       "      <td>Labeyrie</td>\n",
       "      <td>80g</td>\n",
       "      <td>Salmon Roe Jar</td>\n",
       "      <td>Salmon Roe Jar</td>\n",
       "    </tr>\n",
       "  </tbody>\n",
       "</table>\n",
       "</div>"
      ],
      "text/plain": [
       "       cprcode  iprcode  psqty pr_country_en online_category_l1_en  \\\n",
       "22068   204731   204731      1        France   Delicatessen & Eggs   \n",
       "\n",
       "      online_category_l2_en online_category_l3_en hema_brand_en hema_sizedesc  \\\n",
       "22068      Salmon & Seafood        Smoked Seafood      Labeyrie           80g   \n",
       "\n",
       "         hema_name_en    hema_name_th  \n",
       "22068  Salmon Roe Jar  Salmon Roe Jar  "
      ]
     },
     "execution_count": null,
     "metadata": {},
     "output_type": "execute_result"
    }
   ],
   "source": [
    "onlineDf[onlineDf['cprcode'] == 204731]"
   ]
  },
  {
   "cell_type": "code",
   "execution_count": null,
   "metadata": {},
   "outputs": [
    {
     "data": {
      "text/html": [
       "<div>\n",
       "<style scoped>\n",
       "    .dataframe tbody tr th:only-of-type {\n",
       "        vertical-align: middle;\n",
       "    }\n",
       "\n",
       "    .dataframe tbody tr th {\n",
       "        vertical-align: top;\n",
       "    }\n",
       "\n",
       "    .dataframe thead th {\n",
       "        text-align: right;\n",
       "    }\n",
       "</style>\n",
       "<table border=\"1\" class=\"dataframe\">\n",
       "  <thead>\n",
       "    <tr style=\"text-align: right;\">\n",
       "      <th></th>\n",
       "      <th>cprcode</th>\n",
       "      <th>iprcode</th>\n",
       "      <th>psqty</th>\n",
       "      <th>pr_country_en</th>\n",
       "      <th>online_category_l1_en</th>\n",
       "      <th>online_category_l2_en</th>\n",
       "      <th>online_category_l3_en</th>\n",
       "      <th>hema_brand_en</th>\n",
       "      <th>hema_sizedesc</th>\n",
       "      <th>hema_name_en</th>\n",
       "      <th>hema_name_th</th>\n",
       "    </tr>\n",
       "  </thead>\n",
       "  <tbody>\n",
       "    <tr>\n",
       "      <th>3335</th>\n",
       "      <td>242687</td>\n",
       "      <td>242687</td>\n",
       "      <td>1</td>\n",
       "      <td></td>\n",
       "      <td>Health &amp; Beauty</td>\n",
       "      <td>Body &amp; Facial Skincare</td>\n",
       "      <td>Shower &amp; Body Wash</td>\n",
       "      <td>Glow Lab</td>\n",
       "      <td>400ml</td>\n",
       "      <td>Coconut &amp; Sandalwood Body Wash</td>\n",
       "      <td></td>\n",
       "    </tr>\n",
       "  </tbody>\n",
       "</table>\n",
       "</div>"
      ],
      "text/plain": [
       "      cprcode  iprcode  psqty pr_country_en online_category_l1_en  \\\n",
       "3335   242687   242687      1                     Health & Beauty   \n",
       "\n",
       "       online_category_l2_en online_category_l3_en hema_brand_en  \\\n",
       "3335  Body & Facial Skincare    Shower & Body Wash      Glow Lab   \n",
       "\n",
       "     hema_sizedesc                    hema_name_en hema_name_th  \n",
       "3335         400ml  Coconut & Sandalwood Body Wash               "
      ]
     },
     "execution_count": null,
     "metadata": {},
     "output_type": "execute_result"
    }
   ],
   "source": [
    "dfReal = pd.read_json('https://product-bucket-dev-manual.s3-ap-southeast-1.amazonaws.com/onlineData',orient='split', compression='gzip')\n",
    "dfReal[dfReal['cprcode']==242687]"
   ]
  },
  {
   "cell_type": "code",
   "execution_count": null,
   "metadata": {},
   "outputs": [],
   "source": []
  }
 ],
 "metadata": {
  "kernelspec": {
   "display_name": "python38",
   "language": "python",
   "name": "python38"
  }
 },
 "nbformat": 4,
 "nbformat_minor": 4
}
