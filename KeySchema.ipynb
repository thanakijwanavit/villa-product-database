{
 "cells": [
  {
   "cell_type": "code",
   "execution_count": null,
   "metadata": {},
   "outputs": [],
   "source": [
    "#default_exp schema"
   ]
  },
  {
   "cell_type": "markdown",
   "metadata": {},
   "source": [
    "# Schema module\n",
    "Schema of the database object"
   ]
  },
  {
   "cell_type": "code",
   "execution_count": null,
   "metadata": {},
   "outputs": [],
   "source": [
    "#hide\n",
    "import pickle, os\n",
    "\n",
    "os.environ['DATABASE_TABLE_NAME'] = 'product-table-dev-manual'\n",
    "os.environ['REGION'] = 'ap-southeast-1'\n",
    "os.environ['INVENTORY_BUCKET_NAME'] = 'product-bucket-dev-manual'\n",
    "os.environ['INPUT_BUCKET_NAME'] = 'input-product-bucket-dev-manual'\n",
    "os.environ['DAX_ENDPOINT'] = 'longtermcluster.vuu7lr.clustercfg.dax.apse1.cache.amazonaws.com:8111'\n",
    "os.environ['LINEKEY'] = '2uAfV4AoYglUGmKTAk2xNOm0aV2Ufgh1BQPvQl9vJd4'\n",
    "REGION = 'ap-southeast-1'"
   ]
  },
  {
   "cell_type": "code",
   "execution_count": null,
   "metadata": {},
   "outputs": [
    {
     "name": "stdout",
     "output_type": "stream",
     "text": [
      "longtermcluster.vuu7lr.clustercfg.dax.apse1.cache.amazonaws.com:8111\n"
     ]
    }
   ],
   "source": [
    "#export\n",
    "import os\n",
    "\n",
    "DATABASE_TABLE_NAME = os.environ.get('DATABASE_TABLE_NAME')\n",
    "INVENTORY_BUCKET_NAME = os.environ.get('INVENTORY_BUCKET_NAME')\n",
    "INPUT_BUCKET_NAME = os.environ.get('INPUT_BUCKET_NAME')\n",
    "REGION = os.environ.get('REGION') or 'ap-southeast-1'\n",
    "ACCESS_KEY_ID = os.environ.get('USER') or None\n",
    "SECRET_ACCESS_KEY = os.environ.get('PW') or None\n",
    "LINEKEY= os.environ.get('LINEKEY')\n",
    "  \n",
    "try:\n",
    "  DAX_ENDPOINT = os.environ['DAX_ENDPOINT']\n",
    "except KeyError as e:\n",
    "  DAX_ENDPOINT = None\n",
    "  print(f'dax endpoint missing {e}')\n",
    "  \n",
    "print(DAX_ENDPOINT)"
   ]
  },
  {
   "cell_type": "code",
   "execution_count": null,
   "metadata": {},
   "outputs": [
    {
     "name": "stdout",
     "output_type": "stream",
     "text": [
      "longtermcluster.vuu7lr.clustercfg.dax.apse1.cache.amazonaws.com:8111\n",
      "longtermcluster.vuu7lr.clustercfg.dax.apse1.cache.amazonaws.com:8111\n",
      "longtermcluster.vuu7lr.clustercfg.dax.apse1.cache.amazonaws.com:8111\n"
     ]
    }
   ],
   "source": [
    "from villaProductDatabase.database import ProductDatabase\n",
    "from villaProductDatabase.query import Querier"
   ]
  },
  {
   "cell_type": "code",
   "execution_count": null,
   "metadata": {},
   "outputs": [],
   "source": [
    "#export\n",
    "from nicHelper.wrappers import add_method, add_class_method, add_static_method\n",
    "from pynamodb.attributes import UnicodeAttribute, NumberAttribute, JSONAttribute, BooleanAttribute, BinaryAttribute\n",
    "from pynamodb.indexes import GlobalSecondaryIndex, AllProjection\n",
    "from pynamodb.models import Model\n",
    "from pprint import pformat"
   ]
  },
  {
   "cell_type": "markdown",
   "metadata": {},
   "source": [
    "## Create index helper function"
   ]
  },
  {
   "cell_type": "code",
   "execution_count": null,
   "metadata": {},
   "outputs": [],
   "source": [
    "#export\n",
    "def createIndex(name, rangeKeyName= None, indexName = None, HashKeyType = UnicodeAttribute, RangeKeyType = UnicodeAttribute):\n",
    "  class ReturnSecondaryIndex(GlobalSecondaryIndex):\n",
    "    class Meta:\n",
    "      index_name = indexName or name\n",
    "      projection = AllProjection()\n",
    "      dax_read_endpoints = [DAX_ENDPOINT] if DAX_ENDPOINT else None\n",
    "      dax_write_endpoints = [DAX_ENDPOINT] if DAX_ENDPOINT else None\n",
    "      read_capacity_units = 1\n",
    "      write_capacity_units = 1\n",
    "  setattr(ReturnSecondaryIndex, name, HashKeyType(hash_key = True))\n",
    "  if rangeKeyName:\n",
    "    setattr(ReturnSecondaryIndex, rangeKeyName, RangeKeyType(range_key = True))\n",
    "  return ReturnSecondaryIndex()"
   ]
  },
  {
   "cell_type": "code",
   "execution_count": null,
   "metadata": {},
   "outputs": [],
   "source": [
    "#export\n",
    "class KeySchema(Model):\n",
    "  iprcode = UnicodeAttribute(hash_key=True, default = '')\n",
    "  cprcode = UnicodeAttribute(default = 'none', range_key = True)\n",
    "  oprcode = UnicodeAttribute(default = 'none')\n",
    "  pr_dpcode = UnicodeAttribute(default = 'none')\n",
    "  pr_barcode = UnicodeAttribute(default = 'none')\n",
    "  pr_barcode2 = UnicodeAttribute(default = 'none')\n",
    "  pr_sucode1 = UnicodeAttribute(default = 'none')\n",
    "  pr_suref3 = UnicodeAttribute(default= 'none')\n",
    "  pr_sa_method = UnicodeAttribute(default= 'none')\n",
    "  sellingPrice = NumberAttribute(default = 0)\n",
    "  lastUpdate = NumberAttribute( default = 0)\n",
    "  needsUpdate = UnicodeAttribute(default = 'Y')\n",
    "  data = JSONAttribute()\n",
    "\n",
    "  # indexes\n",
    "  needsUpdateIndex = createIndex('needsUpdate','sellingPrice')\n",
    "  cprcodeIndex = createIndex('cprcode', 'sellingPrice')\n",
    "  oprcodeIndex = createIndex('oprcode', 'sellingPrice')\n",
    "  pr_dpcodeIndex = createIndex('pr_dpcode', 'sellingPrice')\n",
    "  pr_barcodeIndex = createIndex('pr_barcode', 'sellingPrice')\n",
    "  pr_barcode2Index = createIndex('pr_barcode2', 'sellingPrice')\n",
    "  pr_suref3Index = createIndex('pr_suref3', 'sellingPrice')\n",
    "  pr_sa_methodIndex = createIndex('pr_sa_method', 'sellingPrice')\n",
    "  cprcodeOnlyIndex = createIndex('cprcode', indexName='cprcodeOnly')\n",
    "  \n",
    "  def __repr__(self):\n",
    "    return pformat(vars(self)[\"attribute_values\"])"
   ]
  },
  {
   "cell_type": "code",
   "execution_count": null,
   "metadata": {},
   "outputs": [],
   "source": [
    "class Tester(Querier, KeySchema):\n",
    "  class Meta:\n",
    "    aws_access_key_id = ACCESS_KEY_ID\n",
    "    aws_secret_access_key = SECRET_ACCESS_KEY\n",
    "    table_name = DATABASE_TABLE_NAME\n",
    "    region = REGION\n",
    "    billing_mode='PAY_PER_REQUEST'\n",
    "    dax_read_endpoints = [DAX_ENDPOINT] if DAX_ENDPOINT else None\n",
    "    dax_write_endpoints = [DAX_ENDPOINT] if DAX_ENDPOINT else None\n",
    "  pass"
   ]
  },
  {
   "cell_type": "code",
   "execution_count": null,
   "metadata": {},
   "outputs": [
    {
     "data": {
      "text/plain": [
       "[{'cprcode': '0140942',\n",
       "  'data': {'content_en': '0140942 Fragata Olive Pomace Oil 2L cooking oil, oil '\n",
       "                         'cooking,Fragata Olive Pomace Oil, Fragata, Olive '\n",
       "                         'purity pomace oil, Omace oil olive pomace oil, '\n",
       "                         'cooking olive pomace oil, olive pomace oil cooking',\n",
       "           'content_th': 'Fragata Olive Pomace Oil 2L',\n",
       "           'cprcode': '0140942',\n",
       "           'hema_brand_en': 'Fragata',\n",
       "           'hema_brand_th': 'Fragata',\n",
       "           'hema_name_en': 'Olive Pomace Oil',\n",
       "           'hema_name_th': 'Olive Pomace Oil',\n",
       "           'hema_sizedesc': '2L',\n",
       "           'iprcode': '0140942',\n",
       "           'online_category_l1_en': 'Grocery',\n",
       "           'online_category_l1_th': 'สินค้าบริโภค',\n",
       "           'online_category_l2_en': 'Oils & Vinegar',\n",
       "           'online_category_l2_th': 'น้ำมันและน้ำส้มสายชู',\n",
       "           'online_category_l3_en': '',\n",
       "           'online_category_l3_th': '',\n",
       "           'oprcode': '0140942',\n",
       "           'ordertype': 'Y',\n",
       "           'pr_abb': 'FRAGATA OLIVE POMACE',\n",
       "           'pr_active': 'Y',\n",
       "           'pr_barcode': '8410134118601',\n",
       "           'pr_barcode2': '841013411860',\n",
       "           'pr_brand_en': 'Fragata',\n",
       "           'pr_brand_th': 'Fragata',\n",
       "           'pr_cgcode': '01',\n",
       "           'pr_code': '0140942',\n",
       "           'pr_country_en': '',\n",
       "           'pr_country_th': '',\n",
       "           'pr_dpcode': '08',\n",
       "           'pr_engname': 'FRAGATA OLIVE POMACE OIL 2 LITE',\n",
       "           'pr_filter_en': 'Oils  Vinegar,Grocery',\n",
       "           'pr_filter_th': 'Oils  Vinegar,Grocery',\n",
       "           'pr_ggcode': '008',\n",
       "           'pr_keyword_en': 'cooking oil, oil cooking,Fragata Olive Pomace Oil, '\n",
       "                            'Fragata, Olive purity pomace oil, Omace oil olive '\n",
       "                            'pomace oil, cooking olive pomace oil, olive pomace '\n",
       "                            'oil cooking',\n",
       "           'pr_keyword_th': '',\n",
       "           'pr_market': 'FRAGATA น้ำมันมะกอกธรรมชาติผสม',\n",
       "           'pr_name': 'FRAGATA น้ำมันมะกอกธรรมชาติ-กรรมวิธี 2 ลิตร',\n",
       "           'pr_name_en': 'FRAGATA OLIVE POMACE OIL 2 LITE',\n",
       "           'pr_name_th': 'FRAGATA น้ำมันมะกอกธรรมชาติ-กรรมวิธี 2 ลิตร',\n",
       "           'pr_online_name_en': 'Fragata Olive Pomace Oil 2L',\n",
       "           'pr_online_name_th': 'Fragata Olive Pomace Oil 2L',\n",
       "           'pr_puqty': '8.00',\n",
       "           'pr_sa_method': '1',\n",
       "           'pr_sucode1': '1036',\n",
       "           'pr_suref3': 'A',\n",
       "           'prtype': 'I',\n",
       "           'psqty': '1',\n",
       "           'pstype': '1',\n",
       "           'sort_weight': '0',\n",
       "           'villa_category_l1_en': 'Dry Grocery',\n",
       "           'villa_category_l2_en': 'Grocery',\n",
       "           'villa_category_l3_en': 'Oil & Seasoning & Sauce',\n",
       "           'villa_category_l4_en': 'Cooking Oil'},\n",
       "  'iprcode': '0140942',\n",
       "  'lastUpdate': 0,\n",
       "  'needsUpdate': 'N',\n",
       "  'oprcode': '0140942',\n",
       "  'pr_barcode': '8410134118601',\n",
       "  'pr_barcode2': '841013411860',\n",
       "  'pr_dpcode': '08',\n",
       "  'pr_sa_method': '1',\n",
       "  'pr_sucode1': '1036',\n",
       "  'pr_suref3': 'A',\n",
       "  'sellingPrice': 0}]"
      ]
     },
     "execution_count": null,
     "metadata": {},
     "output_type": "execute_result"
    }
   ],
   "source": [
    "list(Tester.scan(limit=1))"
   ]
  },
  {
   "cell_type": "code",
   "execution_count": null,
   "metadata": {},
   "outputs": [],
   "source": []
  }
 ],
 "metadata": {
  "kernelspec": {
   "display_name": "python38",
   "language": "python",
   "name": "python38"
  }
 },
 "nbformat": 4,
 "nbformat_minor": 4
}
