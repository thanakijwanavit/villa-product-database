{
 "cells": [
  {
   "cell_type": "code",
   "execution_count": null,
   "metadata": {},
   "outputs": [],
   "source": [
    "#default_exp schema"
   ]
  },
  {
   "cell_type": "markdown",
   "metadata": {},
   "source": [
    "# Schema module\n",
    "Schema of the database object"
   ]
  },
  {
   "cell_type": "code",
   "execution_count": null,
   "metadata": {},
   "outputs": [],
   "source": [
    "#hide\n",
    "import pickle, os\n",
    "\n",
    "os.environ['DATABASE_TABLE_NAME'] = 'product-table-dev-manual'\n",
    "os.environ['REGION'] = 'ap-southeast-1'\n",
    "os.environ['INVENTORY_BUCKET_NAME'] = 'product-bucket-dev-manual'\n",
    "os.environ['INPUT_BUCKET_NAME'] = 'input-product-bucket-dev-manual'\n",
    "os.environ['DAX_ENDPOINT'] = 'longtermcluster.vuu7lr.clustercfg.dax.apse1.cache.amazonaws.com:8111'\n",
    "os.environ['LINEKEY'] = '2uAfV4AoYglUGmKTAk2xNOm0aV2Ufgh1BQPvQl9vJd4'\n",
    "REGION = 'ap-southeast-1'"
   ]
  },
  {
   "cell_type": "code",
   "execution_count": null,
   "metadata": {},
   "outputs": [
    {
     "name": "stdout",
     "output_type": "stream",
     "text": [
      "longtermcluster.vuu7lr.clustercfg.dax.apse1.cache.amazonaws.com:8111\n"
     ]
    }
   ],
   "source": [
    "#export\n",
    "import os\n",
    "\n",
    "DATABASE_TABLE_NAME = os.environ.get('DATABASE_TABLE_NAME')\n",
    "INVENTORY_BUCKET_NAME = os.environ.get('INVENTORY_BUCKET_NAME')\n",
    "INPUT_BUCKET_NAME = os.environ.get('INPUT_BUCKET_NAME')\n",
    "REGION = os.environ.get('REGION') or 'ap-southeast-1'\n",
    "ACCESS_KEY_ID = os.environ.get('USER') or None\n",
    "SECRET_ACCESS_KEY = os.environ.get('PW') or None\n",
    "LINEKEY= os.environ.get('LINEKEY')\n",
    "  \n",
    "try:\n",
    "  DAX_ENDPOINT = os.environ['DAX_ENDPOINT']\n",
    "except KeyError as e:\n",
    "  DAX_ENDPOINT = None\n",
    "  print(f'dax endpoint missing {e}')\n",
    "  \n",
    "print(DAX_ENDPOINT)"
   ]
  },
  {
   "cell_type": "code",
   "execution_count": null,
   "metadata": {},
   "outputs": [
    {
     "name": "stdout",
     "output_type": "stream",
     "text": [
      "longtermcluster.vuu7lr.clustercfg.dax.apse1.cache.amazonaws.com:8111\n",
      "longtermcluster.vuu7lr.clustercfg.dax.apse1.cache.amazonaws.com:8111\n",
      "longtermcluster.vuu7lr.clustercfg.dax.apse1.cache.amazonaws.com:8111\n",
      "longtermcluster.vuu7lr.clustercfg.dax.apse1.cache.amazonaws.com:8111\n"
     ]
    }
   ],
   "source": [
    "from villaProductDatabase.database import ProductDatabase\n",
    "from villaProductDatabase.query import Querier"
   ]
  },
  {
   "cell_type": "code",
   "execution_count": null,
   "metadata": {},
   "outputs": [],
   "source": [
    "#export\n",
    "from nicHelper.wrappers import add_method, add_class_method, add_static_method\n",
    "from pynamodb.attributes import UnicodeAttribute, NumberAttribute, JSONAttribute, BooleanAttribute, BinaryAttribute\n",
    "from pynamodb.indexes import GlobalSecondaryIndex, AllProjection\n",
    "from pynamodb.models import Model\n",
    "from pprint import pformat"
   ]
  },
  {
   "cell_type": "markdown",
   "metadata": {},
   "source": [
    "## Create index helper function"
   ]
  },
  {
   "cell_type": "code",
   "execution_count": null,
   "metadata": {},
   "outputs": [],
   "source": [
    "#export\n",
    "def createIndex(name, rangeKeyName= None, indexName = None, HashKeyType = UnicodeAttribute, RangeKeyType = UnicodeAttribute):\n",
    "  class ReturnSecondaryIndex(GlobalSecondaryIndex):\n",
    "    class Meta:\n",
    "      index_name = indexName or name\n",
    "      projection = AllProjection()\n",
    "      dax_read_endpoints = [DAX_ENDPOINT] if DAX_ENDPOINT else None\n",
    "      dax_write_endpoints = [DAX_ENDPOINT] if DAX_ENDPOINT else None\n",
    "      read_capacity_units = 1\n",
    "      write_capacity_units = 1\n",
    "  setattr(ReturnSecondaryIndex, name, HashKeyType(hash_key = True))\n",
    "  if rangeKeyName:\n",
    "    setattr(ReturnSecondaryIndex, rangeKeyName, RangeKeyType(range_key = True))\n",
    "  return ReturnSecondaryIndex()"
   ]
  },
  {
   "cell_type": "code",
   "execution_count": null,
   "metadata": {},
   "outputs": [],
   "source": [
    "#export\n",
    "class KeySchema(Model):\n",
    "  iprcode = NumberAttribute(hash_key=True, default = 0)\n",
    "  cprcode = NumberAttribute(default = 0, range_key = True)\n",
    "  oprcode = NumberAttribute(default = 0)\n",
    "  pr_dpcode = UnicodeAttribute(default = 'none')\n",
    "  pr_barcode = NumberAttribute(default = 0)\n",
    "  pr_barcode2 = NumberAttribute(default = 0)\n",
    "  pr_sucode1 = UnicodeAttribute(default = 'none')\n",
    "  pr_suref3 = UnicodeAttribute(default= 'none')\n",
    "  pr_sa_method = UnicodeAttribute(default= 'none')\n",
    "  sellingPrice = NumberAttribute(default = 0)\n",
    "  lastUpdate = NumberAttribute( default = 0)\n",
    "  needsUpdate = UnicodeAttribute(default = 'Y')\n",
    "  data = JSONAttribute()\n",
    "\n",
    "  # indexes\n",
    "  needsUpdateIndex = createIndex('needsUpdate','sellingPrice')\n",
    "  cprcodeIndex = createIndex('cprcode', 'sellingPrice')\n",
    "  oprcodeIndex = createIndex('oprcode', 'sellingPrice')\n",
    "  pr_dpcodeIndex = createIndex('pr_dpcode', 'sellingPrice')\n",
    "  pr_barcodeIndex = createIndex('pr_barcode', 'sellingPrice')\n",
    "  pr_barcode2Index = createIndex('pr_barcode2', 'sellingPrice')\n",
    "  pr_suref3Index = createIndex('pr_suref3', 'sellingPrice')\n",
    "  pr_sa_methodIndex = createIndex('pr_sa_method', 'sellingPrice')\n",
    "  cprcodeOnlyIndex = createIndex('cprcode', indexName='cprcodeOnly')\n",
    "  \n",
    "  def __repr__(self):\n",
    "    return pformat(vars(self)[\"attribute_values\"])"
   ]
  },
  {
   "cell_type": "code",
   "execution_count": null,
   "metadata": {},
   "outputs": [],
   "source": [
    "class Tester(Querier, KeySchema):\n",
    "  class Meta:\n",
    "    aws_access_key_id = ACCESS_KEY_ID\n",
    "    aws_secret_access_key = SECRET_ACCESS_KEY\n",
    "    table_name = DATABASE_TABLE_NAME\n",
    "    region = REGION\n",
    "    billing_mode='PAY_PER_REQUEST'\n",
    "    dax_read_endpoints = [DAX_ENDPOINT] if DAX_ENDPOINT else None\n",
    "    dax_write_endpoints = [DAX_ENDPOINT] if DAX_ENDPOINT else None\n",
    "  pass"
   ]
  },
  {
   "cell_type": "code",
   "execution_count": null,
   "metadata": {},
   "outputs": [
    {
     "data": {
      "text/plain": [
       "[]"
      ]
     },
     "execution_count": null,
     "metadata": {},
     "output_type": "execute_result"
    }
   ],
   "source": [
    "list(Tester.scan(limit=1))"
   ]
  },
  {
   "cell_type": "code",
   "execution_count": null,
   "metadata": {},
   "outputs": [],
   "source": []
  }
 ],
 "metadata": {
  "kernelspec": {
   "display_name": "python38",
   "language": "python",
   "name": "python38"
  }
 },
 "nbformat": 4,
 "nbformat_minor": 4
}
