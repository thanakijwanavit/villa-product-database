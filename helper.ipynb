{
 "cells": [
  {
   "cell_type": "code",
   "execution_count": 1,
   "metadata": {},
   "outputs": [],
   "source": [
    "#default_exp helper"
   ]
  },
  {
   "cell_type": "code",
   "execution_count": 2,
   "metadata": {},
   "outputs": [],
   "source": [
    "#export\n",
    "import pandas as pd\n",
    "from datetime import datetime\n",
    "import pickle, json , boto3, zlib, os, logging\n",
    "from s3bz.s3bz import S3"
   ]
  },
  {
   "cell_type": "code",
   "execution_count": 15,
   "metadata": {},
   "outputs": [],
   "source": [
    "#export\n",
    "class DatabaseHelper:\n",
    "  class Helper:\n",
    "    @staticmethod\n",
    "    def groupByProduct(data):\n",
    "      return [{row['iprcode']: row} for row in data]\n",
    "    \n",
    "      df = pd.DataFrame(data)\n",
    "      gprcode = df.groupby('iprcode')\n",
    "      # group by ib_prcode, then ib_brcode, add timestamp as well\n",
    "      res = gprcode.agg(list).apply(lambda x: {\n",
    "            k:v for k,v in zip(\n",
    "                x['ib_brcode'], [\n",
    "                  {\n",
    "                    'ib_cf_qty': int(qty), \n",
    "                    'new_ib_bs_stock_cv': int(new),\n",
    "                    'lastUpdate' : datetime.now().timestamp()\n",
    "                  } \n",
    "                  for qty,new in zip(x['ib_cf_qty'], x['new_ib_vs_stock_cv'])\n",
    "                ]\n",
    "              )\n",
    "          } , axis = 1)\n",
    "      return res.to_dict()\n",
    "    @staticmethod\n",
    "    def setUpdateAll():\n",
    "      return list(item.setUpdate() for item in Database.scan())\n",
    "\n",
    "    @staticmethod\n",
    "    def iteratorToInvDict(data):\n",
    "      return {item.ib_prcode:item.inventory for item in data}\n",
    "  \n",
    "    @staticmethod\n",
    "    def stripDict(data:dict):\n",
    "      return {k: v.strip() if type(v) == str else v for k,v in data.items()}"
   ]
  },
  {
   "cell_type": "code",
   "execution_count": 16,
   "metadata": {},
   "outputs": [
    {
     "data": {
      "text/plain": [
       "{'sdfd': 'dsf', 'gdsgsa': 234}"
      ]
     },
     "execution_count": 16,
     "metadata": {},
     "output_type": "execute_result"
    }
   ],
   "source": [
    "DatabaseHelper.Helper.stripDict({'sdfd': 'dsf   ', 'gdsgsa':234})"
   ]
  },
  {
   "cell_type": "code",
   "execution_count": 11,
   "metadata": {},
   "outputs": [
    {
     "data": {
      "text/plain": [
       "dict"
      ]
     },
     "execution_count": 11,
     "metadata": {},
     "output_type": "execute_result"
    }
   ],
   "source": [
    "type({'fdsf':'sf'})"
   ]
  },
  {
   "cell_type": "code",
   "execution_count": 14,
   "metadata": {},
   "outputs": [
    {
     "data": {
      "text/plain": [
       "0"
      ]
     },
     "execution_count": 14,
     "metadata": {},
     "output_type": "execute_result"
    }
   ],
   "source": [
    "(0,1)[type(123) == str]"
   ]
  },
  {
   "cell_type": "code",
   "execution_count": null,
   "metadata": {},
   "outputs": [],
   "source": []
  }
 ],
 "metadata": {
  "kernelspec": {
   "display_name": "Python 3",
   "language": "python",
   "name": "python3"
  },
  "language_info": {
   "codemirror_mode": {
    "name": "ipython",
    "version": 3
   },
   "file_extension": ".py",
   "mimetype": "text/x-python",
   "name": "python",
   "nbconvert_exporter": "python",
   "pygments_lexer": "ipython3",
   "version": "3.8.5"
  }
 },
 "nbformat": 4,
 "nbformat_minor": 4
}
