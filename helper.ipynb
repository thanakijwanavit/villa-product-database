{
 "cells": [
  {
   "cell_type": "code",
   "execution_count": 7,
   "metadata": {},
   "outputs": [],
   "source": [
    "#default_exp helper"
   ]
  },
  {
   "cell_type": "code",
   "execution_count": 5,
   "metadata": {},
   "outputs": [],
   "source": [
    "#export\n",
    "import pandas as pd\n",
    "from datetime import datetime\n",
    "import pickle, json , boto3, zlib, os, logging\n",
    "from s3bz.s3bz import S3"
   ]
  },
  {
   "cell_type": "code",
   "execution_count": 6,
   "metadata": {},
   "outputs": [],
   "source": [
    "#export\n",
    "class DatabaseHelper:\n",
    "  class Helper:\n",
    "    @staticmethod\n",
    "    def groupByProduct(data):\n",
    "      df = pd.DataFrame(data)\n",
    "      gprcode = df.groupby('ib_prcode')\n",
    "      # group by ib_prcode, then ib_brcode, add timestamp as well\n",
    "      res = gprcode.agg(list).apply(lambda x: {\n",
    "            k:v for k,v in zip(\n",
    "                x['ib_brcode'], [\n",
    "                  {\n",
    "                    'ib_cf_qty': int(qty), \n",
    "                    'new_ib_bs_stock_cv': int(new),\n",
    "                    'lastUpdate' : datetime.now().timestamp()\n",
    "                  } \n",
    "                  for qty,new in zip(x['ib_cf_qty'], x['new_ib_vs_stock_cv'])\n",
    "                ]\n",
    "              )\n",
    "          } , axis = 1)\n",
    "      return res.to_dict()\n",
    "    @staticmethod\n",
    "    def setUpdateAll():\n",
    "      return list(item.setUpdate() for item in Database.scan())\n",
    "\n",
    "    @staticmethod\n",
    "    def iteratorToInvDict(data):\n",
    "      return {item.ib_prcode:item.inventory for item in data}\n",
    "  \n",
    "  @classmethod\n",
    "  def splitBranches(cls, key='allData',bucket = '', **kwargs):\n",
    "    '''\n",
    "    split database items from s3 into individual branch\n",
    "    '''\n",
    "    if not bucket: \n",
    "      logging.warning('bucket name is empty') \n",
    "      return 'empty bucket name'\n",
    "    data = S3.load(key=key , bucket = bucket, **kwargs)\n",
    "    # check if object is blank\n",
    "    logging.debug('data has loaded')\n",
    "    if not data: return 'items are empty'\n",
    "    df = pd.DataFrame(data).drop(['lastUpdate', 'ib_prcode'])\n",
    "    splitDict = df.T.fillna('').to_dict()\n",
    "    cleanedSplitDict = {brcode: \n",
    "      { k:v for k,v in inv.items()  if v} \n",
    "      for brcode, inv in splitDict.items()}\n",
    "    \n",
    "\n",
    "    logging.warning(f'data are{cleanedSplitDict}')\n",
    "    saveResults = {'success':0, 'failure':0,'errorMessage':[]}\n",
    "    for k,v in cleanedSplitDict.items():\n",
    "      print(k,v)\n",
    "      saveResult = S3.save(key = k,\n",
    "                           objectToSave = v,\n",
    "                           bucket = bucket,\n",
    "                           **kwargs)\n",
    "      # print(saveResult)\n",
    "      if saveResult: saveResults['success'] += 1\n",
    "      else: saveResults['failure'] += 1\n",
    "    return saveResults\n",
    "  \n",
    "  \n",
    "  \n",
    "\n"
   ]
  },
  {
   "cell_type": "code",
   "execution_count": null,
   "metadata": {},
   "outputs": [],
   "source": []
  },
  {
   "cell_type": "code",
   "execution_count": null,
   "metadata": {},
   "outputs": [],
   "source": []
  }
 ],
 "metadata": {
  "kernelspec": {
   "display_name": "Python 3",
   "language": "python",
   "name": "python3"
  },
  "language_info": {
   "codemirror_mode": {
    "name": "ipython",
    "version": 3
   },
   "file_extension": ".py",
   "mimetype": "text/x-python",
   "name": "python",
   "nbconvert_exporter": "python",
   "pygments_lexer": "ipython3",
   "version": "3.8.2"
  }
 },
 "nbformat": 4,
 "nbformat_minor": 4
}
