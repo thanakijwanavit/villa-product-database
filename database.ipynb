{
 "cells": [
  {
   "cell_type": "code",
   "execution_count": null,
   "metadata": {},
   "outputs": [],
   "source": [
    "# default_exp database"
   ]
  },
  {
   "cell_type": "markdown",
   "metadata": {},
   "source": [
    "# Database Class\n",
    "\n",
    "> API details."
   ]
  },
  {
   "cell_type": "code",
   "execution_count": null,
   "metadata": {},
   "outputs": [],
   "source": [
    "#hide\n",
    "import logging\n",
    "logging.basicConfig(level= logging.WARNING)\n",
    "log = logging.getLogger(\"pynamodb\")\n",
    "log.setLevel(logging.DEBUG)\n",
    "log.setLevel(logging.WARNING)\n",
    "log.propagate = True\n"
   ]
  },
  {
   "cell_type": "code",
   "execution_count": null,
   "metadata": {},
   "outputs": [],
   "source": [
    "#hide\n",
    "import pickle, os, json\n",
    "\n",
    "os.environ['DATABASE_TABLE_NAME'] = 'product-table-dev-manual'\n",
    "os.environ['BRANCH'] = 'dev'\n",
    "os.environ['REGION'] = 'ap-southeast-1'\n",
    "os.environ['INVENTORY_BUCKET_NAME'] = 'product-bucket-dev-manual'\n",
    "os.environ['INPUT_BUCKET_NAME'] = 'input-product-bucket-dev-manual'\n",
    "os.environ['DAX_ENDPOINT'] = 'longtermcluster.vuu7lr.clustercfg.dax.apse1.cache.amazonaws.com:8111'\n",
    "os.environ['LINEKEY'] = '2uAfV4AoYglUGmKTAk2xNOm0aV2Ufgh1BQPvQl9vJd4'\n",
    "os.environ['INTCOLS'] = json.dumps(['cprcode', 'iprcode', 'oprcode',  'sellingPrice'])\n",
    "REGION = 'ap-southeast-1'"
   ]
  },
  {
   "cell_type": "code",
   "execution_count": null,
   "metadata": {},
   "outputs": [
    {
     "name": "stdout",
     "output_type": "stream",
     "text": [
      "\"[\\\"cprcode\\\", \\\"iprcode\\\", \\\"oprcode\\\", \\\"sellingPrice\\\"]\"\n"
     ]
    }
   ],
   "source": [
    "#hide\n",
    "print(json.dumps(os.environ['INTCOLS']))"
   ]
  },
  {
   "cell_type": "code",
   "execution_count": null,
   "metadata": {},
   "outputs": [],
   "source": [
    "#hide\n",
    "from nbdev.showdoc import *"
   ]
  },
  {
   "cell_type": "code",
   "execution_count": null,
   "metadata": {},
   "outputs": [
    {
     "name": "stdout",
     "output_type": "stream",
     "text": [
      "longtermcluster.vuu7lr.clustercfg.dax.apse1.cache.amazonaws.com:8111\n",
      "longtermcluster.vuu7lr.clustercfg.dax.apse1.cache.amazonaws.com:8111\n",
      "longtermcluster.vuu7lr.clustercfg.dax.apse1.cache.amazonaws.com:8111\n"
     ]
    }
   ],
   "source": [
    "#export\n",
    "import pandas as pd\n",
    "from datetime import datetime\n",
    "from pynamodb.models import Model\n",
    "from pynamodb.attributes import UnicodeAttribute, NumberAttribute, JSONAttribute, BooleanAttribute, BinaryAttribute\n",
    "from pynamodb.indexes import GlobalSecondaryIndex, AllProjection\n",
    "from botocore.config import Config\n",
    "from s3bz.s3bz import S3, ExtraArgs\n",
    "from pprint import pprint\n",
    "from nicHelper.wrappers import add_method, add_class_method, add_static_method\n",
    "from nicHelper.dictUtil import stripDict, printDict\n",
    "from nicHelper.exception import errorString\n",
    "from nicHelper import pdUtils\n",
    "from awsSchema.apigateway import Response, Event\n",
    "from dataclasses_json import dataclass_json, Undefined, CatchAll\n",
    "from dataclasses import dataclass\n",
    "from typing import List\n",
    "from villaProductDatabase.query import Querier\n",
    "from villaProductDatabase.helpers import Helpers\n",
    "from villaProductDatabase.s3 import S3Cache\n",
    "from villaProductDatabase.schema import KeySchema, createIndex\n",
    "from villaProductDatabase.update import Updater\n",
    "from requests import post\n",
    "\n",
    "import pickle, json, boto3, bz2, requests, validators, os, logging, traceback, zlib, yaml, sys"
   ]
  },
  {
   "cell_type": "code",
   "execution_count": null,
   "metadata": {},
   "outputs": [
    {
     "name": "stdout",
     "output_type": "stream",
     "text": [
      "longtermcluster.vuu7lr.clustercfg.dax.apse1.cache.amazonaws.com:8111\n"
     ]
    }
   ],
   "source": [
    "#export\n",
    "import os\n",
    "\n",
    "DATABASE_TABLE_NAME = os.environ.get('DATABASE_TABLE_NAME')\n",
    "INVENTORY_BUCKET_NAME = os.environ.get('INVENTORY_BUCKET_NAME')\n",
    "INPUT_BUCKET_NAME = os.environ.get('INPUT_BUCKET_NAME')\n",
    "REGION = os.environ.get('REGION') or 'ap-southeast-1'\n",
    "ACCESS_KEY_ID = os.environ.get('USER') or None\n",
    "SECRET_ACCESS_KEY = os.environ.get('PW') or None\n",
    "LINEKEY= os.environ.get('LINEKEY')\n",
    "BRANCH= os.environ.get('BRANCH')\n",
    "DBHASHLOCATION = '/mnt/efs/database.hash'\n",
    "DBCACHELOCATION = '/mnt/efs/database.cache'\n",
    "INTCOLS = json.loads(os.environ.get('INTCOLS') or '{}')\n",
    "ECOMMERCE_COL_LIST = f'https://raw.githubusercontent.com/thanakijwanavit/villaMasterSchema/{BRANCH}/product/ecommerceColList.yaml'\n",
    "  \n",
    "try:\n",
    "  DAX_ENDPOINT = os.environ['DAX_ENDPOINT']\n",
    "except KeyError as e:\n",
    "  DAX_ENDPOINT = None\n",
    "  print(f'dax endpoint missing {e}')\n",
    "  \n",
    "print(DAX_ENDPOINT)"
   ]
  },
  {
   "cell_type": "markdown",
   "metadata": {},
   "source": [
    "# Main Database Class"
   ]
  },
  {
   "cell_type": "code",
   "execution_count": null,
   "metadata": {},
   "outputs": [],
   "source": [
    "#export\n",
    "# dont forget to import dependent classes from the relevant notebooks\n",
    "class ProductDatabase( Querier, Helpers, KeySchema, S3Cache, Updater):\n",
    "  class Meta:\n",
    "    aws_access_key_id = ACCESS_KEY_ID\n",
    "    aws_secret_access_key = SECRET_ACCESS_KEY\n",
    "    table_name = DATABASE_TABLE_NAME\n",
    "    region = REGION\n",
    "    billing_mode='PAY_PER_REQUEST'\n",
    "    dax_read_endpoints = [DAX_ENDPOINT] if DAX_ENDPOINT else None\n",
    "    dax_write_endpoints = [DAX_ENDPOINT] if DAX_ENDPOINT else None\n",
    "\n",
    "\n",
    "  TRUE = 'Y'\n",
    "  FALSE = 'N'\n",
    "  \n",
    "  # indexes\n",
    "  needsUpdateIndex = createIndex('needsUpdate','sellingPrice')\n",
    "  cprcodeIndex = createIndex('cprcode', 'sellingPrice')\n",
    "  oprcodeIndex = createIndex('oprcode', 'sellingPrice')\n",
    "  pr_dpcodeIndex = createIndex('pr_dpcode', 'sellingPrice')\n",
    "  pr_barcodeIndex = createIndex('pr_barcode', 'sellingPrice')\n",
    "  pr_barcode2Index = createIndex('pr_barcode2', 'sellingPrice')\n",
    "  pr_suref3Index = createIndex('pr_suref3', 'sellingPrice')\n",
    "  pr_sa_methodIndex = createIndex('pr_sa_method', 'sellingPrice')\n",
    "  \n",
    "  \n",
    "    \n",
    "  def __repr__(self):\n",
    "    return self.returnKW(self.data)\n",
    "  def syncIndex(self):\n",
    "    keys = {k:v for k,v in self.data if k in []}\n",
    "  \n",
    "    \n",
    "  @staticmethod\n",
    "  def returnKW(inputDict):\n",
    "    outputStr = 'ProductDatabase Object\\n'\n",
    "    for k,v in inputDict.items():\n",
    "      outputStr += f'{k} {v}\\n'\n",
    "    return outputStr  \n",
    "  @staticmethod\n",
    "  def convertIntCols(products:List[dict])->List[dict]:\n",
    "    convertedProducts = [{k:int(float(v)) if k in INTCOLS else v for k,v in product.items()}for product in products]\n",
    "    return convertedProducts\n",
    "  \n",
    "    \n",
    "  \n",
    "    "
   ]
  },
  {
   "cell_type": "markdown",
   "metadata": {},
   "source": [
    "# set up notebook for tests"
   ]
  },
  {
   "cell_type": "code",
   "execution_count": null,
   "metadata": {},
   "outputs": [
    {
     "name": "stdout",
     "output_type": "stream",
     "text": [
      "CPU times: user 257 ms, sys: 15.6 ms, total: 272 ms\n",
      "Wall time: 539 ms\n"
     ]
    }
   ],
   "source": [
    "%%time\n",
    "#hide\n",
    "## set items to udpate\n",
    "with ProductDatabase.batch_write() as batch:\n",
    "  for product in ProductDatabase.scan(limit=500):\n",
    "    product.setUpdate(batch=batch)"
   ]
  },
  {
   "cell_type": "code",
   "execution_count": null,
   "metadata": {},
   "outputs": [],
   "source": [
    "#hide\n",
    "##tests\n",
    "assert ProductDatabase.Meta.table_name == 'product-table-dev-manual', 'product table name not set'\n",
    "assert len(list(ProductDatabase.scan(limit=1))) == 1, 'db scan not working'\n",
    "assert len(list(ProductDatabase.needsUpdateIndex.query(ProductDatabase.TRUE))) > 1, 'cant find any needsUpdate item'"
   ]
  },
  {
   "cell_type": "code",
   "execution_count": null,
   "metadata": {},
   "outputs": [],
   "source": [
    "#hide\n",
    "### set test env\n",
    "sampleProducts = [{'cprcode': '0171670', 'iprcode': '0171670', 'oprcode': '0171670', 'ordertype': 'Y', 'pr_abb': 'JIRAPAT YOUNG KALE 2', 'pr_active': 'Y', 'pr_cgcode': '05', 'pr_code': '0171670', 'pr_dpcode': '19', 'pr_engname': 'JIRAPAT YOUNG KALE 200 G.', 'pr_ggcode': '057', 'pr_market': 'JIRAPAT ยอดคะน้า 200 G.', 'pr_name': 'JIRAPAT ยอดคะน้า 200 G.', 'pr_puqty': '1', 'pr_sa_method': '1', 'pr_sucode1': 'CM845     ', 'pr_suref3': 'A', 'prtype': 'I', 'psqty': '1', 'pstype': '1'}, {'cprcode': '0235141', 'iprcode': '0235141', 'oprcode': '0235141', 'ordertype': 'Y', 'pr_abb': 'EEBOO-PZCT3-PUZZLE', 'pr_active': 'Y', 'pr_cgcode': '08', 'pr_code': '0235141', 'pr_dpcode': '19', 'pr_engname': 'EEBOO,ANIMAL COUNTING PUZZLE_3ED,PZCT3', 'pr_ggcode': '113', 'pr_market': 'eeboo,PUZZLE-PZCT3', 'pr_name': 'EEBOO-PZCT3-ตัวต่อนับเลข ANIMAL COUNTING_3ED', 'pr_puqty': '1', 'pr_sa_method': '1', 'pr_sucode1': 'CM1979    ', 'pr_suref3': 'A', 'prtype': 'I', 'psqty': '1', 'pstype': '1'}, {'cprcode': '0217153', 'iprcode': '0217153', 'oprcode': '0217153', 'ordertype': 'Y', 'pr_abb': 'COCOA LOCO MILK CHOC', 'pr_active': 'Y', 'pr_cgcode': '98', 'pr_code': '0217153', 'pr_dpcode': '28', 'pr_engname': 'COCOA LOCO MILK CHOCOLATE OWL LOLLY 26G.', 'pr_ggcode': '003', 'pr_market': 'COCOA LOCO MILK CHOCOLATE OWL', 'pr_name': 'COCOA LOCO MILK CHOCOLATE OWL LOLLY 26G.', 'pr_puqty': '24', 'pr_sa_method': '1', 'pr_sucode1': 'F1222     ', 'pr_suref3': 'S', 'prtype': 'I', 'psqty': '1', 'pstype': '1'}, {'cprcode': '0182223', 'iprcode': '0182223', 'oprcode': '0182223', 'ordertype': 'Y', 'pr_abb': 'CIRIO PIZZASSIMO 400', 'pr_active': 'Y', 'pr_cgcode': '06', 'pr_code': '0182223', 'pr_dpcode': '06', 'pr_engname': 'CIRIO PIZZASSIMO 400G.', 'pr_ggcode': '004', 'pr_market': 'CIRIO ซอสทำพิซซ่า 400 G.', 'pr_name': 'CIRIO ซอสทำพิซซ่า 400 G.', 'pr_puqty': '12', 'pr_sa_method': '1', 'pr_sucode1': '2589      ', 'pr_suref3': 'C', 'prtype': 'I', 'psqty': '1', 'pstype': '1'}, {'cprcode': '0124461', 'iprcode': '0124461', 'oprcode': '0124461', 'ordertype': 'Y', 'pr_abb': 'NEW CHOICE LYCHEE', 'pr_active': 'Y', 'pr_cgcode': '02', 'pr_code': '0124461', 'pr_dpcode': '02', 'pr_engname': 'NEW CHOICE LYCHEE', 'pr_ggcode': '003', 'pr_market': 'NEW CHOICE กลิ่นลิ้นจี่', 'pr_name': 'NEW CHOICE กลิ่นลิ้นจี่', 'pr_puqty': '12', 'pr_sa_method': '1', 'pr_sucode1': '695       ', 'pr_suref3': 'A', 'prtype': 'I', 'psqty': '1', 'pstype': '1'}]"
   ]
  },
  {
   "cell_type": "markdown",
   "metadata": {},
   "source": [
    "# Update with dictionary"
   ]
  },
  {
   "cell_type": "markdown",
   "metadata": {},
   "source": [
    "## test"
   ]
  },
  {
   "cell_type": "code",
   "execution_count": null,
   "metadata": {},
   "outputs": [
    {
     "name": "stdout",
     "output_type": "stream",
     "text": [
      "engname is JOHNNIE WALKER RED 70 CL.\n",
      " name is changed to  testName\n",
      "CPU times: user 3.43 ms, sys: 292 µs, total: 3.72 ms\n",
      "Wall time: 6 ms\n"
     ]
    }
   ],
   "source": [
    "%%time\n",
    "## get original item\n",
    "item = next(ProductDatabase.query(9))\n",
    "print(f'engname is {item.data.get(\"pr_engname\")}')\n",
    "\n",
    "### update item\n",
    "updatedItem = ProductDatabase.updateWithDict(item,{'pr_engname':'testName'})\n",
    "assert updatedItem.data.get('pr_engname') == 'testName'\n",
    "print(f' name is changed to  {updatedItem.data.get(\"pr_engname\")}')"
   ]
  },
  {
   "cell_type": "markdown",
   "metadata": {},
   "source": [
    "### Batch load and save data"
   ]
  },
  {
   "cell_type": "code",
   "execution_count": null,
   "metadata": {},
   "outputs": [
    {
     "name": "stdout",
     "output_type": "stream",
     "text": [
      "loading hashkey allData-hash\n",
      "loaded hash is 5ab4ab6eb4875b73fc878567db2765589e723e37\n",
      "data is still in sync, using local cache\n",
      "CPU times: user 308 ms, sys: 93.6 ms, total: 401 ms\n",
      "Wall time: 682 ms\n"
     ]
    }
   ],
   "source": [
    "%%time\n",
    "data = ProductDatabase.loadFromCache()\n",
    "assert data.shape[0] > 10000, 'loadFrom cache not working'"
   ]
  },
  {
   "cell_type": "markdown",
   "metadata": {},
   "source": [
    "# Dump database to s3 cache "
   ]
  },
  {
   "cell_type": "code",
   "execution_count": null,
   "metadata": {},
   "outputs": [],
   "source": [
    "def resetCache():\n",
    "  r = ProductDatabase.resetS3Cache(limit=50000)\n",
    "  return Response.returnSuccess(r)"
   ]
  },
  {
   "cell_type": "markdown",
   "metadata": {},
   "source": [
    "## check table length"
   ]
  },
  {
   "cell_type": "code",
   "execution_count": null,
   "metadata": {},
   "outputs": [
    {
     "name": "stdout",
     "output_type": "stream",
     "text": [
      "CPU times: user 7.59 s, sys: 452 ms, total: 8.04 s\n",
      "Wall time: 11.8 s\n"
     ]
    },
    {
     "data": {
      "text/plain": [
       "45075"
      ]
     },
     "execution_count": null,
     "metadata": {},
     "output_type": "execute_result"
    }
   ],
   "source": [
    "%%time\n",
    "table = list(ProductDatabase.scan())\n",
    "len(table)"
   ]
  },
  {
   "cell_type": "markdown",
   "metadata": {},
   "source": [
    "## reset cache test"
   ]
  },
  {
   "cell_type": "code",
   "execution_count": null,
   "metadata": {},
   "outputs": [
    {
     "name": "stdout",
     "output_type": "stream",
     "text": [
      "db is scanned\n",
      "(45075, 75) changes to update\n",
      "hashKey is allData-hash\n",
      "saving hash to s3\n",
      "saved hash 9dc8d22f45ca04f053917ab08f13f4ec104dccc4\n",
      "CPU times: user 14.2 s, sys: 1.01 s, total: 15.2 s\n",
      "Wall time: 20.2 s\n"
     ]
    },
    {
     "data": {
      "text/plain": [
       "{'body': 'true',\n",
       " 'statusCode': 200,\n",
       " 'headers': {'Access-Control-Allow-Headers': '*',\n",
       "  'Access-Control-Allow-Origin': '*',\n",
       "  'Access-Control-Allow-Methods': '*'}}"
      ]
     },
     "execution_count": null,
     "metadata": {},
     "output_type": "execute_result"
    }
   ],
   "source": [
    "%%time\n",
    "resetCache()"
   ]
  },
  {
   "cell_type": "markdown",
   "metadata": {},
   "source": [
    "### CacheDb method"
   ]
  },
  {
   "cell_type": "code",
   "execution_count": null,
   "metadata": {},
   "outputs": [],
   "source": [
    "#export\n",
    "@add_class_method(ProductDatabase)\n",
    "def cacheDb(cls, bucketName = INVENTORY_BUCKET_NAME, key = 'allData', limit=100, **kwargs):\n",
    "  '''cache db to s3 and local efs'''\n",
    "  db:pd.DataFrame = cls.loadFromCache(key=key, localCache=DBCACHELOCATION,\n",
    "                                      localHash=DBHASHLOCATION, bucket=bucketName)\n",
    "  logging.debug(f'origin item is shape{db.shape}')\n",
    "  #### get change\n",
    "  print('quering for changes')\n",
    "  changes = list(cls.needsUpdateIndex.query(cls.TRUE, limit=limit))\n",
    "  print('convert to df')\n",
    "  changesDf = cls.toDf(changes)\n",
    "  changesDf.set_index('cprcode', inplace=True)\n",
    "  print(changesDf.shape)\n",
    "#   db.set_index('cprcode', inplace=True)\n",
    "  updatedDb = db.append(changesDf).drop_duplicates('cprcode', keep='last')\n",
    "#   updatedDb.reset_index(inplace=True)\n",
    "  cls.saveRemoteCache(updatedDb)\n",
    "  print('saving to remote cache')\n",
    "  with cls.batch_write() as batch:\n",
    "    for item in changes:\n",
    "      item.setNoUpdate(batch=batch)\n",
    "  cls.notify(f'db shape is {db.shape}')\n",
    "  return updatedDb"
   ]
  },
  {
   "cell_type": "code",
   "execution_count": null,
   "metadata": {},
   "outputs": [
    {
     "name": "stdout",
     "output_type": "stream",
     "text": [
      "loading hashkey allData-hash\n",
      "loaded hash is 9dc8d22f45ca04f053917ab08f13f4ec104dccc4\n",
      "data is still in sync, using local cache\n",
      "quering for changes\n",
      "convert to df\n",
      "(100, 58)\n",
      "hashKey is allData-hash\n",
      "saving hash to s3\n",
      "saved hash 575c60ff28c4571b5ca0ab05ae8b64816c680f95\n",
      "saving to remote cache\n",
      "CPU times: user 4.02 s, sys: 470 ms, total: 4.49 s\n",
      "Wall time: 6.17 s\n"
     ]
    },
    {
     "data": {
      "text/html": [
       "<div>\n",
       "<style scoped>\n",
       "    .dataframe tbody tr th:only-of-type {\n",
       "        vertical-align: middle;\n",
       "    }\n",
       "\n",
       "    .dataframe tbody tr th {\n",
       "        vertical-align: top;\n",
       "    }\n",
       "\n",
       "    .dataframe thead th {\n",
       "        text-align: right;\n",
       "    }\n",
       "</style>\n",
       "<table border=\"1\" class=\"dataframe\">\n",
       "  <thead>\n",
       "    <tr style=\"text-align: right;\">\n",
       "      <th></th>\n",
       "      <th>cprcode</th>\n",
       "      <th>iprcode</th>\n",
       "      <th>oprcode</th>\n",
       "      <th>ordertype</th>\n",
       "      <th>pr_abb</th>\n",
       "      <th>pr_active</th>\n",
       "      <th>pr_cgcode</th>\n",
       "      <th>pr_dpcode</th>\n",
       "      <th>pr_engname</th>\n",
       "      <th>pr_ggcode</th>\n",
       "      <th>...</th>\n",
       "      <th>preorder_fix_date</th>\n",
       "      <th>preorder_relative_day</th>\n",
       "      <th>meta_title</th>\n",
       "      <th>meta_keywords</th>\n",
       "      <th>meta_description</th>\n",
       "      <th>depth</th>\n",
       "      <th>priority_score</th>\n",
       "      <th>product_attribute_id</th>\n",
       "      <th>product_attribute</th>\n",
       "      <th>related_products</th>\n",
       "    </tr>\n",
       "  </thead>\n",
       "  <tbody>\n",
       "    <tr>\n",
       "      <th>0</th>\n",
       "      <td>225407.0</td>\n",
       "      <td>225407</td>\n",
       "      <td>225407</td>\n",
       "      <td>Y</td>\n",
       "      <td>MOKU</td>\n",
       "      <td>True</td>\n",
       "      <td>87</td>\n",
       "      <td>21</td>\n",
       "      <td>KONJAC LINGUINI</td>\n",
       "      <td>010</td>\n",
       "      <td>...</td>\n",
       "      <td>NaN</td>\n",
       "      <td>NaN</td>\n",
       "      <td>None</td>\n",
       "      <td>None</td>\n",
       "      <td>None</td>\n",
       "      <td>NaN</td>\n",
       "      <td>NaN</td>\n",
       "      <td>NaN</td>\n",
       "      <td>None</td>\n",
       "      <td>None</td>\n",
       "    </tr>\n",
       "    <tr>\n",
       "      <th>1</th>\n",
       "      <td>241101.0</td>\n",
       "      <td>241101</td>\n",
       "      <td>241101</td>\n",
       "      <td>Y</td>\n",
       "      <td>BUMILGOCHUJANG</td>\n",
       "      <td>True</td>\n",
       "      <td>06</td>\n",
       "      <td>08</td>\n",
       "      <td>BUMILGOCHUJANG</td>\n",
       "      <td>006</td>\n",
       "      <td>...</td>\n",
       "      <td>NaN</td>\n",
       "      <td>NaN</td>\n",
       "      <td>None</td>\n",
       "      <td>None</td>\n",
       "      <td>None</td>\n",
       "      <td>NaN</td>\n",
       "      <td>NaN</td>\n",
       "      <td>NaN</td>\n",
       "      <td>None</td>\n",
       "      <td>None</td>\n",
       "    </tr>\n",
       "    <tr>\n",
       "      <th>2</th>\n",
       "      <td>190100.0</td>\n",
       "      <td>190100</td>\n",
       "      <td>190100</td>\n",
       "      <td>Y</td>\n",
       "      <td>WHITE SHIMEJI</td>\n",
       "      <td>True</td>\n",
       "      <td>05</td>\n",
       "      <td>19</td>\n",
       "      <td>WHITE SHIMEJI</td>\n",
       "      <td>143</td>\n",
       "      <td>...</td>\n",
       "      <td>NaN</td>\n",
       "      <td>NaN</td>\n",
       "      <td>None</td>\n",
       "      <td>None</td>\n",
       "      <td>None</td>\n",
       "      <td>NaN</td>\n",
       "      <td>NaN</td>\n",
       "      <td>NaN</td>\n",
       "      <td>None</td>\n",
       "      <td>None</td>\n",
       "    </tr>\n",
       "    <tr>\n",
       "      <th>3</th>\n",
       "      <td>62644.0</td>\n",
       "      <td>62644</td>\n",
       "      <td>62644</td>\n",
       "      <td>Y</td>\n",
       "      <td>STUTE APRICOT JAM430</td>\n",
       "      <td>True</td>\n",
       "      <td>07</td>\n",
       "      <td>08</td>\n",
       "      <td>STUTE APRICOT JAM 430 G.</td>\n",
       "      <td>002</td>\n",
       "      <td>...</td>\n",
       "      <td>NaN</td>\n",
       "      <td>NaN</td>\n",
       "      <td>None</td>\n",
       "      <td>None</td>\n",
       "      <td>None</td>\n",
       "      <td>NaN</td>\n",
       "      <td>NaN</td>\n",
       "      <td>NaN</td>\n",
       "      <td>None</td>\n",
       "      <td>None</td>\n",
       "    </tr>\n",
       "    <tr>\n",
       "      <th>4</th>\n",
       "      <td>192167.0</td>\n",
       "      <td>192167</td>\n",
       "      <td>192167</td>\n",
       "      <td>Y</td>\n",
       "      <td>**COLGATE TOTAL CHAR</td>\n",
       "      <td>True</td>\n",
       "      <td>10</td>\n",
       "      <td>09</td>\n",
       "      <td>**COLGATE TOTAL CHARCOAL DEEP CLEAN 150G</td>\n",
       "      <td>005</td>\n",
       "      <td>...</td>\n",
       "      <td>NaN</td>\n",
       "      <td>NaN</td>\n",
       "      <td>None</td>\n",
       "      <td>None</td>\n",
       "      <td>None</td>\n",
       "      <td>NaN</td>\n",
       "      <td>NaN</td>\n",
       "      <td>NaN</td>\n",
       "      <td>None</td>\n",
       "      <td>None</td>\n",
       "    </tr>\n",
       "    <tr>\n",
       "      <th>...</th>\n",
       "      <td>...</td>\n",
       "      <td>...</td>\n",
       "      <td>...</td>\n",
       "      <td>...</td>\n",
       "      <td>...</td>\n",
       "      <td>...</td>\n",
       "      <td>...</td>\n",
       "      <td>...</td>\n",
       "      <td>...</td>\n",
       "      <td>...</td>\n",
       "      <td>...</td>\n",
       "      <td>...</td>\n",
       "      <td>...</td>\n",
       "      <td>...</td>\n",
       "      <td>...</td>\n",
       "      <td>...</td>\n",
       "      <td>...</td>\n",
       "      <td>...</td>\n",
       "      <td>...</td>\n",
       "      <td>...</td>\n",
       "      <td>...</td>\n",
       "    </tr>\n",
       "    <tr>\n",
       "      <th>45071</th>\n",
       "      <td>76931.0</td>\n",
       "      <td>76931</td>\n",
       "      <td>76931</td>\n",
       "      <td>Y</td>\n",
       "      <td>ST. REMY BRANDY 70CL</td>\n",
       "      <td>True</td>\n",
       "      <td>16</td>\n",
       "      <td>01</td>\n",
       "      <td>ST. REMY BRANDY 70CL.</td>\n",
       "      <td>002</td>\n",
       "      <td>...</td>\n",
       "      <td>NaN</td>\n",
       "      <td>NaN</td>\n",
       "      <td>None</td>\n",
       "      <td>None</td>\n",
       "      <td>None</td>\n",
       "      <td>NaN</td>\n",
       "      <td>NaN</td>\n",
       "      <td>NaN</td>\n",
       "      <td>None</td>\n",
       "      <td>None</td>\n",
       "    </tr>\n",
       "    <tr>\n",
       "      <th>45072</th>\n",
       "      <td>203391.0</td>\n",
       "      <td>203391</td>\n",
       "      <td>203391</td>\n",
       "      <td>Y</td>\n",
       "      <td>CH TERREFORT-QUANCA</td>\n",
       "      <td>True</td>\n",
       "      <td>10</td>\n",
       "      <td>01</td>\n",
       "      <td>CH TERREFORT-QUANCARD</td>\n",
       "      <td>001</td>\n",
       "      <td>...</td>\n",
       "      <td>NaN</td>\n",
       "      <td>NaN</td>\n",
       "      <td>None</td>\n",
       "      <td>None</td>\n",
       "      <td>None</td>\n",
       "      <td>NaN</td>\n",
       "      <td>NaN</td>\n",
       "      <td>NaN</td>\n",
       "      <td>None</td>\n",
       "      <td>None</td>\n",
       "    </tr>\n",
       "    <tr>\n",
       "      <th>45073</th>\n",
       "      <td>205603.0</td>\n",
       "      <td>205603</td>\n",
       "      <td>205603</td>\n",
       "      <td>Y</td>\n",
       "      <td>19 GRAIN WHEAT LOAF</td>\n",
       "      <td>True</td>\n",
       "      <td>15</td>\n",
       "      <td>19</td>\n",
       "      <td>19 GRAIN WHEAT LOAF</td>\n",
       "      <td>132</td>\n",
       "      <td>...</td>\n",
       "      <td>NaN</td>\n",
       "      <td>NaN</td>\n",
       "      <td>None</td>\n",
       "      <td>None</td>\n",
       "      <td>None</td>\n",
       "      <td>NaN</td>\n",
       "      <td>NaN</td>\n",
       "      <td>NaN</td>\n",
       "      <td>None</td>\n",
       "      <td>None</td>\n",
       "    </tr>\n",
       "    <tr>\n",
       "      <th>45074</th>\n",
       "      <td>211585.0</td>\n",
       "      <td>211585</td>\n",
       "      <td>211585</td>\n",
       "      <td>Y</td>\n",
       "      <td>EGG</td>\n",
       "      <td>True</td>\n",
       "      <td>49</td>\n",
       "      <td>19</td>\n",
       "      <td>EGG</td>\n",
       "      <td>001</td>\n",
       "      <td>...</td>\n",
       "      <td>NaN</td>\n",
       "      <td>NaN</td>\n",
       "      <td>None</td>\n",
       "      <td>None</td>\n",
       "      <td>None</td>\n",
       "      <td>NaN</td>\n",
       "      <td>NaN</td>\n",
       "      <td>NaN</td>\n",
       "      <td>None</td>\n",
       "      <td>None</td>\n",
       "    </tr>\n",
       "    <tr>\n",
       "      <th>239605</th>\n",
       "      <td>NaN</td>\n",
       "      <td>239605</td>\n",
       "      <td>239605</td>\n",
       "      <td>Y</td>\n",
       "      <td>MILLE LITTLEPONY WON</td>\n",
       "      <td>True</td>\n",
       "      <td>24</td>\n",
       "      <td>19</td>\n",
       "      <td>MILLE LITTLEPONY WONDERFUL BLUSHER #3TWI</td>\n",
       "      <td>066</td>\n",
       "      <td>...</td>\n",
       "      <td>NaN</td>\n",
       "      <td>NaN</td>\n",
       "      <td>NaN</td>\n",
       "      <td>NaN</td>\n",
       "      <td>NaN</td>\n",
       "      <td>NaN</td>\n",
       "      <td>NaN</td>\n",
       "      <td>NaN</td>\n",
       "      <td>NaN</td>\n",
       "      <td>NaN</td>\n",
       "    </tr>\n",
       "  </tbody>\n",
       "</table>\n",
       "<p>45076 rows × 75 columns</p>\n",
       "</div>"
      ],
      "text/plain": [
       "         cprcode  iprcode  oprcode ordertype                pr_abb  pr_active  \\\n",
       "0       225407.0   225407   225407         Y                  MOKU       True   \n",
       "1       241101.0   241101   241101         Y        BUMILGOCHUJANG       True   \n",
       "2       190100.0   190100   190100         Y         WHITE SHIMEJI       True   \n",
       "3        62644.0    62644    62644         Y  STUTE APRICOT JAM430       True   \n",
       "4       192167.0   192167   192167         Y  **COLGATE TOTAL CHAR       True   \n",
       "...          ...      ...      ...       ...                   ...        ...   \n",
       "45071    76931.0    76931    76931         Y  ST. REMY BRANDY 70CL       True   \n",
       "45072   203391.0   203391   203391         Y   CH TERREFORT-QUANCA       True   \n",
       "45073   205603.0   205603   205603         Y   19 GRAIN WHEAT LOAF       True   \n",
       "45074   211585.0   211585   211585         Y                   EGG       True   \n",
       "239605       NaN   239605   239605         Y  MILLE LITTLEPONY WON       True   \n",
       "\n",
       "       pr_cgcode pr_dpcode                                pr_engname  \\\n",
       "0             87        21                           KONJAC LINGUINI   \n",
       "1             06        08                            BUMILGOCHUJANG   \n",
       "2             05        19                             WHITE SHIMEJI   \n",
       "3             07        08                  STUTE APRICOT JAM 430 G.   \n",
       "4             10        09  **COLGATE TOTAL CHARCOAL DEEP CLEAN 150G   \n",
       "...          ...       ...                                       ...   \n",
       "45071         16        01                     ST. REMY BRANDY 70CL.   \n",
       "45072         10        01                     CH TERREFORT-QUANCARD   \n",
       "45073         15        19                       19 GRAIN WHEAT LOAF   \n",
       "45074         49        19                                       EGG   \n",
       "239605        24        19  MILLE LITTLEPONY WONDERFUL BLUSHER #3TWI   \n",
       "\n",
       "       pr_ggcode  ... preorder_fix_date preorder_relative_day meta_title  \\\n",
       "0            010  ...               NaN                   NaN       None   \n",
       "1            006  ...               NaN                   NaN       None   \n",
       "2            143  ...               NaN                   NaN       None   \n",
       "3            002  ...               NaN                   NaN       None   \n",
       "4            005  ...               NaN                   NaN       None   \n",
       "...          ...  ...               ...                   ...        ...   \n",
       "45071        002  ...               NaN                   NaN       None   \n",
       "45072        001  ...               NaN                   NaN       None   \n",
       "45073        132  ...               NaN                   NaN       None   \n",
       "45074        001  ...               NaN                   NaN       None   \n",
       "239605       066  ...               NaN                   NaN        NaN   \n",
       "\n",
       "       meta_keywords meta_description depth priority_score  \\\n",
       "0               None             None   NaN            NaN   \n",
       "1               None             None   NaN            NaN   \n",
       "2               None             None   NaN            NaN   \n",
       "3               None             None   NaN            NaN   \n",
       "4               None             None   NaN            NaN   \n",
       "...              ...              ...   ...            ...   \n",
       "45071           None             None   NaN            NaN   \n",
       "45072           None             None   NaN            NaN   \n",
       "45073           None             None   NaN            NaN   \n",
       "45074           None             None   NaN            NaN   \n",
       "239605           NaN              NaN   NaN            NaN   \n",
       "\n",
       "       product_attribute_id product_attribute related_products  \n",
       "0                       NaN              None             None  \n",
       "1                       NaN              None             None  \n",
       "2                       NaN              None             None  \n",
       "3                       NaN              None             None  \n",
       "4                       NaN              None             None  \n",
       "...                     ...               ...              ...  \n",
       "45071                   NaN              None             None  \n",
       "45072                   NaN              None             None  \n",
       "45073                   NaN              None             None  \n",
       "45074                   NaN              None             None  \n",
       "239605                  NaN               NaN              NaN  \n",
       "\n",
       "[45076 rows x 75 columns]"
      ]
     },
     "execution_count": null,
     "metadata": {},
     "output_type": "execute_result"
    }
   ],
   "source": [
    "%%time\n",
    "# originalDb = ProductDatabase.loadFromCache()\n",
    "# listPd = list(product.needsUpdateIndex.query('Y', limit=5))\n",
    "# changesDf = ProductDatabase.toDf(listPd)\n",
    "# changesDf.set_index('cprcode', inplace=True)\n",
    "# originalDb.set_index('cprcode',inplace=True)\n",
    "# newDf = originalDb.append(changesDf)\n",
    "# newDf.reset_index(inplace=True)\n",
    "# originalDb\n",
    "\n",
    "ProductDatabase.cacheDb()"
   ]
  },
  {
   "cell_type": "markdown",
   "metadata": {},
   "source": [
    "### dump to s3 method"
   ]
  },
  {
   "cell_type": "code",
   "execution_count": null,
   "metadata": {},
   "outputs": [],
   "source": [
    "@add_class_method(ProductDatabase)\n",
    "def dumpToS3(cls, bucketName= INVENTORY_BUCKET_NAME, key = 'allData', limit=500, **kwargs):\n",
    "  return cls.cacheDb(limit=1000)\n"
   ]
  },
  {
   "cell_type": "code",
   "execution_count": null,
   "metadata": {},
   "outputs": [
    {
     "name": "stdout",
     "output_type": "stream",
     "text": [
      "loading hashkey allData-hash\n",
      "loaded hash is 575c60ff28c4571b5ca0ab05ae8b64816c680f95\n",
      "data is still in sync, using local cache\n",
      "quering for changes\n",
      "convert to df\n",
      "(1000, 58)\n",
      "hashKey is allData-hash\n",
      "saving hash to s3\n",
      "saved hash 2c173546efe68a494d4484423b33e1b2e8de6d03\n",
      "saving to remote cache\n",
      "CPU times: user 4.38 s, sys: 496 ms, total: 4.88 s\n",
      "Wall time: 7.21 s\n"
     ]
    },
    {
     "data": {
      "text/html": [
       "<div>\n",
       "<style scoped>\n",
       "    .dataframe tbody tr th:only-of-type {\n",
       "        vertical-align: middle;\n",
       "    }\n",
       "\n",
       "    .dataframe tbody tr th {\n",
       "        vertical-align: top;\n",
       "    }\n",
       "\n",
       "    .dataframe thead th {\n",
       "        text-align: right;\n",
       "    }\n",
       "</style>\n",
       "<table border=\"1\" class=\"dataframe\">\n",
       "  <thead>\n",
       "    <tr style=\"text-align: right;\">\n",
       "      <th></th>\n",
       "      <th>cprcode</th>\n",
       "      <th>iprcode</th>\n",
       "      <th>oprcode</th>\n",
       "      <th>ordertype</th>\n",
       "      <th>pr_abb</th>\n",
       "      <th>pr_active</th>\n",
       "      <th>pr_cgcode</th>\n",
       "      <th>pr_dpcode</th>\n",
       "      <th>pr_engname</th>\n",
       "      <th>pr_ggcode</th>\n",
       "      <th>...</th>\n",
       "      <th>preorder_fix_date</th>\n",
       "      <th>preorder_relative_day</th>\n",
       "      <th>meta_title</th>\n",
       "      <th>meta_keywords</th>\n",
       "      <th>meta_description</th>\n",
       "      <th>depth</th>\n",
       "      <th>priority_score</th>\n",
       "      <th>product_attribute_id</th>\n",
       "      <th>product_attribute</th>\n",
       "      <th>related_products</th>\n",
       "    </tr>\n",
       "  </thead>\n",
       "  <tbody>\n",
       "    <tr>\n",
       "      <th>0</th>\n",
       "      <td>225407.0</td>\n",
       "      <td>225407</td>\n",
       "      <td>225407</td>\n",
       "      <td>Y</td>\n",
       "      <td>MOKU</td>\n",
       "      <td>True</td>\n",
       "      <td>87</td>\n",
       "      <td>21</td>\n",
       "      <td>KONJAC LINGUINI</td>\n",
       "      <td>010</td>\n",
       "      <td>...</td>\n",
       "      <td>NaN</td>\n",
       "      <td>NaN</td>\n",
       "      <td>None</td>\n",
       "      <td>None</td>\n",
       "      <td>None</td>\n",
       "      <td>NaN</td>\n",
       "      <td>NaN</td>\n",
       "      <td>NaN</td>\n",
       "      <td>None</td>\n",
       "      <td>None</td>\n",
       "    </tr>\n",
       "    <tr>\n",
       "      <th>1</th>\n",
       "      <td>241101.0</td>\n",
       "      <td>241101</td>\n",
       "      <td>241101</td>\n",
       "      <td>Y</td>\n",
       "      <td>BUMILGOCHUJANG</td>\n",
       "      <td>True</td>\n",
       "      <td>06</td>\n",
       "      <td>08</td>\n",
       "      <td>BUMILGOCHUJANG</td>\n",
       "      <td>006</td>\n",
       "      <td>...</td>\n",
       "      <td>NaN</td>\n",
       "      <td>NaN</td>\n",
       "      <td>None</td>\n",
       "      <td>None</td>\n",
       "      <td>None</td>\n",
       "      <td>NaN</td>\n",
       "      <td>NaN</td>\n",
       "      <td>NaN</td>\n",
       "      <td>None</td>\n",
       "      <td>None</td>\n",
       "    </tr>\n",
       "    <tr>\n",
       "      <th>2</th>\n",
       "      <td>190100.0</td>\n",
       "      <td>190100</td>\n",
       "      <td>190100</td>\n",
       "      <td>Y</td>\n",
       "      <td>WHITE SHIMEJI</td>\n",
       "      <td>True</td>\n",
       "      <td>05</td>\n",
       "      <td>19</td>\n",
       "      <td>WHITE SHIMEJI</td>\n",
       "      <td>143</td>\n",
       "      <td>...</td>\n",
       "      <td>NaN</td>\n",
       "      <td>NaN</td>\n",
       "      <td>None</td>\n",
       "      <td>None</td>\n",
       "      <td>None</td>\n",
       "      <td>NaN</td>\n",
       "      <td>NaN</td>\n",
       "      <td>NaN</td>\n",
       "      <td>None</td>\n",
       "      <td>None</td>\n",
       "    </tr>\n",
       "    <tr>\n",
       "      <th>3</th>\n",
       "      <td>62644.0</td>\n",
       "      <td>62644</td>\n",
       "      <td>62644</td>\n",
       "      <td>Y</td>\n",
       "      <td>STUTE APRICOT JAM430</td>\n",
       "      <td>True</td>\n",
       "      <td>07</td>\n",
       "      <td>08</td>\n",
       "      <td>STUTE APRICOT JAM 430 G.</td>\n",
       "      <td>002</td>\n",
       "      <td>...</td>\n",
       "      <td>NaN</td>\n",
       "      <td>NaN</td>\n",
       "      <td>None</td>\n",
       "      <td>None</td>\n",
       "      <td>None</td>\n",
       "      <td>NaN</td>\n",
       "      <td>NaN</td>\n",
       "      <td>NaN</td>\n",
       "      <td>None</td>\n",
       "      <td>None</td>\n",
       "    </tr>\n",
       "    <tr>\n",
       "      <th>4</th>\n",
       "      <td>192167.0</td>\n",
       "      <td>192167</td>\n",
       "      <td>192167</td>\n",
       "      <td>Y</td>\n",
       "      <td>**COLGATE TOTAL CHAR</td>\n",
       "      <td>True</td>\n",
       "      <td>10</td>\n",
       "      <td>09</td>\n",
       "      <td>**COLGATE TOTAL CHARCOAL DEEP CLEAN 150G</td>\n",
       "      <td>005</td>\n",
       "      <td>...</td>\n",
       "      <td>NaN</td>\n",
       "      <td>NaN</td>\n",
       "      <td>None</td>\n",
       "      <td>None</td>\n",
       "      <td>None</td>\n",
       "      <td>NaN</td>\n",
       "      <td>NaN</td>\n",
       "      <td>NaN</td>\n",
       "      <td>None</td>\n",
       "      <td>None</td>\n",
       "    </tr>\n",
       "    <tr>\n",
       "      <th>...</th>\n",
       "      <td>...</td>\n",
       "      <td>...</td>\n",
       "      <td>...</td>\n",
       "      <td>...</td>\n",
       "      <td>...</td>\n",
       "      <td>...</td>\n",
       "      <td>...</td>\n",
       "      <td>...</td>\n",
       "      <td>...</td>\n",
       "      <td>...</td>\n",
       "      <td>...</td>\n",
       "      <td>...</td>\n",
       "      <td>...</td>\n",
       "      <td>...</td>\n",
       "      <td>...</td>\n",
       "      <td>...</td>\n",
       "      <td>...</td>\n",
       "      <td>...</td>\n",
       "      <td>...</td>\n",
       "      <td>...</td>\n",
       "      <td>...</td>\n",
       "    </tr>\n",
       "    <tr>\n",
       "      <th>45071</th>\n",
       "      <td>76931.0</td>\n",
       "      <td>76931</td>\n",
       "      <td>76931</td>\n",
       "      <td>Y</td>\n",
       "      <td>ST. REMY BRANDY 70CL</td>\n",
       "      <td>True</td>\n",
       "      <td>16</td>\n",
       "      <td>01</td>\n",
       "      <td>ST. REMY BRANDY 70CL.</td>\n",
       "      <td>002</td>\n",
       "      <td>...</td>\n",
       "      <td>NaN</td>\n",
       "      <td>NaN</td>\n",
       "      <td>None</td>\n",
       "      <td>None</td>\n",
       "      <td>None</td>\n",
       "      <td>NaN</td>\n",
       "      <td>NaN</td>\n",
       "      <td>NaN</td>\n",
       "      <td>None</td>\n",
       "      <td>None</td>\n",
       "    </tr>\n",
       "    <tr>\n",
       "      <th>45072</th>\n",
       "      <td>203391.0</td>\n",
       "      <td>203391</td>\n",
       "      <td>203391</td>\n",
       "      <td>Y</td>\n",
       "      <td>CH TERREFORT-QUANCA</td>\n",
       "      <td>True</td>\n",
       "      <td>10</td>\n",
       "      <td>01</td>\n",
       "      <td>CH TERREFORT-QUANCARD</td>\n",
       "      <td>001</td>\n",
       "      <td>...</td>\n",
       "      <td>NaN</td>\n",
       "      <td>NaN</td>\n",
       "      <td>None</td>\n",
       "      <td>None</td>\n",
       "      <td>None</td>\n",
       "      <td>NaN</td>\n",
       "      <td>NaN</td>\n",
       "      <td>NaN</td>\n",
       "      <td>None</td>\n",
       "      <td>None</td>\n",
       "    </tr>\n",
       "    <tr>\n",
       "      <th>45073</th>\n",
       "      <td>205603.0</td>\n",
       "      <td>205603</td>\n",
       "      <td>205603</td>\n",
       "      <td>Y</td>\n",
       "      <td>19 GRAIN WHEAT LOAF</td>\n",
       "      <td>True</td>\n",
       "      <td>15</td>\n",
       "      <td>19</td>\n",
       "      <td>19 GRAIN WHEAT LOAF</td>\n",
       "      <td>132</td>\n",
       "      <td>...</td>\n",
       "      <td>NaN</td>\n",
       "      <td>NaN</td>\n",
       "      <td>None</td>\n",
       "      <td>None</td>\n",
       "      <td>None</td>\n",
       "      <td>NaN</td>\n",
       "      <td>NaN</td>\n",
       "      <td>NaN</td>\n",
       "      <td>None</td>\n",
       "      <td>None</td>\n",
       "    </tr>\n",
       "    <tr>\n",
       "      <th>45074</th>\n",
       "      <td>211585.0</td>\n",
       "      <td>211585</td>\n",
       "      <td>211585</td>\n",
       "      <td>Y</td>\n",
       "      <td>EGG</td>\n",
       "      <td>True</td>\n",
       "      <td>49</td>\n",
       "      <td>19</td>\n",
       "      <td>EGG</td>\n",
       "      <td>001</td>\n",
       "      <td>...</td>\n",
       "      <td>NaN</td>\n",
       "      <td>NaN</td>\n",
       "      <td>None</td>\n",
       "      <td>None</td>\n",
       "      <td>None</td>\n",
       "      <td>NaN</td>\n",
       "      <td>NaN</td>\n",
       "      <td>NaN</td>\n",
       "      <td>None</td>\n",
       "      <td>None</td>\n",
       "    </tr>\n",
       "    <tr>\n",
       "      <th>171067</th>\n",
       "      <td>NaN</td>\n",
       "      <td>171067</td>\n",
       "      <td>171067</td>\n",
       "      <td>Y</td>\n",
       "      <td>AMPA ORANGE HONEY QU</td>\n",
       "      <td>True</td>\n",
       "      <td>26</td>\n",
       "      <td>19</td>\n",
       "      <td>AMPA ORANGE HONEY QUEEN</td>\n",
       "      <td>023</td>\n",
       "      <td>...</td>\n",
       "      <td>NaN</td>\n",
       "      <td>NaN</td>\n",
       "      <td>NaN</td>\n",
       "      <td>NaN</td>\n",
       "      <td>NaN</td>\n",
       "      <td>NaN</td>\n",
       "      <td>NaN</td>\n",
       "      <td>NaN</td>\n",
       "      <td>NaN</td>\n",
       "      <td>NaN</td>\n",
       "    </tr>\n",
       "  </tbody>\n",
       "</table>\n",
       "<p>45076 rows × 75 columns</p>\n",
       "</div>"
      ],
      "text/plain": [
       "         cprcode  iprcode  oprcode ordertype                pr_abb  pr_active  \\\n",
       "0       225407.0   225407   225407         Y                  MOKU       True   \n",
       "1       241101.0   241101   241101         Y        BUMILGOCHUJANG       True   \n",
       "2       190100.0   190100   190100         Y         WHITE SHIMEJI       True   \n",
       "3        62644.0    62644    62644         Y  STUTE APRICOT JAM430       True   \n",
       "4       192167.0   192167   192167         Y  **COLGATE TOTAL CHAR       True   \n",
       "...          ...      ...      ...       ...                   ...        ...   \n",
       "45071    76931.0    76931    76931         Y  ST. REMY BRANDY 70CL       True   \n",
       "45072   203391.0   203391   203391         Y   CH TERREFORT-QUANCA       True   \n",
       "45073   205603.0   205603   205603         Y   19 GRAIN WHEAT LOAF       True   \n",
       "45074   211585.0   211585   211585         Y                   EGG       True   \n",
       "171067       NaN   171067   171067         Y  AMPA ORANGE HONEY QU       True   \n",
       "\n",
       "       pr_cgcode pr_dpcode                                pr_engname  \\\n",
       "0             87        21                           KONJAC LINGUINI   \n",
       "1             06        08                            BUMILGOCHUJANG   \n",
       "2             05        19                             WHITE SHIMEJI   \n",
       "3             07        08                  STUTE APRICOT JAM 430 G.   \n",
       "4             10        09  **COLGATE TOTAL CHARCOAL DEEP CLEAN 150G   \n",
       "...          ...       ...                                       ...   \n",
       "45071         16        01                     ST. REMY BRANDY 70CL.   \n",
       "45072         10        01                     CH TERREFORT-QUANCARD   \n",
       "45073         15        19                       19 GRAIN WHEAT LOAF   \n",
       "45074         49        19                                       EGG   \n",
       "171067        26        19                   AMPA ORANGE HONEY QUEEN   \n",
       "\n",
       "       pr_ggcode  ... preorder_fix_date preorder_relative_day meta_title  \\\n",
       "0            010  ...               NaN                   NaN       None   \n",
       "1            006  ...               NaN                   NaN       None   \n",
       "2            143  ...               NaN                   NaN       None   \n",
       "3            002  ...               NaN                   NaN       None   \n",
       "4            005  ...               NaN                   NaN       None   \n",
       "...          ...  ...               ...                   ...        ...   \n",
       "45071        002  ...               NaN                   NaN       None   \n",
       "45072        001  ...               NaN                   NaN       None   \n",
       "45073        132  ...               NaN                   NaN       None   \n",
       "45074        001  ...               NaN                   NaN       None   \n",
       "171067       023  ...               NaN                   NaN        NaN   \n",
       "\n",
       "       meta_keywords meta_description depth priority_score  \\\n",
       "0               None             None   NaN            NaN   \n",
       "1               None             None   NaN            NaN   \n",
       "2               None             None   NaN            NaN   \n",
       "3               None             None   NaN            NaN   \n",
       "4               None             None   NaN            NaN   \n",
       "...              ...              ...   ...            ...   \n",
       "45071           None             None   NaN            NaN   \n",
       "45072           None             None   NaN            NaN   \n",
       "45073           None             None   NaN            NaN   \n",
       "45074           None             None   NaN            NaN   \n",
       "171067           NaN              NaN   NaN            NaN   \n",
       "\n",
       "       product_attribute_id product_attribute related_products  \n",
       "0                       NaN              None             None  \n",
       "1                       NaN              None             None  \n",
       "2                       NaN              None             None  \n",
       "3                       NaN              None             None  \n",
       "4                       NaN              None             None  \n",
       "...                     ...               ...              ...  \n",
       "45071                   NaN              None             None  \n",
       "45072                   NaN              None             None  \n",
       "45073                   NaN              None             None  \n",
       "45074                   NaN              None             None  \n",
       "171067                  NaN               NaN              NaN  \n",
       "\n",
       "[45076 rows x 75 columns]"
      ]
     },
     "execution_count": null,
     "metadata": {},
     "output_type": "execute_result"
    }
   ],
   "source": [
    "%%time\n",
    "ProductDatabase.dumpToS3()"
   ]
  },
  {
   "cell_type": "markdown",
   "metadata": {},
   "source": [
    "### lambda function dump to s3"
   ]
  },
  {
   "cell_type": "code",
   "execution_count": null,
   "metadata": {},
   "outputs": [],
   "source": [
    "#export\n",
    "def lambdaDumpToS3(event, _):\n",
    "  result = ProductDatabase.cacheDb(limit = 500)\n",
    "  lastItem = result.iloc[0].to_json()\n",
    "  return Response.returnSuccess({'result': json.loads(lastItem)})\n",
    "#   print(result.fillna(''))\n",
    "#   return Response.getReturn(body = {'result': result.fillna('').iloc[0].to_dict()})"
   ]
  },
  {
   "cell_type": "code",
   "execution_count": null,
   "metadata": {},
   "outputs": [
    {
     "name": "stdout",
     "output_type": "stream",
     "text": [
      "loading hashkey allData-hash\n",
      "loaded hash is 2c173546efe68a494d4484423b33e1b2e8de6d03\n",
      "data is still in sync, using local cache\n",
      "quering for changes\n",
      "convert to df\n",
      "(500, 58)\n",
      "hashKey is allData-hash\n",
      "saving hash to s3\n",
      "saved hash 6c2f587eca3f1e4b484acd6f07dfba9a1152c155\n",
      "saving to remote cache\n",
      "{'cprcode': 225407.0, 'iprcode': 225407, 'oprcode': 225407, 'ordertype': 'Y', 'pr_abb': 'MOKU', 'pr_active': True, 'pr_cgcode': '87', 'pr_dpcode': '21', 'pr_engname': 'KONJAC LINGUINI', 'pr_ggcode': '010', 'pr_market': 'MOKU', 'pr_name': 'บุกเส้นแบน ตราโมกุ', 'pr_sa_method': '1', 'pr_sucode1': 'F1148', 'pr_suref3': 'A', 'prtype': 'I', 'pstype': '1', 'pr_country_th': '', 'pr_country_en': 'Thailand', 'pr_keyword_th': '', 'pr_keyword_en': '', 'pr_filter_th': '', 'pr_filter_en': '', 'online_category_l1_th': 'อาหารสำเร็จรูปและไข่', 'online_category_l1_en': 'Delicatessen & Eggs', 'online_category_l2_th': 'อาหารพร้อมทาน', 'online_category_l2_en': 'Ready Meals', 'online_category_l3_th': '', 'online_category_l3_en': 'Other Ready Meals', 'villa_category_l1_en': 'Fresh', 'villa_category_l2_en': 'Delicatessen', 'villa_category_l3_en': 'Local', 'villa_category_l4_en': 'Local Foods', 'content_en': '0225407 0225407 KONJAC LINGUINI', 'content_th': 'บุกเส้นแบน ตราโมกุ', 'hema_brand_th': '', 'hema_brand_en': 'Moku', 'hema_sizedesc': '160g', 'pr_brand_en': '', 'pr_brand_th': '', 'pr_online_name_en': 'KONJAC LINGUINI', 'pr_online_name_th': 'บุกเส้นแบน ตราโมกุ', 'hema_name_en': 'Konjac Flat Noodle', 'hema_name_th': 'บุกเส้นแบน ตราโมกุ', 'pr_name_en': 'KONJAC LINGUINI', 'pr_name_th': 'บุกเส้นแบน ตราโมกุ', 'pr_barcode': '8858661102531', 'pr_barcode2': '885866110253', 'sort_weight': '0', 'master_online': True, 'salemode_unit': 'ITEM', 'ba_nprice': 25.0, 'sort_villa_sku': 0, 'product_detail_description': '', 'height': 0.0, 'width': 0.0, 'dept': 0.0, 'weight': 0.0, 'psqty': 1, 'avail_store': None, 'portion': None, 'warehouse': None, 'consign_inv': None, 'enabled': None, 'preorder_delivery_type': None, 'preorder_fix_date': None, 'preorder_relative_day': None, 'meta_title': None, 'meta_keywords': None, 'meta_description': None, 'depth': None, 'priority_score': None, 'product_attribute_id': None, 'product_attribute': None, 'related_products': None}\n",
      "CPU times: user 4.25 s, sys: 419 ms, total: 4.66 s\n",
      "Wall time: 6.83 s\n"
     ]
    }
   ],
   "source": [
    "%%time\n",
    "result = Response.fromDict(lambdaDumpToS3('','')).body['result']\n",
    "print(result)"
   ]
  },
  {
   "cell_type": "code",
   "execution_count": null,
   "metadata": {},
   "outputs": [
    {
     "name": "stdout",
     "output_type": "stream",
     "text": [
      "loading hashkey allData-hash\n",
      "loaded hash is 6c2f587eca3f1e4b484acd6f07dfba9a1152c155\n",
      "data is still in sync, using local cache\n"
     ]
    },
    {
     "data": {
      "text/html": [
       "<div>\n",
       "<style scoped>\n",
       "    .dataframe tbody tr th:only-of-type {\n",
       "        vertical-align: middle;\n",
       "    }\n",
       "\n",
       "    .dataframe tbody tr th {\n",
       "        vertical-align: top;\n",
       "    }\n",
       "\n",
       "    .dataframe thead th {\n",
       "        text-align: right;\n",
       "    }\n",
       "</style>\n",
       "<table border=\"1\" class=\"dataframe\">\n",
       "  <thead>\n",
       "    <tr style=\"text-align: right;\">\n",
       "      <th></th>\n",
       "      <th>cprcode</th>\n",
       "      <th>iprcode</th>\n",
       "      <th>oprcode</th>\n",
       "      <th>ordertype</th>\n",
       "      <th>pr_abb</th>\n",
       "      <th>pr_active</th>\n",
       "      <th>pr_cgcode</th>\n",
       "      <th>pr_dpcode</th>\n",
       "      <th>pr_engname</th>\n",
       "      <th>pr_ggcode</th>\n",
       "      <th>...</th>\n",
       "      <th>preorder_fix_date</th>\n",
       "      <th>preorder_relative_day</th>\n",
       "      <th>meta_title</th>\n",
       "      <th>meta_keywords</th>\n",
       "      <th>meta_description</th>\n",
       "      <th>depth</th>\n",
       "      <th>priority_score</th>\n",
       "      <th>product_attribute_id</th>\n",
       "      <th>product_attribute</th>\n",
       "      <th>related_products</th>\n",
       "    </tr>\n",
       "  </thead>\n",
       "  <tbody>\n",
       "    <tr>\n",
       "      <th>0</th>\n",
       "      <td>225407.0</td>\n",
       "      <td>225407</td>\n",
       "      <td>225407</td>\n",
       "      <td>Y</td>\n",
       "      <td>MOKU</td>\n",
       "      <td>True</td>\n",
       "      <td>87</td>\n",
       "      <td>21</td>\n",
       "      <td>KONJAC LINGUINI</td>\n",
       "      <td>010</td>\n",
       "      <td>...</td>\n",
       "      <td>NaN</td>\n",
       "      <td>NaN</td>\n",
       "      <td>None</td>\n",
       "      <td>None</td>\n",
       "      <td>None</td>\n",
       "      <td>NaN</td>\n",
       "      <td>NaN</td>\n",
       "      <td>NaN</td>\n",
       "      <td>None</td>\n",
       "      <td>None</td>\n",
       "    </tr>\n",
       "    <tr>\n",
       "      <th>1</th>\n",
       "      <td>241101.0</td>\n",
       "      <td>241101</td>\n",
       "      <td>241101</td>\n",
       "      <td>Y</td>\n",
       "      <td>BUMILGOCHUJANG</td>\n",
       "      <td>True</td>\n",
       "      <td>06</td>\n",
       "      <td>08</td>\n",
       "      <td>BUMILGOCHUJANG</td>\n",
       "      <td>006</td>\n",
       "      <td>...</td>\n",
       "      <td>NaN</td>\n",
       "      <td>NaN</td>\n",
       "      <td>None</td>\n",
       "      <td>None</td>\n",
       "      <td>None</td>\n",
       "      <td>NaN</td>\n",
       "      <td>NaN</td>\n",
       "      <td>NaN</td>\n",
       "      <td>None</td>\n",
       "      <td>None</td>\n",
       "    </tr>\n",
       "    <tr>\n",
       "      <th>2</th>\n",
       "      <td>190100.0</td>\n",
       "      <td>190100</td>\n",
       "      <td>190100</td>\n",
       "      <td>Y</td>\n",
       "      <td>WHITE SHIMEJI</td>\n",
       "      <td>True</td>\n",
       "      <td>05</td>\n",
       "      <td>19</td>\n",
       "      <td>WHITE SHIMEJI</td>\n",
       "      <td>143</td>\n",
       "      <td>...</td>\n",
       "      <td>NaN</td>\n",
       "      <td>NaN</td>\n",
       "      <td>None</td>\n",
       "      <td>None</td>\n",
       "      <td>None</td>\n",
       "      <td>NaN</td>\n",
       "      <td>NaN</td>\n",
       "      <td>NaN</td>\n",
       "      <td>None</td>\n",
       "      <td>None</td>\n",
       "    </tr>\n",
       "    <tr>\n",
       "      <th>3</th>\n",
       "      <td>62644.0</td>\n",
       "      <td>62644</td>\n",
       "      <td>62644</td>\n",
       "      <td>Y</td>\n",
       "      <td>STUTE APRICOT JAM430</td>\n",
       "      <td>True</td>\n",
       "      <td>07</td>\n",
       "      <td>08</td>\n",
       "      <td>STUTE APRICOT JAM 430 G.</td>\n",
       "      <td>002</td>\n",
       "      <td>...</td>\n",
       "      <td>NaN</td>\n",
       "      <td>NaN</td>\n",
       "      <td>None</td>\n",
       "      <td>None</td>\n",
       "      <td>None</td>\n",
       "      <td>NaN</td>\n",
       "      <td>NaN</td>\n",
       "      <td>NaN</td>\n",
       "      <td>None</td>\n",
       "      <td>None</td>\n",
       "    </tr>\n",
       "    <tr>\n",
       "      <th>4</th>\n",
       "      <td>192167.0</td>\n",
       "      <td>192167</td>\n",
       "      <td>192167</td>\n",
       "      <td>Y</td>\n",
       "      <td>**COLGATE TOTAL CHAR</td>\n",
       "      <td>True</td>\n",
       "      <td>10</td>\n",
       "      <td>09</td>\n",
       "      <td>**COLGATE TOTAL CHARCOAL DEEP CLEAN 150G</td>\n",
       "      <td>005</td>\n",
       "      <td>...</td>\n",
       "      <td>NaN</td>\n",
       "      <td>NaN</td>\n",
       "      <td>None</td>\n",
       "      <td>None</td>\n",
       "      <td>None</td>\n",
       "      <td>NaN</td>\n",
       "      <td>NaN</td>\n",
       "      <td>NaN</td>\n",
       "      <td>None</td>\n",
       "      <td>None</td>\n",
       "    </tr>\n",
       "    <tr>\n",
       "      <th>...</th>\n",
       "      <td>...</td>\n",
       "      <td>...</td>\n",
       "      <td>...</td>\n",
       "      <td>...</td>\n",
       "      <td>...</td>\n",
       "      <td>...</td>\n",
       "      <td>...</td>\n",
       "      <td>...</td>\n",
       "      <td>...</td>\n",
       "      <td>...</td>\n",
       "      <td>...</td>\n",
       "      <td>...</td>\n",
       "      <td>...</td>\n",
       "      <td>...</td>\n",
       "      <td>...</td>\n",
       "      <td>...</td>\n",
       "      <td>...</td>\n",
       "      <td>...</td>\n",
       "      <td>...</td>\n",
       "      <td>...</td>\n",
       "      <td>...</td>\n",
       "    </tr>\n",
       "    <tr>\n",
       "      <th>45071</th>\n",
       "      <td>76931.0</td>\n",
       "      <td>76931</td>\n",
       "      <td>76931</td>\n",
       "      <td>Y</td>\n",
       "      <td>ST. REMY BRANDY 70CL</td>\n",
       "      <td>True</td>\n",
       "      <td>16</td>\n",
       "      <td>01</td>\n",
       "      <td>ST. REMY BRANDY 70CL.</td>\n",
       "      <td>002</td>\n",
       "      <td>...</td>\n",
       "      <td>NaN</td>\n",
       "      <td>NaN</td>\n",
       "      <td>None</td>\n",
       "      <td>None</td>\n",
       "      <td>None</td>\n",
       "      <td>NaN</td>\n",
       "      <td>NaN</td>\n",
       "      <td>NaN</td>\n",
       "      <td>None</td>\n",
       "      <td>None</td>\n",
       "    </tr>\n",
       "    <tr>\n",
       "      <th>45072</th>\n",
       "      <td>203391.0</td>\n",
       "      <td>203391</td>\n",
       "      <td>203391</td>\n",
       "      <td>Y</td>\n",
       "      <td>CH TERREFORT-QUANCA</td>\n",
       "      <td>True</td>\n",
       "      <td>10</td>\n",
       "      <td>01</td>\n",
       "      <td>CH TERREFORT-QUANCARD</td>\n",
       "      <td>001</td>\n",
       "      <td>...</td>\n",
       "      <td>NaN</td>\n",
       "      <td>NaN</td>\n",
       "      <td>None</td>\n",
       "      <td>None</td>\n",
       "      <td>None</td>\n",
       "      <td>NaN</td>\n",
       "      <td>NaN</td>\n",
       "      <td>NaN</td>\n",
       "      <td>None</td>\n",
       "      <td>None</td>\n",
       "    </tr>\n",
       "    <tr>\n",
       "      <th>45073</th>\n",
       "      <td>205603.0</td>\n",
       "      <td>205603</td>\n",
       "      <td>205603</td>\n",
       "      <td>Y</td>\n",
       "      <td>19 GRAIN WHEAT LOAF</td>\n",
       "      <td>True</td>\n",
       "      <td>15</td>\n",
       "      <td>19</td>\n",
       "      <td>19 GRAIN WHEAT LOAF</td>\n",
       "      <td>132</td>\n",
       "      <td>...</td>\n",
       "      <td>NaN</td>\n",
       "      <td>NaN</td>\n",
       "      <td>None</td>\n",
       "      <td>None</td>\n",
       "      <td>None</td>\n",
       "      <td>NaN</td>\n",
       "      <td>NaN</td>\n",
       "      <td>NaN</td>\n",
       "      <td>None</td>\n",
       "      <td>None</td>\n",
       "    </tr>\n",
       "    <tr>\n",
       "      <th>45074</th>\n",
       "      <td>211585.0</td>\n",
       "      <td>211585</td>\n",
       "      <td>211585</td>\n",
       "      <td>Y</td>\n",
       "      <td>EGG</td>\n",
       "      <td>True</td>\n",
       "      <td>49</td>\n",
       "      <td>19</td>\n",
       "      <td>EGG</td>\n",
       "      <td>001</td>\n",
       "      <td>...</td>\n",
       "      <td>NaN</td>\n",
       "      <td>NaN</td>\n",
       "      <td>None</td>\n",
       "      <td>None</td>\n",
       "      <td>None</td>\n",
       "      <td>NaN</td>\n",
       "      <td>NaN</td>\n",
       "      <td>NaN</td>\n",
       "      <td>None</td>\n",
       "      <td>None</td>\n",
       "    </tr>\n",
       "    <tr>\n",
       "      <th>45075</th>\n",
       "      <td>NaN</td>\n",
       "      <td>200710</td>\n",
       "      <td>202776</td>\n",
       "      <td>Y</td>\n",
       "      <td>PACK.50 0200710 OCB</td>\n",
       "      <td>True</td>\n",
       "      <td>02</td>\n",
       "      <td>11</td>\n",
       "      <td>PACK.50 0200710 OCB VERGIN</td>\n",
       "      <td>005</td>\n",
       "      <td>...</td>\n",
       "      <td>NaN</td>\n",
       "      <td>NaN</td>\n",
       "      <td>None</td>\n",
       "      <td>None</td>\n",
       "      <td>None</td>\n",
       "      <td>NaN</td>\n",
       "      <td>NaN</td>\n",
       "      <td>NaN</td>\n",
       "      <td>None</td>\n",
       "      <td>None</td>\n",
       "    </tr>\n",
       "  </tbody>\n",
       "</table>\n",
       "<p>45076 rows × 75 columns</p>\n",
       "</div>"
      ],
      "text/plain": [
       "        cprcode  iprcode  oprcode ordertype                pr_abb  pr_active  \\\n",
       "0      225407.0   225407   225407         Y                  MOKU       True   \n",
       "1      241101.0   241101   241101         Y        BUMILGOCHUJANG       True   \n",
       "2      190100.0   190100   190100         Y         WHITE SHIMEJI       True   \n",
       "3       62644.0    62644    62644         Y  STUTE APRICOT JAM430       True   \n",
       "4      192167.0   192167   192167         Y  **COLGATE TOTAL CHAR       True   \n",
       "...         ...      ...      ...       ...                   ...        ...   \n",
       "45071   76931.0    76931    76931         Y  ST. REMY BRANDY 70CL       True   \n",
       "45072  203391.0   203391   203391         Y   CH TERREFORT-QUANCA       True   \n",
       "45073  205603.0   205603   205603         Y   19 GRAIN WHEAT LOAF       True   \n",
       "45074  211585.0   211585   211585         Y                   EGG       True   \n",
       "45075       NaN   200710   202776         Y   PACK.50 0200710 OCB       True   \n",
       "\n",
       "      pr_cgcode pr_dpcode                                pr_engname pr_ggcode  \\\n",
       "0            87        21                           KONJAC LINGUINI       010   \n",
       "1            06        08                            BUMILGOCHUJANG       006   \n",
       "2            05        19                             WHITE SHIMEJI       143   \n",
       "3            07        08                  STUTE APRICOT JAM 430 G.       002   \n",
       "4            10        09  **COLGATE TOTAL CHARCOAL DEEP CLEAN 150G       005   \n",
       "...         ...       ...                                       ...       ...   \n",
       "45071        16        01                     ST. REMY BRANDY 70CL.       002   \n",
       "45072        10        01                     CH TERREFORT-QUANCARD       001   \n",
       "45073        15        19                       19 GRAIN WHEAT LOAF       132   \n",
       "45074        49        19                                       EGG       001   \n",
       "45075        02        11                PACK.50 0200710 OCB VERGIN       005   \n",
       "\n",
       "       ... preorder_fix_date preorder_relative_day meta_title meta_keywords  \\\n",
       "0      ...               NaN                   NaN       None          None   \n",
       "1      ...               NaN                   NaN       None          None   \n",
       "2      ...               NaN                   NaN       None          None   \n",
       "3      ...               NaN                   NaN       None          None   \n",
       "4      ...               NaN                   NaN       None          None   \n",
       "...    ...               ...                   ...        ...           ...   \n",
       "45071  ...               NaN                   NaN       None          None   \n",
       "45072  ...               NaN                   NaN       None          None   \n",
       "45073  ...               NaN                   NaN       None          None   \n",
       "45074  ...               NaN                   NaN       None          None   \n",
       "45075  ...               NaN                   NaN       None          None   \n",
       "\n",
       "      meta_description depth priority_score product_attribute_id  \\\n",
       "0                 None   NaN            NaN                  NaN   \n",
       "1                 None   NaN            NaN                  NaN   \n",
       "2                 None   NaN            NaN                  NaN   \n",
       "3                 None   NaN            NaN                  NaN   \n",
       "4                 None   NaN            NaN                  NaN   \n",
       "...                ...   ...            ...                  ...   \n",
       "45071             None   NaN            NaN                  NaN   \n",
       "45072             None   NaN            NaN                  NaN   \n",
       "45073             None   NaN            NaN                  NaN   \n",
       "45074             None   NaN            NaN                  NaN   \n",
       "45075             None   NaN            NaN                  NaN   \n",
       "\n",
       "      product_attribute related_products  \n",
       "0                  None             None  \n",
       "1                  None             None  \n",
       "2                  None             None  \n",
       "3                  None             None  \n",
       "4                  None             None  \n",
       "...                 ...              ...  \n",
       "45071              None             None  \n",
       "45072              None             None  \n",
       "45073              None             None  \n",
       "45074              None             None  \n",
       "45075              None             None  \n",
       "\n",
       "[45076 rows x 75 columns]"
      ]
     },
     "execution_count": null,
     "metadata": {},
     "output_type": "execute_result"
    }
   ],
   "source": [
    "product.loadFromCache()"
   ]
  },
  {
   "cell_type": "markdown",
   "metadata": {},
   "source": [
    "# filter and cache for ecommerce"
   ]
  },
  {
   "cell_type": "code",
   "execution_count": null,
   "metadata": {},
   "outputs": [],
   "source": [
    "#export\n",
    "def lambdaDumpOnlineS3(event, *args):\n",
    "  print(f'ecommece col list is {ECOMMERCE_COL_LIST}')\n",
    "  # get all products from db\n",
    "  df:pd.DataFrame = pd.DataFrame([i.data for i in ProductDatabase.scan()])\n",
    "  # get online list from ECOMMERCE_COL_LIST\n",
    "  onlineList:List[str] = yaml.load(requests.get(ECOMMERCE_COL_LIST).content)\n",
    "  # filter df for item\n",
    "  ## condition 1 master online is true\n",
    "  condition1 = df['master_online'] == True\n",
    "  ## condition 2 hema_name_en is not blank\n",
    "  condition2 = df['hema_name_en'] != ''\n",
    "  ## filtered df\n",
    "  onlineDf:pd.DataFrame = df[condition1 & condition2].loc[:,onlineList]\n",
    "  ### log shape and size\n",
    "  print('shape is:',onlineDf.shape)\n",
    "  print('size is:',sys.getsizeof(onlineDf.to_json(orient='split'))/1e6, 'Mb')\n",
    "  \n",
    "  # save file as gzip\n",
    "  key = 'onlineData'\n",
    "  bucket = INVENTORY_BUCKET_NAME\n",
    "  path = '/tmp/inventory.json'\n",
    "  ## export to gzip\n",
    "  onlineDf.to_json(path ,orient='split',compression='gzip')\n",
    "  ## upload file to s3\n",
    "  S3.saveFile(key=key,path=path,bucket=bucket,\n",
    "            ExtraArgs = {**ExtraArgs.gzip, **ExtraArgs.publicRead })\n",
    "  return Response.returnSuccess()\n",
    "\n"
   ]
  },
  {
   "cell_type": "markdown",
   "metadata": {},
   "source": [
    "## test"
   ]
  },
  {
   "cell_type": "code",
   "execution_count": null,
   "metadata": {},
   "outputs": [
    {
     "name": "stderr",
     "output_type": "stream",
     "text": [
      "<ipython-input-26-6f20c99e62c6>:6: YAMLLoadWarning: calling yaml.load() without Loader=... is deprecated, as the default Loader is unsafe. Please read https://msg.pyyaml.org/load for full details.\n",
      "  onlineList:List[str] = yaml.load(requests.get(ECOMMERCE_COL_LIST).content)\n"
     ]
    },
    {
     "name": "stdout",
     "output_type": "stream",
     "text": [
      "shape is: (19108, 11)\n",
      "size is: 3.272721 Mb\n"
     ]
    }
   ],
   "source": [
    "lambdaDumpOnlineS3({})"
   ]
  },
  {
   "cell_type": "markdown",
   "metadata": {},
   "source": [
    "# Save using Standard (instant save)"
   ]
  },
  {
   "cell_type": "code",
   "execution_count": null,
   "metadata": {},
   "outputs": [],
   "source": [
    "#export\n",
    "@dataclass_json(undefined=Undefined.INCLUDE)\n",
    "@dataclass\n",
    "class Product:\n",
    "  iprcode: int\n",
    "  cprcode: int\n",
    "  data: CatchAll\n",
    "@dataclass_json\n",
    "@dataclass\n",
    "class ValueUpdate:\n",
    "  items: List[Product]"
   ]
  },
  {
   "cell_type": "code",
   "execution_count": null,
   "metadata": {},
   "outputs": [],
   "source": [
    "#export\n",
    "def chunks(l, n): return [l[x: x+n] for x in range(0, len(l), n)]"
   ]
  },
  {
   "cell_type": "code",
   "execution_count": null,
   "metadata": {},
   "outputs": [],
   "source": [
    "chunks(list(range(100)),10)"
   ]
  },
  {
   "cell_type": "code",
   "execution_count": null,
   "metadata": {},
   "outputs": [],
   "source": [
    "sampleProducts = [{ 'cprcode': '0171670', 'iprcode': '0171670', 'oprcode': '0171670', 'ordertype': 'Y', 'pr_abb': 'JIRAPAT YOUNG KALE 2', 'pr_active': 'Y', 'pr_cgcode': '05', 'pr_code': '0171670', 'pr_dpcode': '19', 'pr_engname': 'JIRAAT YOUNG KALE 200 G.', 'pr_ggcode': '057', 'pr_market': 'JIRAPAT ยอดคะน้า 200 G.', 'pr_name': 'JIRAPAT ยอดคะน้า 200 G.', 'pr_puqty': '1', 'pr_sa_method': '1', 'pr_sucode1': 'CM845', 'pr_suref3': 'A', 'prtype': 'I', 'psqty': '1', 'pstype': '1'}] #ProductDatabase.valueUpdate({'items':sampleProducts})\n",
    "ProductDatabase.valueUpdate2({'items':ProductDatabase.convertIntCols(sampleProducts)})"
   ]
  },
  {
   "cell_type": "code",
   "execution_count": null,
   "metadata": {},
   "outputs": [],
   "source": [
    "#export\n",
    "def lambdaUpdateProduct (event, _):\n",
    "  products = Event.parseBody(event)['products']\n",
    "  convertedProducts = ProductDatabase.convertIntCols(products)\n",
    "  result = ProductDatabase.valueUpdate2({'items':convertedProducts})\n",
    "  return Response.getReturn(body = result)"
   ]
  },
  {
   "cell_type": "code",
   "execution_count": null,
   "metadata": {},
   "outputs": [],
   "source": [
    "event = Event.getInput(body = {'products':sampleProducts})\n",
    "lambdaUpdateProduct(event, '')"
   ]
  },
  {
   "cell_type": "markdown",
   "metadata": {},
   "source": [
    "## Save using s3"
   ]
  },
  {
   "cell_type": "markdown",
   "metadata": {},
   "source": [
    "### update using s3 link"
   ]
  },
  {
   "cell_type": "code",
   "execution_count": null,
   "metadata": {},
   "outputs": [],
   "source": [
    "#export\n",
    "@add_class_method(ProductDatabase)\n",
    "def updateS3Input(cls, inputBucketName:str = INPUT_BUCKET_NAME, key:str = '', **kwargs):\n",
    "  products = S3.load(key=key, bucket = inputBucketName,  **kwargs)\n",
    "  updateResult = cls.valueUpdate2({'items':cls.convertIntCols(products)})\n",
    "  return updateResult\n"
   ]
  },
  {
   "cell_type": "code",
   "execution_count": null,
   "metadata": {},
   "outputs": [],
   "source": [
    "inputKeyName = 'input-data-name'\n",
    "saveResult = S3.save(key=inputKeyName, \n",
    "                     objectToSave = sampleProducts , \n",
    "                     bucket = INPUT_BUCKET_NAME,\n",
    "                     accelerate = True)\n",
    "logging.info('test input data saved to s3')\n",
    "updateResult = ProductDatabase.updateS3Input( inputBucketName=INPUT_BUCKET_NAME, key= inputKeyName)\n",
    "\n",
    "logging.info(f's3 save result is {saveResult} update result is {updateResult}')"
   ]
  },
  {
   "cell_type": "code",
   "execution_count": null,
   "metadata": {},
   "outputs": [],
   "source": [
    "#export\n",
    "def lambdaUpdateS3(event, _):\n",
    "  inputKeyName = Event.from_dict(event).key()\n",
    "  try:\n",
    "    updateResult = ProductDatabase.updateS3Input(\n",
    "      inputBucketName=INPUT_BUCKET_NAME, key= inputKeyName)\n",
    "  except:\n",
    "    ProductDatabase.notify(f'error updating with s3 {errorString()}')\n",
    "    return Response.returnError(errorString())\n",
    "  \n",
    "  \n",
    "  \n",
    "  ProductDatabase.notify(f'success update {updateResult}')\n",
    "  return Response.getReturn(body = updateResult)"
   ]
  },
  {
   "cell_type": "code",
   "execution_count": null,
   "metadata": {},
   "outputs": [],
   "source": [
    "inputKeyName = 'input-data-name'\n",
    "saveResult = S3.save(key=inputKeyName, \n",
    "                     objectToSave = sampleProducts , \n",
    "                     bucket = INPUT_BUCKET_NAME)\n",
    "event = Event.getInput({'key': inputKeyName})\n",
    "lambdaUpdateS3(event, '')"
   ]
  },
  {
   "cell_type": "markdown",
   "metadata": {},
   "source": [
    "### error data test"
   ]
  },
  {
   "cell_type": "code",
   "execution_count": null,
   "metadata": {},
   "outputs": [],
   "source": [
    "import yaml\n",
    "testData = {'cprcode': 36679, 'iprcode': 36679, 'oprcode': 36679, 'ordertype': 'Y', 'pr_abb': 'LA COOKIES SMALL100G', 'pr_active': 'Y', 'pr_cgcode': '01', 'pr_code': '0036679', 'pr_dpcode': '18', 'pr_engname': 'LA COOKIES BAG SMALL 100 G.', 'pr_ggcode': '006', 'pr_market': 'แอลเอคุกกี้ถุงเล็ก100ก.', 'pr_name': 'แอลเอ คุกกี้ถุงเล็ก 100 ก.', 'pr_puqty': '1.00', 'pr_sa_method': '1', 'pr_sucode1': 'F106', 'pr_suref3': 'A', 'prtype': 'I', 'psqty': '1', 'pstype': '1', 'pr_country_th': 'nan', 'pr_country_en': 'nan', 'pr_keyword_th': 'เบเกอรี่', 'pr_keyword_en': 'Bakery', 'pr_filter_th': 'Bakery  Snacks,Fresh', 'pr_filter_en': 'Bakery  Snacks,Fresh', 'online_category_l1_th': 'อาหารสด', 'online_category_l1_en': 'Fresh', 'online_category_l2_th': 'เบเกอรี่ และ แสน็ค', 'online_category_l2_en': 'Bakery & Snacks', 'online_category_l3_th': 'nan', 'online_category_l3_en': 'nan', 'villa_category_l1_en': 'Fresh', 'villa_category_l2_en': 'Fresh Produce', 'villa_category_l3_en': 'Bakery', 'villa_category_l4_en': 'Cookie and confectionery', 'content_en': '0036679 La Bakery Cookies (s) 100gm Bakery', 'content_th': 'แอลเอ คุกกี้ถุงเล็ก 100 ก. เบเกอรี่', 'hema_brand_th': 'nan', 'hema_brand_en': 'nan', 'hema_sizedesc': 'nan', 'pr_brand_en': 'L.A. Bakery', 'pr_brand_th': 'L.A. Bakery', 'pr_online_name_en': 'La Bakery Cookies (s) 100gm', 'pr_online_name_th': 'แอลเอ คุกกี้ถุงเล็ก 100 ก.', 'hema_name_en': 'La Bakery Cookies (s) 100gm', 'hema_name_th': 'แอลเอ คุกกี้ถุงเล็ก 100 ก.', 'pr_name_en': 'LA COOKIES BAG SMALL 100 G.', 'pr_name_th': 'แอลเอ คุกกี้ถุงเล็ก 100 ก.', 'sort_weight': '0'}\n",
    "print(yaml.dump([testData],allow_unicode=True))\n",
    "print(yaml.dump(sampleProducts,allow_unicode=True))"
   ]
  },
  {
   "cell_type": "code",
   "execution_count": null,
   "metadata": {},
   "outputs": [],
   "source": [
    "inputKeyName = 'input-data-name'\n",
    "saveResult = S3.save(key=inputKeyName, \n",
    "                     objectToSave = [testData] , \n",
    "                     bucket = INPUT_BUCKET_NAME)\n",
    "event = Event.getInput({'key': inputKeyName})\n",
    "lambdaUpdateS3(event, '')"
   ]
  },
  {
   "cell_type": "code",
   "execution_count": null,
   "metadata": {},
   "outputs": [],
   "source": [
    "ProductDatabase.valueUpdate2({'items':ProductDatabase.convertIntCols([testData])})"
   ]
  },
  {
   "cell_type": "code",
   "execution_count": null,
   "metadata": {},
   "outputs": [],
   "source": [
    "next(ProductDatabase.query(36679))"
   ]
  },
  {
   "cell_type": "markdown",
   "metadata": {},
   "source": [
    "## Query test"
   ]
  },
  {
   "cell_type": "markdown",
   "metadata": {},
   "source": [
    "### Product Query"
   ]
  },
  {
   "cell_type": "code",
   "execution_count": null,
   "metadata": {},
   "outputs": [],
   "source": [
    "#export\n",
    "@dataclass_json\n",
    "@dataclass\n",
    "class ProductsFromList:\n",
    "  iprcodes: List[str]"
   ]
  },
  {
   "cell_type": "code",
   "execution_count": null,
   "metadata": {},
   "outputs": [],
   "source": [
    "#export\n",
    "def lambdaProductsFromList(event, *args):\n",
    "  productsFromList = Event.parseDataClass(ProductsFromList,event)\n",
    "  result:pd.DataFrame = ProductDatabase.productsFromList(productsFromList.iprcodes)\n",
    "  results:List[ProductDatabase] = ProductDatabase.fromDf(result)\n",
    "  resultDicts:List[dict] = ProductDatabase.toListDict(results)\n",
    "  return Response.returnSuccess(resultDicts)"
   ]
  },
  {
   "cell_type": "code",
   "execution_count": null,
   "metadata": {},
   "outputs": [],
   "source": [
    "%%time\n",
    "event = Event.getInput({'iprcodes': ['0217153','203915','0000009']})\n",
    "response = lambdaProductsFromList(event)\n",
    "result = Response.parseBody(response)\n",
    "assert len(result) == 3, f'result length is not 3 {len(result)}'\n",
    "assert type(result[0]) == dict, 'result type is not dict'"
   ]
  },
  {
   "cell_type": "code",
   "execution_count": null,
   "metadata": {},
   "outputs": [],
   "source": [
    "event = Event.getInput({'iprcodes':['0000009','203915','0217153']})\n",
    "lambdaProductsFromList(event)"
   ]
  },
  {
   "cell_type": "code",
   "execution_count": null,
   "metadata": {},
   "outputs": [],
   "source": [
    "sampleQueryInput = {\n",
    "    'iprcode': '0171670'\n",
    "}  "
   ]
  },
  {
   "cell_type": "code",
   "execution_count": null,
   "metadata": {},
   "outputs": [],
   "source": [
    "try:\n",
    "  print(ProductDatabase.singleProductQuery({'iprcode':'12345'}))\n",
    "except Exception as e:\n",
    "  print(e)"
   ]
  },
  {
   "cell_type": "code",
   "execution_count": null,
   "metadata": {},
   "outputs": [],
   "source": [
    "ProductDatabase.singleProductQuery(sampleQueryInput)"
   ]
  },
  {
   "cell_type": "code",
   "execution_count": null,
   "metadata": {},
   "outputs": [],
   "source": [
    "#export\n",
    "def lambdaSingleQuery(event, _):\n",
    "  key, value = Event.from_dict(event).firstKey()\n",
    "  try:\n",
    "    result = ProductDatabase.singleProductQuery({key:value}).to_dict()\n",
    "  except Exception as e:\n",
    "    return Response.returnError(f'{e}')\n",
    "  return Response.returnSuccess(body = result)"
   ]
  },
  {
   "cell_type": "code",
   "execution_count": null,
   "metadata": {},
   "outputs": [],
   "source": [
    "event = Event(body = json.dumps(sampleQueryInput)).to_dict()\n",
    "lambdaSingleQuery(event,'')"
   ]
  },
  {
   "cell_type": "code",
   "execution_count": null,
   "metadata": {},
   "outputs": [],
   "source": [
    "result = lambdaSingleQuery(Event.getInput({'iprcode':'11234'}),'')\n",
    "Response.parseBody(result)"
   ]
  },
  {
   "cell_type": "markdown",
   "metadata": {},
   "source": [
    "### AllQuery"
   ]
  },
  {
   "cell_type": "code",
   "execution_count": null,
   "metadata": {},
   "outputs": [],
   "source": [
    "from s3bz.s3bz import Requests\n",
    "import zlib\n",
    "%time url = ProductDatabase.allQuery(bucket = INVENTORY_BUCKET_NAME, key='allData-json.zl')\n",
    "print(url)\n",
    "# response = requests.get(url)\n",
    "def retrieveJsonZl(url):\n",
    "  response:requests.Response = requests.get(url)\n",
    "  if response.status_code != 200:\n",
    "    print(response.json())\n",
    "  else:\n",
    "    content = response.content\n",
    "    jsonDb = zlib.decompress(content).decode()\n",
    "    newDb = pd.read_json(jsonDb,orient='split')\n",
    "    return newDb\n",
    "%time newDb = retrieveJsonZl(url)\n",
    "newDb.head()"
   ]
  },
  {
   "cell_type": "code",
   "execution_count": null,
   "metadata": {},
   "outputs": [],
   "source": [
    "items = filter(lambda x: x != '', newDb['online_category_l1_en'])\n",
    "len(list(newDb['online_category_l1_en'])) - len(list(items))"
   ]
  },
  {
   "cell_type": "code",
   "execution_count": null,
   "metadata": {},
   "outputs": [],
   "source": [
    "items = filter(lambda x: x != '', newDb['online_category_l1_en'])\n",
    "len(list(items))"
   ]
  },
  {
   "cell_type": "code",
   "execution_count": null,
   "metadata": {},
   "outputs": [],
   "source": [
    "newDb.columns"
   ]
  },
  {
   "cell_type": "code",
   "execution_count": null,
   "metadata": {},
   "outputs": [],
   "source": [
    "newDb['pr_suref3'].value_counts()"
   ]
  },
  {
   "cell_type": "code",
   "execution_count": null,
   "metadata": {},
   "outputs": [],
   "source": [
    "#export\n",
    "def lambdaAllQuery(event, *args):\n",
    "  url = ProductDatabase.allQuery(bucket = INVENTORY_BUCKET_NAME, key='allData-json.zl')\n",
    "  return Response.getReturn(body = {'url': url})"
   ]
  },
  {
   "cell_type": "code",
   "execution_count": null,
   "metadata": {},
   "outputs": [],
   "source": [
    "from s3bz.s3bz import Requests\n",
    "%time url = Response.fromDict(lambdaAllQuery('', '')).body['url']\n",
    "%time newDb = retrieveJsonZl(url)\n",
    "newDb.shape"
   ]
  },
  {
   "cell_type": "code",
   "execution_count": null,
   "metadata": {},
   "outputs": [],
   "source": [
    "# Filter and upload for Ecommerce"
   ]
  },
  {
   "cell_type": "markdown",
   "metadata": {},
   "source": [
    "#### AllQueryFeather"
   ]
  },
  {
   "cell_type": "code",
   "execution_count": null,
   "metadata": {},
   "outputs": [],
   "source": [
    "#export\n",
    "def lambdaAllQueryFeather(event, *args):\n",
    "  key = 'allData'\n",
    "  bucket = INVENTORY_BUCKET_NAME\n",
    "  url = ProductDatabase.allQuery(bucket = INVENTORY_BUCKET_NAME, key=key)\n",
    "  hashCode = pdUtils.loadRemoteHash(key=key, bucket=bucket, useUrl = True)\n",
    "  return Response.getReturn(body = {'url': url, 'hash': hashCode})"
   ]
  },
  {
   "cell_type": "code",
   "execution_count": null,
   "metadata": {},
   "outputs": [],
   "source": [
    "%time r = lambdaAllQueryFeather('')\n",
    "%time result = Response.fromDict(r).body\n",
    "url = result['url']\n",
    "%time pd.read_feather(url)"
   ]
  },
  {
   "cell_type": "code",
   "execution_count": null,
   "metadata": {},
   "outputs": [],
   "source": [
    "database = pd.read_feather(result['url'])\n",
    "assert pdUtils.getDfHash(database) == result['hash'] , 'database and hash are not the same'"
   ]
  },
  {
   "cell_type": "markdown",
   "metadata": {},
   "source": [
    "## Update s3, checking scan time"
   ]
  },
  {
   "cell_type": "code",
   "execution_count": null,
   "metadata": {},
   "outputs": [],
   "source": [
    "%%time\n",
    "print('checking scan time')\n",
    "len(list(ProductDatabase.scan()))"
   ]
  },
  {
   "cell_type": "code",
   "execution_count": null,
   "metadata": {},
   "outputs": [],
   "source": [
    "from nicHelper.schema import validateUrl"
   ]
  },
  {
   "cell_type": "code",
   "execution_count": null,
   "metadata": {},
   "outputs": [],
   "source": [
    "input_ = {'cprcode': 123, 'iprcode': 123}\n",
    "result = validateUrl('https://raw.githubusercontent.com/thanakijwanavit/villaMasterSchema/master/Product.json', input_)"
   ]
  },
  {
   "cell_type": "code",
   "execution_count": null,
   "metadata": {},
   "outputs": [],
   "source": [
    "result.cprcode\n",
    "result.iprcode"
   ]
  },
  {
   "cell_type": "code",
   "execution_count": null,
   "metadata": {},
   "outputs": [],
   "source": [
    "from nicHelper.dictUtil import genSchema\n",
    "import yaml"
   ]
  },
  {
   "cell_type": "code",
   "execution_count": null,
   "metadata": {},
   "outputs": [],
   "source": [
    "schema = genSchema(input_,format_='yaml')\n",
    "print(schema)"
   ]
  },
  {
   "cell_type": "code",
   "execution_count": null,
   "metadata": {},
   "outputs": [],
   "source": [
    "schemaDict = yaml.load(schema)"
   ]
  },
  {
   "cell_type": "code",
   "execution_count": null,
   "metadata": {},
   "outputs": [],
   "source": [
    "import json\n",
    "json.dumps(schemaDict)"
   ]
  },
  {
   "cell_type": "code",
   "execution_count": null,
   "metadata": {},
   "outputs": [],
   "source": [
    "import os\n",
    "os.listdir('/tmp/')"
   ]
  },
  {
   "cell_type": "code",
   "execution_count": null,
   "metadata": {},
   "outputs": [],
   "source": [
    "import pandas as pd\n",
    "pd.read_json('/tmp/product.json',orient = 'records')"
   ]
  },
  {
   "cell_type": "code",
   "execution_count": null,
   "metadata": {},
   "outputs": [],
   "source": [
    "with open ('/tmp/product.json', 'r') as f:\n",
    "  productJson = json.load(f)"
   ]
  },
  {
   "cell_type": "code",
   "execution_count": null,
   "metadata": {},
   "outputs": [],
   "source": []
  }
 ],
 "metadata": {
  "kernelspec": {
   "display_name": "python38",
   "language": "python",
   "name": "python38"
  }
 },
 "nbformat": 4,
 "nbformat_minor": 4
}
