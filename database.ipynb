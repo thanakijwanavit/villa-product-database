{
 "cells": [
  {
   "cell_type": "code",
   "execution_count": 1,
   "metadata": {},
   "outputs": [],
   "source": [
    "# default_exp database"
   ]
  },
  {
   "cell_type": "markdown",
   "metadata": {},
   "source": [
    "# module name here\n",
    "\n",
    "> API details."
   ]
  },
  {
   "cell_type": "code",
   "execution_count": 2,
   "metadata": {},
   "outputs": [],
   "source": [
    "#hide\n",
    "import logging\n",
    "logging.basicConfig(level= logging.INFO)\n",
    "log = logging.getLogger(\"pynamodb\")\n",
    "log.setLevel(logging.DEBUG)\n",
    "log.setLevel(logging.WARNING)\n",
    "log.propagate = True\n"
   ]
  },
  {
   "cell_type": "code",
   "execution_count": 26,
   "metadata": {},
   "outputs": [],
   "source": [
    "#hide\n",
    "import pickle, os\n",
    "KEY = ''\n",
    "PW = ''\n",
    "keypath = '/Users/nic/.villa-master-tester'\n",
    "if KEY and PW:\n",
    "  with open (keypath, 'wb') as f:\n",
    "    pickle.dump({\n",
    "        'KEY': KEY,\n",
    "        'PW': PW\n",
    "    }, f)\n",
    "with open(keypath, 'rb') as f:\n",
    "  creden = pickle.load(f)\n",
    "USER = creden['KEY']\n",
    "PW = creden['PW']\n",
    "ACCESS_KEY_ID = USER\n",
    "SECRET_ACCESS_KEY = PW\n",
    "os.environ['DATABASE_TABLE_NAME'] = 'product-database-dev-manual'\n",
    "os.environ['REGION'] = 'ap-southeast-1'\n",
    "os.environ['INVENTORY_BUCKET_NAME'] = 'product-bucket-dev-manual'\n",
    "os.environ['INPUT_BUCKET_NAME'] = 'input-product-bucket-dev-manual'\n",
    "# os.environ['DAX_ENDPOINT'] = None\n",
    "REGION = 'ap-southeast-1'"
   ]
  },
  {
   "cell_type": "code",
   "execution_count": 8,
   "metadata": {},
   "outputs": [],
   "source": [
    "#hide\n",
    "from nbdev.showdoc import *"
   ]
  },
  {
   "cell_type": "code",
   "execution_count": 19,
   "metadata": {},
   "outputs": [],
   "source": [
    "#export\n",
    "from villaProductDatabase.helper import DatabaseHelper\n",
    "from villaProductDatabase.s3 import DatabaseS3\n",
    "from villaProductDatabase.query import Querier\n",
    "from villaProductDatabase.update import Updater\n",
    "import pandas as pd\n",
    "from datetime import datetime\n",
    "from pynamodb.models import Model\n",
    "from pynamodb.attributes import UnicodeAttribute, NumberAttribute, JSONAttribute, BooleanAttribute, BinaryAttribute\n",
    "from pynamodb.indexes import GlobalSecondaryIndex, AllProjection\n",
    "from botocore.config import Config\n",
    "from s3bz.s3bz import S3\n",
    "from pprint import pprint\n",
    "\n",
    "import pickle, json, boto3, bz2, requests, validators, os, logging"
   ]
  },
  {
   "cell_type": "code",
   "execution_count": 20,
   "metadata": {},
   "outputs": [
    {
     "name": "stdout",
     "output_type": "stream",
     "text": [
      "dax endpoint missing\n"
     ]
    }
   ],
   "source": [
    "#export\n",
    "try:\n",
    "  DATABASE_TABLE_NAME = os.environ['DATABASE_TABLE_NAME']\n",
    "  INVENTORY_BUCKET_NAME = os.environ['INVENTORY_BUCKET_NAME']\n",
    "  INPUT_BUCKET_NAME = os.environ['INPUT_BUCKET_NAME']\n",
    "  REGION = os.environ['REGION']\n",
    "  ACCESS_KEY_ID = None\n",
    "  SECRET_ACCESS_KEY = None\n",
    "except Exception as e:\n",
    "  print(f'error, missing environment variables \\n{e}')\n",
    "  DATABASE_TABLE_NAME = None\n",
    "  INVENTORY_BUCKET_NAME = None\n",
    "  INPUT_BUCKET_NAME = None\n",
    "  REGION = 'ap-southeast-1'\n",
    "try:\n",
    "  DAX_ENDPOINT = os.environ['DAX_ENDPOINT']\n",
    "except:\n",
    "  DAX_ENDPOINT = None\n",
    "  print('dax endpoint missing')\n"
   ]
  },
  {
   "cell_type": "markdown",
   "metadata": {},
   "source": [
    "# Secondary Index class"
   ]
  },
  {
   "cell_type": "code",
   "execution_count": 21,
   "metadata": {},
   "outputs": [],
   "source": [
    "#export\n",
    "class NeedUpdateIndex(GlobalSecondaryIndex):\n",
    "  class Meta:\n",
    "    index_name = 'need-update'\n",
    "    projection = AllProjection()\n",
    "    read_capacity_units = 1\n",
    "    write_capacity_units = 1\n",
    "  needUpdate = UnicodeAttribute(default=False, hash_key=True)"
   ]
  },
  {
   "cell_type": "markdown",
   "metadata": {},
   "source": [
    "# Main Database Class"
   ]
  },
  {
   "cell_type": "code",
   "execution_count": 22,
   "metadata": {},
   "outputs": [],
   "source": [
    "#export\n",
    "# dont forget to import dependent classes from the relevant notebooks\n",
    "class Database(Model, DatabaseS3, Updater, Querier, DatabaseHelper):\n",
    "  class Meta:\n",
    "    aws_access_key_id = ACCESS_KEY_ID\n",
    "    aws_secret_access_key = SECRET_ACCESS_KEY\n",
    "    table_name = DATABASE_TABLE_NAME\n",
    "    region = REGION\n",
    "    billing_mode='PAY_PER_REQUEST'\n",
    "    dax_read_endpoints = DAX_ENDPOINT\n",
    "    dax_write_endpoints = DAX_ENDPOINT\n",
    "    \n",
    "  ib_prcode = UnicodeAttribute(hash_key=True, default = '')\n",
    "  lastUpdate = NumberAttribute( default = 0)\n",
    "  inventory = JSONAttribute(default={})\n",
    "  needUpdate = UnicodeAttribute(default= 'N')\n",
    "  needUpdateIndex = NeedUpdateIndex()\n",
    "  TRUE = 'Y'\n",
    "  FALSE = 'N'\n",
    "  \n",
    "  def __repr__(self):\n",
    "    invDict = self.inventory\n",
    "    invDict['ib_prcode'] = self.ib_prcode\n",
    "    return json.dumps(invDict)\n",
    "  def setNoUpdate(self, batch = None):\n",
    "    self.needUpdate = self.FALSE\n",
    "    if batch:\n",
    "      return batch.save(self)\n",
    "    else:\n",
    "      return self.save()\n",
    "  def setUpdate(self):\n",
    "    self.needUpdate = self.TRUE\n",
    "    return self.save()"
   ]
  },
  {
   "cell_type": "markdown",
   "metadata": {},
   "source": [
    "# Tests"
   ]
  },
  {
   "cell_type": "code",
   "execution_count": 23,
   "metadata": {},
   "outputs": [
    {
     "name": "stderr",
     "output_type": "stream",
     "text": [
      "INFO:root:using accelerate endpoint\n",
      "INFO:root:data was saved to s3\n",
      "INFO:root:using accelerate endpoint\n",
      "INFO:root:using accelerate endpoint\n"
     ]
    },
    {
     "name": "stdout",
     "output_type": "stream",
     "text": [
      "True\n"
     ]
    },
    {
     "name": "stderr",
     "output_type": "stream",
     "text": [
      "INFO:root:object exists, loading\n",
      "INFO:root:using accelerate endpoint\n"
     ]
    },
    {
     "data": {
      "text/plain": [
       "{'test': 'test'}"
      ]
     },
     "execution_count": 23,
     "metadata": {},
     "output_type": "execute_result"
    }
   ],
   "source": [
    "#hide\n",
    "# test saving to s3\n",
    "S3.save(\n",
    "   key='test',\n",
    "   objectToSave = {'test':'test'},\n",
    "   bucket = INPUT_BUCKET_NAME,\n",
    "   user = USER,\n",
    "   pw = PW,\n",
    "   accelerate = True\n",
    ")\n",
    "\n",
    "print( S3.exist('test', INPUT_BUCKET_NAME, user=USER, pw=PW, accelerate=True))\n",
    "\n",
    "S3.load(\n",
    "  key = 'test',\n",
    "  bucket = INPUT_BUCKET_NAME ,\n",
    "  user = USER, \n",
    "  pw = PW\n",
    ")"
   ]
  },
  {
   "cell_type": "code",
   "execution_count": 24,
   "metadata": {},
   "outputs": [
    {
     "name": "stderr",
     "output_type": "stream",
     "text": [
      "INFO:botocore.credentials:Found credentials in shared credentials file: ~/.aws/credentials\n"
     ]
    },
    {
     "data": {
      "text/plain": [
       "{'ConsumedCapacity': {'CapacityUnits': 1.0,\n",
       "  'TableName': 'inventory-database-dev-manual'}}"
      ]
     },
     "execution_count": 24,
     "metadata": {},
     "output_type": "execute_result"
    }
   ],
   "source": [
    "#hide\n",
    "# test saving item\n",
    "item = Database(\n",
    "  ib_prcode = '123test',\n",
    "  lastUpdate = 1,\n",
    "  inventory = {'test': '1'},\n",
    "  needUpdate = 'N' )\n",
    "item.save()"
   ]
  },
  {
   "cell_type": "code",
   "execution_count": 25,
   "metadata": {},
   "outputs": [],
   "source": [
    "sampleInput = [\n",
    "               {\n",
    "                  'ib_prcode': '0000009',\n",
    "                  'ib_brcode': '1000',\n",
    "                  'ib_cf_qty': '50',\n",
    "                  'new_ib_vs_stock_cv': '27'\n",
    "                },\n",
    "               {\n",
    "                  'ib_prcode': '0000002',\n",
    "                  'ib_brcode': '1000',\n",
    "                  'ib_cf_qty': '35',\n",
    "                  'new_ib_vs_stock_cv': '33'\n",
    "               }\n",
    "              ]"
   ]
  },
  {
   "cell_type": "markdown",
   "metadata": {},
   "source": [
    "## Dump database to s3"
   ]
  },
  {
   "cell_type": "code",
   "execution_count": null,
   "metadata": {},
   "outputs": [],
   "source": [
    "Database.dumpToS3(user=USER, pw = PW)"
   ]
  },
  {
   "cell_type": "code",
   "execution_count": null,
   "metadata": {},
   "outputs": [],
   "source": [
    "Database.splitBranches(bucket = INVENTORY_BUCKET_NAME, user=USER, pw=PW)"
   ]
  },
  {
   "cell_type": "markdown",
   "metadata": {},
   "source": [
    "# Save using Standard"
   ]
  },
  {
   "cell_type": "code",
   "execution_count": null,
   "metadata": {},
   "outputs": [],
   "source": [
    "Database.updateLambdaInput(sampleInput)"
   ]
  },
  {
   "cell_type": "markdown",
   "metadata": {},
   "source": [
    "## Save using s3"
   ]
  },
  {
   "cell_type": "code",
   "execution_count": null,
   "metadata": {},
   "outputs": [],
   "source": [
    "inputKeyName = 'input-data-name'\n",
    "saveResult = S3.save(key=inputKeyName, \n",
    "                     objectToSave = sampleInput , \n",
    "                     bucket = INPUT_BUCKET_NAME,\n",
    "                     user = USER,\n",
    "                     pw = PW,\n",
    "                     accelerate = False)\n",
    "logging.info('test input data saved to s3')\n",
    "updateResult = Database.updateS3Input(\n",
    "  inputBucketName=INPUT_BUCKET_NAME, key= inputKeyName,\n",
    "  user = USER, pw = PW)\n",
    "\n",
    "logging.info(f's3 save result is {saveResult} update result is {updateResult}')"
   ]
  },
  {
   "cell_type": "markdown",
   "metadata": {},
   "source": [
    "## Query test"
   ]
  },
  {
   "cell_type": "markdown",
   "metadata": {},
   "source": [
    "### Product Query"
   ]
  },
  {
   "cell_type": "code",
   "execution_count": null,
   "metadata": {},
   "outputs": [],
   "source": [
    "sampleQueryInput = {\n",
    "    'ib_prcode': '0000002'\n",
    "}  "
   ]
  },
  {
   "cell_type": "code",
   "execution_count": null,
   "metadata": {},
   "outputs": [],
   "source": [
    "Database.singleProductQuery(sampleQueryInput)"
   ]
  },
  {
   "cell_type": "markdown",
   "metadata": {},
   "source": [
    "### Branch Query"
   ]
  },
  {
   "cell_type": "code",
   "execution_count": null,
   "metadata": {},
   "outputs": [],
   "source": [
    "from s3bz.s3bz import Requests\n",
    "branchURL = Database.branchQuery('1000', bucket = INVENTORY_BUCKET_NAME, user=USER, pw=PW)\n",
    "print(branchURL)\n",
    "Requests.getContentFromUrl(branchURL)"
   ]
  },
  {
   "cell_type": "markdown",
   "metadata": {},
   "source": [
    "### AllQuery"
   ]
  },
  {
   "cell_type": "code",
   "execution_count": null,
   "metadata": {},
   "outputs": [],
   "source": [
    "from s3bz.s3bz import Requests\n",
    "branchURL = Database.allQuery(bucket = INVENTORY_BUCKET_NAME, user=USER, pw=PW)\n",
    "print(branchURL)\n",
    "Requests.getContentFromUrl(branchURL)"
   ]
  },
  {
   "cell_type": "code",
   "execution_count": null,
   "metadata": {},
   "outputs": [],
   "source": []
  },
  {
   "cell_type": "code",
   "execution_count": null,
   "metadata": {},
   "outputs": [],
   "source": [
    "#hide\n",
    "print('passed the unit test')"
   ]
  },
  {
   "cell_type": "code",
   "execution_count": null,
   "metadata": {},
   "outputs": [],
   "source": []
  },
  {
   "cell_type": "code",
   "execution_count": null,
   "metadata": {},
   "outputs": [],
   "source": []
  },
  {
   "cell_type": "code",
   "execution_count": null,
   "metadata": {},
   "outputs": [],
   "source": []
  }
 ],
 "metadata": {
  "kernelspec": {
   "display_name": "Python 3",
   "language": "python",
   "name": "python3"
  },
  "language_info": {
   "codemirror_mode": {
    "name": "ipython",
    "version": 3
   },
   "file_extension": ".py",
   "mimetype": "text/x-python",
   "name": "python",
   "nbconvert_exporter": "python",
   "pygments_lexer": "ipython3",
   "version": "3.8.2"
  }
 },
 "nbformat": 4,
 "nbformat_minor": 4
}
