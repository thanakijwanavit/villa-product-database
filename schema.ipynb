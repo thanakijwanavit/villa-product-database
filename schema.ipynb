{
 "cells": [
  {
   "cell_type": "code",
   "execution_count": null,
   "metadata": {},
   "outputs": [],
   "source": [
    "# default_exp schema"
   ]
  },
  {
   "cell_type": "markdown",
   "metadata": {},
   "source": [
    "# schema"
   ]
  },
  {
   "cell_type": "code",
   "execution_count": null,
   "metadata": {},
   "outputs": [],
   "source": [
    "#export\n",
    "from dataclasses import field\n",
    "from dataclasses import dataclass\n",
    "from dataclasses_json import dataclass_json\n",
    "from typing import Optional, List\n",
    "import json\n",
    "\n",
    "@dataclass_json\n",
    "@dataclass\n",
    "class Response:\n",
    "  body: str\n",
    "  statusCode: int = 200\n",
    "  header: dict = field(default_factory = dict)\n",
    "  @classmethod\n",
    "  def fromDict(cls, dictInput:dict):\n",
    "    body = dictInput.pop('body')\n",
    "    return cls(\n",
    "      body = json.loads(body),\n",
    "      **dictInput\n",
    "    )\n",
    "  @classmethod\n",
    "  def getReturn(cls, body:dict, header:dict = {}, statusCode = 200)->dict:\n",
    "    returnObj = cls(\n",
    "      body = json.dumps(body),\n",
    "      header = header,\n",
    "      statusCode = statusCode\n",
    "                   ).to_dict()\n",
    "    return returnObj\n",
    "@dataclass_json\n",
    "@dataclass\n",
    "class Event:\n",
    "  body: str\n",
    "  header: dict = field(default_factory = dict)\n",
    "  def getBody(self):\n",
    "    return json.loads(self.body)\n",
    "  def getProducts(self):\n",
    "    return Products.from_json(self.body)\n",
    "  key = lambda self: json.loads(self.body)['key']\n",
    "  firstKey = lambda self: next(iter(json.loads(self.body).items()))\n",
    "@dataclass_json\n",
    "@dataclass\n",
    "class Product:\n",
    "  cprcode: str\n",
    "  iprcode: str\n",
    "  oprcode: str\n",
    "  ordertype: str\n",
    "  pr_abb: str\n",
    "@dataclass_json\n",
    "@dataclass\n",
    "class Products:\n",
    "  products: List[Product]"
   ]
  },
  {
   "cell_type": "code",
   "execution_count": null,
   "metadata": {},
   "outputs": [],
   "source": [
    "sampleProducts = [{'cprcode': '0171670', 'iprcode': '0171670', 'oprcode': '0171670', 'ordertype': 'Y', 'pr_abb': 'JIRAPAT YOUNG KALE 2', 'pr_active': 'Y', 'pr_cgcode': '05', 'pr_code': '0171670', 'pr_dpcode': '19', 'pr_engname': 'JIRAPAT YOUNG KALE 200 G.', 'pr_ggcode': '057', 'pr_market': 'JIRAPAT ยอดคะน้า 200 G.', 'pr_name': 'JIRAPAT ยอดคะน้า 200 G.', 'pr_puqty': '1', 'pr_sa_method': '1', 'pr_sucode1': 'CM845     ', 'pr_suref3': 'A', 'prtype': 'I', 'psqty': '1', 'pstype': '1'}, {'cprcode': '0235141', 'iprcode': '0235141', 'oprcode': '0235141', 'ordertype': 'Y', 'pr_abb': 'EEBOO-PZCT3-PUZZLE', 'pr_active': 'Y', 'pr_cgcode': '08', 'pr_code': '0235141', 'pr_dpcode': '19', 'pr_engname': 'EEBOO,ANIMAL COUNTING PUZZLE_3ED,PZCT3', 'pr_ggcode': '113', 'pr_market': 'eeboo,PUZZLE-PZCT3', 'pr_name': 'EEBOO-PZCT3-ตัวต่อนับเลข ANIMAL COUNTING_3ED', 'pr_puqty': '1', 'pr_sa_method': '1', 'pr_sucode1': 'CM1979    ', 'pr_suref3': 'A', 'prtype': 'I', 'psqty': '1', 'pstype': '1'}, {'cprcode': '0217153', 'iprcode': '0217153', 'oprcode': '0217153', 'ordertype': 'Y', 'pr_abb': 'COCOA LOCO MILK CHOC', 'pr_active': 'Y', 'pr_cgcode': '98', 'pr_code': '0217153', 'pr_dpcode': '28', 'pr_engname': 'COCOA LOCO MILK CHOCOLATE OWL LOLLY 26G.', 'pr_ggcode': '003', 'pr_market': 'COCOA LOCO MILK CHOCOLATE OWL', 'pr_name': 'COCOA LOCO MILK CHOCOLATE OWL LOLLY 26G.', 'pr_puqty': '24', 'pr_sa_method': '1', 'pr_sucode1': 'F1222     ', 'pr_suref3': 'S', 'prtype': 'I', 'psqty': '1', 'pstype': '1'}, {'cprcode': '0182223', 'iprcode': '0182223', 'oprcode': '0182223', 'ordertype': 'Y', 'pr_abb': 'CIRIO PIZZASSIMO 400', 'pr_active': 'Y', 'pr_cgcode': '06', 'pr_code': '0182223', 'pr_dpcode': '06', 'pr_engname': 'CIRIO PIZZASSIMO 400G.', 'pr_ggcode': '004', 'pr_market': 'CIRIO ซอสทำพิซซ่า 400 G.', 'pr_name': 'CIRIO ซอสทำพิซซ่า 400 G.', 'pr_puqty': '12', 'pr_sa_method': '1', 'pr_sucode1': '2589      ', 'pr_suref3': 'C', 'prtype': 'I', 'psqty': '1', 'pstype': '1'}, {'cprcode': '0124461', 'iprcode': '0124461', 'oprcode': '0124461', 'ordertype': 'Y', 'pr_abb': 'NEW CHOICE LYCHEE', 'pr_active': 'Y', 'pr_cgcode': '02', 'pr_code': '0124461', 'pr_dpcode': '02', 'pr_engname': 'NEW CHOICE LYCHEE', 'pr_ggcode': '003', 'pr_market': 'NEW CHOICE กลิ่นลิ้นจี่', 'pr_name': 'NEW CHOICE กลิ่นลิ้นจี่', 'pr_puqty': '12', 'pr_sa_method': '1', 'pr_sucode1': '695       ', 'pr_suref3': 'A', 'prtype': 'I', 'psqty': '1', 'pstype': '1'}]\n",
    "sampleEvent = {'body': json.dumps({'products': sampleProducts})}"
   ]
  },
  {
   "cell_type": "code",
   "execution_count": null,
   "metadata": {},
   "outputs": [
    {
     "data": {
      "text/plain": [
       "{'products': [{'cprcode': '0171670',\n",
       "   'iprcode': '0171670',\n",
       "   'oprcode': '0171670',\n",
       "   'ordertype': 'Y',\n",
       "   'pr_abb': 'JIRAPAT YOUNG KALE 2'},\n",
       "  {'cprcode': '0235141',\n",
       "   'iprcode': '0235141',\n",
       "   'oprcode': '0235141',\n",
       "   'ordertype': 'Y',\n",
       "   'pr_abb': 'EEBOO-PZCT3-PUZZLE'},\n",
       "  {'cprcode': '0217153',\n",
       "   'iprcode': '0217153',\n",
       "   'oprcode': '0217153',\n",
       "   'ordertype': 'Y',\n",
       "   'pr_abb': 'COCOA LOCO MILK CHOC'},\n",
       "  {'cprcode': '0182223',\n",
       "   'iprcode': '0182223',\n",
       "   'oprcode': '0182223',\n",
       "   'ordertype': 'Y',\n",
       "   'pr_abb': 'CIRIO PIZZASSIMO 400'},\n",
       "  {'cprcode': '0124461',\n",
       "   'iprcode': '0124461',\n",
       "   'oprcode': '0124461',\n",
       "   'ordertype': 'Y',\n",
       "   'pr_abb': 'NEW CHOICE LYCHEE'}]}"
      ]
     },
     "execution_count": null,
     "metadata": {},
     "output_type": "execute_result"
    }
   ],
   "source": [
    "# getProducts\n",
    "Event.from_dict(sampleEvent).getProducts().to_dict()"
   ]
  },
  {
   "cell_type": "code",
   "execution_count": null,
   "metadata": {},
   "outputs": [
    {
     "data": {
      "text/plain": [
       "{'body': '{\"hello\": \"hello\"}', 'statusCode': 200, 'header': {}}"
      ]
     },
     "execution_count": null,
     "metadata": {},
     "output_type": "execute_result"
    }
   ],
   "source": [
    "Response(body = json.dumps({ 'hello':'hello' })).to_dict()"
   ]
  },
  {
   "cell_type": "code",
   "execution_count": null,
   "metadata": {},
   "outputs": [],
   "source": []
  }
 ],
 "metadata": {
  "kernelspec": {
   "display_name": "Python 3",
   "language": "python",
   "name": "python3"
  }
 },
 "nbformat": 4,
 "nbformat_minor": 4
}
