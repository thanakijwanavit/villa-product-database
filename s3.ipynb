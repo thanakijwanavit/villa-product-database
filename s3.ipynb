{
 "cells": [
  {
   "cell_type": "code",
   "execution_count": null,
   "metadata": {},
   "outputs": [],
   "source": [
    "#default_exp s3"
   ]
  },
  {
   "cell_type": "markdown",
   "metadata": {},
   "source": [
    "# S3"
   ]
  },
  {
   "cell_type": "code",
   "execution_count": 2,
   "metadata": {},
   "outputs": [],
   "source": [
    "#export\n",
    "import os, logging\n",
    "from s3bz.s3bz import S3"
   ]
  },
  {
   "cell_type": "code",
   "execution_count": 3,
   "metadata": {},
   "outputs": [
    {
     "name": "stdout",
     "output_type": "stream",
     "text": [
      "missing environment variable 'INVENTORY_BUCKET_NAME' in Database s3 NB\n"
     ]
    }
   ],
   "source": [
    "#export\n",
    "try:\n",
    "  INVENTORY_BUCKET_NAME = os.environ['INVENTORY_BUCKET_NAME']\n",
    "except Exception as e:\n",
    "  print(f'missing environment variable {e} in Database s3 NB')\n",
    "  INVENTORY_BUCKET_NAME = None"
   ]
  },
  {
   "cell_type": "markdown",
   "metadata": {},
   "source": [
    "# Schema for s3 object\n",
    "\n",
    "```\n",
    "iprcode: str\n",
    "  cprcode: str\n",
    "    data: dict\n",
    "```"
   ]
  },
  {
   "cell_type": "code",
   "execution_count": 5,
   "metadata": {},
   "outputs": [],
   "source": [
    "#export\n",
    "class DatabaseS3: \n",
    "  @classmethod\n",
    "  def loadFromS3(cls, bucketName= INVENTORY_BUCKET_NAME, key = 'allData', **kwargs):\n",
    "    logging.info(f'loading from {bucketName}')\n",
    "    logging.info(f'user is {kwargs.get(\"user\")}')\n",
    "    return S3.load(key=key, bucket = bucketName,  **kwargs)\n",
    "\n",
    "  @classmethod\n",
    "  def dumpToS3(cls, bucketName= INVENTORY_BUCKET_NAME, key = 'allData', **kwargs):\n",
    "    ''' upload changes to s3'''\n",
    "    allData = cls.loadFromS3(bucketName = bucketName, key = key, **kwargs)\n",
    "    originalData = allData.copy()\n",
    "    \n",
    "    logging.debug(f'all data is {len(allData)}')\n",
    "    changeList = list(cls.needsUpdateIndex.query(cls.TRUE))\n",
    "    logging.debug(f'{len(changeList)} changes to update')\n",
    "    \n",
    "    with cls.batch_write() as batch:\n",
    "      for dbObject in changeList:\n",
    "        item = dbObject.data\n",
    "        # if product doesnt exist, create an empty dict\n",
    "        if not allData.get(item['iprcode']): allData[item['iprcode']] = {}\n",
    "        # if cprcode doesnt exist, create an empty dict\n",
    "        if not allData.get(item['iprcode']).get(item['cprcode']): allData[item['iprcode']][item['cprcode']] = {}\n",
    "        # update product\n",
    "        allData[item['iprcode']][item['cprcode']].update(item)\n",
    "        # set no change to all data after update\n",
    "        dbObject.setNoUpdate(batch=batch)\n",
    "      \n",
    "    if allData != originalData:\n",
    "      logging.debug(f'updating')\n",
    "      logging.debug(S3.save(key = 'allData', \n",
    "                  objectToSave = allData, \n",
    "                  bucket = bucketName, **kwargs)\n",
    "      )\n",
    "    else:\n",
    "      logging.debug('no changes to update')\n",
    "\n",
    "    logging.info(f'alldata is {next(iter(allData.items()))}')\n",
    "    return f\"saved {len(list(allData.keys()))} products\"\n",
    "  "
   ]
  },
  {
   "cell_type": "code",
   "execution_count": null,
   "metadata": {},
   "outputs": [],
   "source": []
  }
 ],
 "metadata": {
  "kernelspec": {
   "display_name": "Python 3",
   "language": "python",
   "name": "python3"
  },
  "language_info": {
   "codemirror_mode": {
    "name": "ipython",
    "version": 3
   },
   "file_extension": ".py",
   "mimetype": "text/x-python",
   "name": "python",
   "nbconvert_exporter": "python",
   "pygments_lexer": "ipython3",
   "version": "3.8.1"
  }
 },
 "nbformat": 4,
 "nbformat_minor": 4
}
