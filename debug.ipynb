{
 "cells": [
  {
   "cell_type": "markdown",
   "metadata": {},
   "source": [
    "# debug Class\n",
    "\n",
    "> API details."
   ]
  },
  {
   "cell_type": "code",
   "execution_count": 6,
   "metadata": {},
   "outputs": [],
   "source": [
    "#hide\n",
    "import logging\n",
    "logging.basicConfig(level= logging.WARNING)\n",
    "log = logging.getLogger(\"pynamodb\")\n",
    "log.setLevel(logging.DEBUG)\n",
    "log.setLevel(logging.WARNING)\n",
    "log.propagate = True\n"
   ]
  },
  {
   "cell_type": "code",
   "execution_count": 7,
   "metadata": {},
   "outputs": [],
   "source": [
    "#hide\n",
    "import pickle, os, json\n",
    "\n",
    "os.environ['DATABASE_TABLE_NAME'] = 'product-table-dev-manual'\n",
    "os.environ['BRANCH'] = 'dev'\n",
    "os.environ['REGION'] = 'ap-southeast-1'\n",
    "os.environ['INVENTORY_BUCKET_NAME'] = 'product-bucket-dev-manual'\n",
    "os.environ['INPUT_BUCKET_NAME'] = 'input-product-bucket-dev-manual'\n",
    "os.environ['DAX_ENDPOINT'] = 'longtermcluster.vuu7lr.clustercfg.dax.apse1.cache.amazonaws.com:8111'\n",
    "os.environ['LINEKEY'] = '2uAfV4AoYglUGmKTAk2xNOm0aV2Ufgh1BQPvQl9vJd4'\n",
    "os.environ['INTCOLS'] = json.dumps(['cprcode', 'iprcode', 'oprcode',  'sellingPrice'])\n",
    "REGION = 'ap-southeast-1'"
   ]
  },
  {
   "cell_type": "code",
   "execution_count": 29,
   "metadata": {},
   "outputs": [],
   "source": [
    "\n",
    "BRANCH='dev'\n",
    "ECOMMERCE_COL_LIST = f'https://raw.githubusercontent.com/thanakijwanavit/villaMasterSchema/{BRANCH}/product/ecommerceColList.yaml'"
   ]
  },
  {
   "cell_type": "code",
   "execution_count": 8,
   "metadata": {},
   "outputs": [
    {
     "name": "stdout",
     "output_type": "stream",
     "text": [
      "\"[\\\"cprcode\\\", \\\"iprcode\\\", \\\"oprcode\\\", \\\"sellingPrice\\\"]\"\n"
     ]
    }
   ],
   "source": [
    "#hide\n",
    "print(json.dumps(os.environ['INTCOLS']))"
   ]
  },
  {
   "cell_type": "code",
   "execution_count": 30,
   "metadata": {},
   "outputs": [],
   "source": [
    "from villaProductDatabase.database import ProductDatabase, lambdaDumpOnlineS3\n",
    "import pandas as pd\n",
    "from typing import List\n",
    "import yaml, requests"
   ]
  },
  {
   "cell_type": "markdown",
   "metadata": {},
   "source": [
    "## LambdaDumpOnline"
   ]
  },
  {
   "cell_type": "code",
   "execution_count": 12,
   "metadata": {},
   "outputs": [
    {
     "name": "stdout",
     "output_type": "stream",
     "text": [
      "ecommece col list is https://raw.githubusercontent.com/thanakijwanavit/villaMasterSchema/dev/product/ecommerceColList.yaml\n"
     ]
    },
    {
     "name": "stderr",
     "output_type": "stream",
     "text": [
      "/home/ec2-user/SageMaker/stacks/villaMaster/villa-master-dev/product/database2/villaProductDatabase/database.py:147: YAMLLoadWarning: calling yaml.load() without Loader=... is deprecated, as the default Loader is unsafe. Please read https://msg.pyyaml.org/load for full details.\n",
      "  onlineList:List[str] = yaml.load(requests.get(ECOMMERCE_COL_LIST).content)\n"
     ]
    },
    {
     "name": "stdout",
     "output_type": "stream",
     "text": [
      "shape is: (20158, 11)\n",
      "size is: 3.275739 Mb\n"
     ]
    },
    {
     "data": {
      "text/plain": [
       "{'body': '{}',\n",
       " 'statusCode': 200,\n",
       " 'headers': {'Access-Control-Allow-Headers': '*',\n",
       "  'Access-Control-Allow-Origin': '*',\n",
       "  'Access-Control-Allow-Methods': '*'}}"
      ]
     },
     "execution_count": 12,
     "metadata": {},
     "output_type": "execute_result"
    }
   ],
   "source": [
    "lambdaDumpOnlineS3({})"
   ]
  },
  {
   "cell_type": "code",
   "execution_count": 13,
   "metadata": {},
   "outputs": [],
   "source": [
    "from inspect import getsource"
   ]
  },
  {
   "cell_type": "code",
   "execution_count": 15,
   "metadata": {},
   "outputs": [
    {
     "name": "stdout",
     "output_type": "stream",
     "text": [
      "def lambdaDumpOnlineS3(event, *args):\n",
      "  print(f'ecommece col list is {ECOMMERCE_COL_LIST}')\n",
      "  # get all products from db\n",
      "  df:pd.DataFrame = pd.DataFrame([i.data for i in ProductDatabase.scan()])\n",
      "  # get online list from ECOMMERCE_COL_LIST\n",
      "  onlineList:List[str] = yaml.load(requests.get(ECOMMERCE_COL_LIST).content)\n",
      "  # filter df for item\n",
      "  ## condition 1 master online is true\n",
      "  condition1 = df['master_online'] == True\n",
      "  ## condition 2 hema_name_en is not blank\n",
      "  condition2 = df['hema_name_en'] != ''\n",
      "  ## filtered df\n",
      "  onlineDf:pd.DataFrame = df[condition1 & condition2].loc[:,onlineList]\n",
      "  ### log shape and size\n",
      "  print('shape is:',onlineDf.shape)\n",
      "  print('size is:',sys.getsizeof(onlineDf.to_json(orient='split'))/1e6, 'Mb')\n",
      "\n",
      "  # save file as gzip\n",
      "  key = 'onlineData'\n",
      "  bucket = INVENTORY_BUCKET_NAME\n",
      "  path = '/tmp/inventory.json'\n",
      "  ## export to gzip\n",
      "  onlineDf.to_json(path ,orient='split',compression='gzip')\n",
      "  ## upload file to s3\n",
      "  S3.saveFile(key=key,path=path,bucket=bucket,\n",
      "            ExtraArgs = {**ExtraArgs.gzip, **ExtraArgs.publicRead })\n",
      "  return Response.returnSuccess()\n",
      "\n"
     ]
    }
   ],
   "source": [
    "print(getsource(lambdaDumpOnlineS3))"
   ]
  },
  {
   "cell_type": "markdown",
   "metadata": {},
   "source": [
    "## get all products"
   ]
  },
  {
   "cell_type": "code",
   "execution_count": 18,
   "metadata": {},
   "outputs": [
    {
     "data": {
      "text/html": [
       "<div>\n",
       "<style scoped>\n",
       "    .dataframe tbody tr th:only-of-type {\n",
       "        vertical-align: middle;\n",
       "    }\n",
       "\n",
       "    .dataframe tbody tr th {\n",
       "        vertical-align: top;\n",
       "    }\n",
       "\n",
       "    .dataframe thead th {\n",
       "        text-align: right;\n",
       "    }\n",
       "</style>\n",
       "<table border=\"1\" class=\"dataframe\">\n",
       "  <thead>\n",
       "    <tr style=\"text-align: right;\">\n",
       "      <th></th>\n",
       "      <th>cprcode</th>\n",
       "      <th>iprcode</th>\n",
       "      <th>oprcode</th>\n",
       "      <th>ordertype</th>\n",
       "      <th>pr_abb</th>\n",
       "      <th>pr_active</th>\n",
       "      <th>pr_cgcode</th>\n",
       "      <th>pr_dpcode</th>\n",
       "      <th>pr_engname</th>\n",
       "      <th>pr_ggcode</th>\n",
       "      <th>...</th>\n",
       "      <th>preorder_delivery_type</th>\n",
       "      <th>preorder_fix_date</th>\n",
       "      <th>preorder_relative_day</th>\n",
       "      <th>meta_title</th>\n",
       "      <th>meta_keywords</th>\n",
       "      <th>meta_description</th>\n",
       "      <th>depth</th>\n",
       "      <th>priority_score</th>\n",
       "      <th>product_attribute_images</th>\n",
       "      <th>related_products</th>\n",
       "    </tr>\n",
       "  </thead>\n",
       "  <tbody>\n",
       "    <tr>\n",
       "      <th>0</th>\n",
       "      <td>225407</td>\n",
       "      <td>225407</td>\n",
       "      <td>225407</td>\n",
       "      <td>Y</td>\n",
       "      <td>MOKU</td>\n",
       "      <td>True</td>\n",
       "      <td>87</td>\n",
       "      <td>21</td>\n",
       "      <td>KONJAC LINGUINI</td>\n",
       "      <td>010</td>\n",
       "      <td>...</td>\n",
       "      <td>NaN</td>\n",
       "      <td>NaN</td>\n",
       "      <td>NaN</td>\n",
       "      <td>NaN</td>\n",
       "      <td>NaN</td>\n",
       "      <td>NaN</td>\n",
       "      <td>NaN</td>\n",
       "      <td>NaN</td>\n",
       "      <td>NaN</td>\n",
       "      <td>NaN</td>\n",
       "    </tr>\n",
       "    <tr>\n",
       "      <th>1</th>\n",
       "      <td>241101</td>\n",
       "      <td>241101</td>\n",
       "      <td>241101</td>\n",
       "      <td>Y</td>\n",
       "      <td>BUMILGOCHUJANG</td>\n",
       "      <td>True</td>\n",
       "      <td>06</td>\n",
       "      <td>08</td>\n",
       "      <td>BUMILGOCHUJANG</td>\n",
       "      <td>006</td>\n",
       "      <td>...</td>\n",
       "      <td>NaN</td>\n",
       "      <td>NaN</td>\n",
       "      <td>NaN</td>\n",
       "      <td>NaN</td>\n",
       "      <td>NaN</td>\n",
       "      <td>NaN</td>\n",
       "      <td>NaN</td>\n",
       "      <td>NaN</td>\n",
       "      <td>NaN</td>\n",
       "      <td>NaN</td>\n",
       "    </tr>\n",
       "    <tr>\n",
       "      <th>2</th>\n",
       "      <td>190100</td>\n",
       "      <td>190100</td>\n",
       "      <td>190100</td>\n",
       "      <td>Y</td>\n",
       "      <td>WHITE SHIMEJI</td>\n",
       "      <td>True</td>\n",
       "      <td>05</td>\n",
       "      <td>19</td>\n",
       "      <td>WHITE SHIMEJI</td>\n",
       "      <td>143</td>\n",
       "      <td>...</td>\n",
       "      <td>NaN</td>\n",
       "      <td>NaN</td>\n",
       "      <td>NaN</td>\n",
       "      <td>NaN</td>\n",
       "      <td>NaN</td>\n",
       "      <td>NaN</td>\n",
       "      <td>NaN</td>\n",
       "      <td>NaN</td>\n",
       "      <td>NaN</td>\n",
       "      <td>NaN</td>\n",
       "    </tr>\n",
       "    <tr>\n",
       "      <th>3</th>\n",
       "      <td>62644</td>\n",
       "      <td>62644</td>\n",
       "      <td>62644</td>\n",
       "      <td>Y</td>\n",
       "      <td>STUTE APRICOT JAM430</td>\n",
       "      <td>True</td>\n",
       "      <td>07</td>\n",
       "      <td>08</td>\n",
       "      <td>STUTE APRICOT JAM 430 G.</td>\n",
       "      <td>002</td>\n",
       "      <td>...</td>\n",
       "      <td>NaN</td>\n",
       "      <td>NaN</td>\n",
       "      <td>NaN</td>\n",
       "      <td>NaN</td>\n",
       "      <td>NaN</td>\n",
       "      <td>NaN</td>\n",
       "      <td>NaN</td>\n",
       "      <td>NaN</td>\n",
       "      <td>NaN</td>\n",
       "      <td>NaN</td>\n",
       "    </tr>\n",
       "    <tr>\n",
       "      <th>4</th>\n",
       "      <td>192167</td>\n",
       "      <td>192167</td>\n",
       "      <td>192167</td>\n",
       "      <td>Y</td>\n",
       "      <td>**COLGATE TOTAL CHAR</td>\n",
       "      <td>True</td>\n",
       "      <td>10</td>\n",
       "      <td>09</td>\n",
       "      <td>**COLGATE TOTAL CHARCOAL DEEP CLEAN 150G</td>\n",
       "      <td>005</td>\n",
       "      <td>...</td>\n",
       "      <td>NaN</td>\n",
       "      <td>NaN</td>\n",
       "      <td>NaN</td>\n",
       "      <td>NaN</td>\n",
       "      <td>NaN</td>\n",
       "      <td>NaN</td>\n",
       "      <td>NaN</td>\n",
       "      <td>NaN</td>\n",
       "      <td>NaN</td>\n",
       "      <td>NaN</td>\n",
       "    </tr>\n",
       "  </tbody>\n",
       "</table>\n",
       "<p>5 rows × 77 columns</p>\n",
       "</div>"
      ],
      "text/plain": [
       "   cprcode  iprcode  oprcode ordertype                pr_abb  pr_active  \\\n",
       "0   225407   225407   225407         Y                  MOKU       True   \n",
       "1   241101   241101   241101         Y        BUMILGOCHUJANG       True   \n",
       "2   190100   190100   190100         Y         WHITE SHIMEJI       True   \n",
       "3    62644    62644    62644         Y  STUTE APRICOT JAM430       True   \n",
       "4   192167   192167   192167         Y  **COLGATE TOTAL CHAR       True   \n",
       "\n",
       "  pr_cgcode pr_dpcode                                pr_engname pr_ggcode  \\\n",
       "0        87        21                           KONJAC LINGUINI       010   \n",
       "1        06        08                            BUMILGOCHUJANG       006   \n",
       "2        05        19                             WHITE SHIMEJI       143   \n",
       "3        07        08                  STUTE APRICOT JAM 430 G.       002   \n",
       "4        10        09  **COLGATE TOTAL CHARCOAL DEEP CLEAN 150G       005   \n",
       "\n",
       "   ... preorder_delivery_type preorder_fix_date preorder_relative_day  \\\n",
       "0  ...                    NaN               NaN                   NaN   \n",
       "1  ...                    NaN               NaN                   NaN   \n",
       "2  ...                    NaN               NaN                   NaN   \n",
       "3  ...                    NaN               NaN                   NaN   \n",
       "4  ...                    NaN               NaN                   NaN   \n",
       "\n",
       "  meta_title meta_keywords meta_description depth priority_score  \\\n",
       "0        NaN           NaN              NaN   NaN            NaN   \n",
       "1        NaN           NaN              NaN   NaN            NaN   \n",
       "2        NaN           NaN              NaN   NaN            NaN   \n",
       "3        NaN           NaN              NaN   NaN            NaN   \n",
       "4        NaN           NaN              NaN   NaN            NaN   \n",
       "\n",
       "  product_attribute_images related_products  \n",
       "0                      NaN              NaN  \n",
       "1                      NaN              NaN  \n",
       "2                      NaN              NaN  \n",
       "3                      NaN              NaN  \n",
       "4                      NaN              NaN  \n",
       "\n",
       "[5 rows x 77 columns]"
      ]
     },
     "execution_count": 18,
     "metadata": {},
     "output_type": "execute_result"
    }
   ],
   "source": [
    "df:pd.DataFrame = pd.DataFrame([i.data for i in ProductDatabase.scan()])\n",
    "df.head()"
   ]
  },
  {
   "cell_type": "markdown",
   "metadata": {},
   "source": [
    "### filter products"
   ]
  },
  {
   "cell_type": "code",
   "execution_count": 31,
   "metadata": {},
   "outputs": [
    {
     "name": "stderr",
     "output_type": "stream",
     "text": [
      "<ipython-input-31-7921d4e71dc6>:3: YAMLLoadWarning: calling yaml.load() without Loader=... is deprecated, as the default Loader is unsafe. Please read https://msg.pyyaml.org/load for full details.\n",
      "  onlineList:List[str] = yaml.load(requests.get(ECOMMERCE_COL_LIST).content)\n"
     ]
    },
    {
     "data": {
      "text/html": [
       "<div>\n",
       "<style scoped>\n",
       "    .dataframe tbody tr th:only-of-type {\n",
       "        vertical-align: middle;\n",
       "    }\n",
       "\n",
       "    .dataframe tbody tr th {\n",
       "        vertical-align: top;\n",
       "    }\n",
       "\n",
       "    .dataframe thead th {\n",
       "        text-align: right;\n",
       "    }\n",
       "</style>\n",
       "<table border=\"1\" class=\"dataframe\">\n",
       "  <thead>\n",
       "    <tr style=\"text-align: right;\">\n",
       "      <th></th>\n",
       "      <th>cprcode</th>\n",
       "      <th>iprcode</th>\n",
       "      <th>psqty</th>\n",
       "      <th>pr_country_en</th>\n",
       "      <th>online_category_l1_en</th>\n",
       "      <th>online_category_l2_en</th>\n",
       "      <th>online_category_l3_en</th>\n",
       "      <th>hema_brand_en</th>\n",
       "      <th>hema_sizedesc</th>\n",
       "      <th>hema_name_en</th>\n",
       "      <th>hema_name_th</th>\n",
       "    </tr>\n",
       "  </thead>\n",
       "  <tbody>\n",
       "    <tr>\n",
       "      <th>0</th>\n",
       "      <td>225407</td>\n",
       "      <td>225407</td>\n",
       "      <td>1</td>\n",
       "      <td>Thailand</td>\n",
       "      <td>Delicatessen &amp; Eggs</td>\n",
       "      <td>Ready Meals</td>\n",
       "      <td>Other Ready Meals</td>\n",
       "      <td>Moku</td>\n",
       "      <td>160g</td>\n",
       "      <td>Konjac Flat Noodle</td>\n",
       "      <td>บุกเส้นแบน ตราโมกุ</td>\n",
       "    </tr>\n",
       "    <tr>\n",
       "      <th>1</th>\n",
       "      <td>241101</td>\n",
       "      <td>241101</td>\n",
       "      <td>1</td>\n",
       "      <td></td>\n",
       "      <td>Grocery</td>\n",
       "      <td>Cooking Sauces &amp; Gravy</td>\n",
       "      <td>Soy &amp; Asian Sauces</td>\n",
       "      <td>Bumil</td>\n",
       "      <td>250g</td>\n",
       "      <td>Gochujang</td>\n",
       "      <td></td>\n",
       "    </tr>\n",
       "    <tr>\n",
       "      <th>3</th>\n",
       "      <td>62644</td>\n",
       "      <td>62644</td>\n",
       "      <td>1</td>\n",
       "      <td></td>\n",
       "      <td>Grocery</td>\n",
       "      <td>Jam Honey &amp; Spreads</td>\n",
       "      <td>Jams &amp; Marmalades</td>\n",
       "      <td>Stute</td>\n",
       "      <td>430g</td>\n",
       "      <td>Apricot Jam</td>\n",
       "      <td>Apricot Jam</td>\n",
       "    </tr>\n",
       "    <tr>\n",
       "      <th>4</th>\n",
       "      <td>192167</td>\n",
       "      <td>192167</td>\n",
       "      <td>1</td>\n",
       "      <td>Thailand</td>\n",
       "      <td>Health &amp; Beauty</td>\n",
       "      <td>Dental Care</td>\n",
       "      <td>Toothpaste</td>\n",
       "      <td>Colgate</td>\n",
       "      <td>150g</td>\n",
       "      <td>Total Charcoal Deep Clean</td>\n",
       "      <td>Total Charcoal Deep Clean</td>\n",
       "    </tr>\n",
       "    <tr>\n",
       "      <th>5</th>\n",
       "      <td>243619</td>\n",
       "      <td>243619</td>\n",
       "      <td>1</td>\n",
       "      <td></td>\n",
       "      <td>Pet &amp; Household</td>\n",
       "      <td>Toys</td>\n",
       "      <td>Dolls</td>\n",
       "      <td>Douglas</td>\n",
       "      <td>1 Pc</td>\n",
       "      <td>Amber Fox Stuffed Animal</td>\n",
       "      <td></td>\n",
       "    </tr>\n",
       "  </tbody>\n",
       "</table>\n",
       "</div>"
      ],
      "text/plain": [
       "   cprcode  iprcode  psqty pr_country_en online_category_l1_en  \\\n",
       "0   225407   225407      1      Thailand   Delicatessen & Eggs   \n",
       "1   241101   241101      1                             Grocery   \n",
       "3    62644    62644      1                             Grocery   \n",
       "4   192167   192167      1      Thailand       Health & Beauty   \n",
       "5   243619   243619      1                     Pet & Household   \n",
       "\n",
       "    online_category_l2_en online_category_l3_en hema_brand_en hema_sizedesc  \\\n",
       "0             Ready Meals     Other Ready Meals          Moku          160g   \n",
       "1  Cooking Sauces & Gravy    Soy & Asian Sauces         Bumil          250g   \n",
       "3     Jam Honey & Spreads     Jams & Marmalades         Stute          430g   \n",
       "4             Dental Care            Toothpaste       Colgate          150g   \n",
       "5                    Toys                 Dolls       Douglas          1 Pc   \n",
       "\n",
       "                hema_name_en               hema_name_th  \n",
       "0         Konjac Flat Noodle         บุกเส้นแบน ตราโมกุ  \n",
       "1                  Gochujang                             \n",
       "3                Apricot Jam                Apricot Jam  \n",
       "4  Total Charcoal Deep Clean  Total Charcoal Deep Clean  \n",
       "5   Amber Fox Stuffed Animal                             "
      ]
     },
     "execution_count": 31,
     "metadata": {},
     "output_type": "execute_result"
    }
   ],
   "source": [
    "condition1 = df['master_online'] == True\n",
    "condition2 = df['hema_name_en'] != ''\n",
    "onlineList:List[str] = yaml.load(requests.get(ECOMMERCE_COL_LIST).content)\n",
    "onlineDf:pd.DataFrame = df[condition1 & condition2].loc[:,onlineList]\n",
    "onlineDf.head()"
   ]
  },
  {
   "cell_type": "code",
   "execution_count": 50,
   "metadata": {},
   "outputs": [
    {
     "data": {
      "text/plain": [
       "(45459, 77)"
      ]
     },
     "execution_count": 50,
     "metadata": {},
     "output_type": "execute_result"
    }
   ],
   "source": [
    "df.shape"
   ]
  },
  {
   "cell_type": "code",
   "execution_count": 43,
   "metadata": {},
   "outputs": [
    {
     "data": {
      "text/plain": [
       "(20158, 77)"
      ]
     },
     "execution_count": 43,
     "metadata": {},
     "output_type": "execute_result"
    }
   ],
   "source": [
    "df[condition1].shape ## filter for master_online"
   ]
  },
  {
   "cell_type": "code",
   "execution_count": 45,
   "metadata": {},
   "outputs": [
    {
     "data": {
      "text/plain": [
       "(20158, 77)"
      ]
     },
     "execution_count": 45,
     "metadata": {},
     "output_type": "execute_result"
    }
   ],
   "source": [
    "df[condition1 & condition2].shape ## filter products with missing hema_name"
   ]
  },
  {
   "cell_type": "code",
   "execution_count": 33,
   "metadata": {},
   "outputs": [
    {
     "data": {
      "text/html": [
       "<div>\n",
       "<style scoped>\n",
       "    .dataframe tbody tr th:only-of-type {\n",
       "        vertical-align: middle;\n",
       "    }\n",
       "\n",
       "    .dataframe tbody tr th {\n",
       "        vertical-align: top;\n",
       "    }\n",
       "\n",
       "    .dataframe thead th {\n",
       "        text-align: right;\n",
       "    }\n",
       "</style>\n",
       "<table border=\"1\" class=\"dataframe\">\n",
       "  <thead>\n",
       "    <tr style=\"text-align: right;\">\n",
       "      <th></th>\n",
       "      <th>cprcode</th>\n",
       "      <th>iprcode</th>\n",
       "      <th>psqty</th>\n",
       "      <th>pr_country_en</th>\n",
       "      <th>online_category_l1_en</th>\n",
       "      <th>online_category_l2_en</th>\n",
       "      <th>online_category_l3_en</th>\n",
       "      <th>hema_brand_en</th>\n",
       "      <th>hema_sizedesc</th>\n",
       "      <th>hema_name_en</th>\n",
       "      <th>hema_name_th</th>\n",
       "    </tr>\n",
       "  </thead>\n",
       "  <tbody>\n",
       "    <tr>\n",
       "      <th>36320</th>\n",
       "      <td>241490</td>\n",
       "      <td>241490</td>\n",
       "      <td>1</td>\n",
       "      <td></td>\n",
       "      <td>Pet &amp; Household</td>\n",
       "      <td>Toys</td>\n",
       "      <td>Dolls</td>\n",
       "      <td>Douglas</td>\n",
       "      <td>1 Pc</td>\n",
       "      <td>Izzy Rainbow Owl Fuzzle Stuffed Animal</td>\n",
       "      <td></td>\n",
       "    </tr>\n",
       "  </tbody>\n",
       "</table>\n",
       "</div>"
      ],
      "text/plain": [
       "       cprcode  iprcode  psqty pr_country_en online_category_l1_en  \\\n",
       "36320   241490   241490      1                     Pet & Household   \n",
       "\n",
       "      online_category_l2_en online_category_l3_en hema_brand_en hema_sizedesc  \\\n",
       "36320                  Toys                 Dolls       Douglas          1 Pc   \n",
       "\n",
       "                                 hema_name_en hema_name_th  \n",
       "36320  Izzy Rainbow Owl Fuzzle Stuffed Animal               "
      ]
     },
     "execution_count": 33,
     "metadata": {},
     "output_type": "execute_result"
    }
   ],
   "source": [
    "onlineDf[onlineDf.cprcode == 241490]"
   ]
  },
  {
   "cell_type": "code",
   "execution_count": 49,
   "metadata": {},
   "outputs": [
    {
     "data": {
      "text/plain": [
       "(20158, 11)"
      ]
     },
     "execution_count": 49,
     "metadata": {},
     "output_type": "execute_result"
    }
   ],
   "source": [
    "url = 'https://product-bucket-dev-manual.s3-ap-southeast-1.amazonaws.com/onlineData'\n",
    "r = pd.read_json(url, orient = 'split', compression = 'gzip')\n",
    "r.shape"
   ]
  },
  {
   "cell_type": "code",
   "execution_count": 46,
   "metadata": {},
   "outputs": [
    {
     "data": {
      "text/plain": [
       "(20158, 11)"
      ]
     },
     "execution_count": 46,
     "metadata": {},
     "output_type": "execute_result"
    }
   ],
   "source": [
    "r.shape"
   ]
  },
  {
   "cell_type": "code",
   "execution_count": null,
   "metadata": {},
   "outputs": [],
   "source": []
  }
 ],
 "metadata": {
  "kernelspec": {
   "display_name": "python38",
   "language": "python",
   "name": "python38"
  },
  "language_info": {
   "codemirror_mode": {
    "name": "ipython",
    "version": 3
   },
   "file_extension": ".py",
   "mimetype": "text/x-python",
   "name": "python",
   "nbconvert_exporter": "python",
   "pygments_lexer": "ipython3",
   "version": "3.8.6"
  },
  "toc-autonumbering": true
 },
 "nbformat": 4,
 "nbformat_minor": 4
}
