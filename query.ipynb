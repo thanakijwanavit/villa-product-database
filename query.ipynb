{
 "cells": [
  {
   "cell_type": "code",
   "execution_count": null,
   "metadata": {},
   "outputs": [],
   "source": [
    "#default_exp query"
   ]
  },
  {
   "cell_type": "markdown",
   "metadata": {},
   "source": [
    "# Query\n",
    "Codes used to query database\n",
    "This includes\n",
    "## singleProductQuery\n",
    "## branchQuery\n",
    "## validateInputQuery"
   ]
  },
  {
   "cell_type": "markdown",
   "metadata": {},
   "source": [
    "### import files"
   ]
  },
  {
   "cell_type": "code",
   "execution_count": null,
   "metadata": {},
   "outputs": [],
   "source": [
    "#export\n",
    "import pandas as pd\n",
    "from datetime import datetime\n",
    "from s3bz.s3bz import S3\n",
    "import pickle, json , boto3, zlib, os"
   ]
  },
  {
   "cell_type": "code",
   "execution_count": null,
   "metadata": {},
   "outputs": [
    {
     "name": "stdout",
     "output_type": "stream",
     "text": [
      "missing environment variable 'INVENTORY_BUCKET_NAME' in query NB\n"
     ]
    }
   ],
   "source": [
    "#export\n",
    "try:\n",
    "  INVENTORY_BUCKET_NAME = os.environ['INVENTORY_BUCKET_NAME']\n",
    "except Exception as e:\n",
    "  print(f'missing environment variable {e} in query NB')\n",
    "  INVENTORY_BUCKET_NAME = None"
   ]
  },
  {
   "cell_type": "code",
   "execution_count": null,
   "metadata": {},
   "outputs": [],
   "source": [
    "#export\n",
    "class Querier:\n",
    "  @classmethod\n",
    "  def singleProductQuery(cls, input):\n",
    "    if not cls.validateInputQuery(['iprcode'] , input): return f\"error input {input}\"\n",
    "    if (result:=next(cls.query(input.get('iprcode')),None)): return result\n",
    "    else: raise Exception('product not found')\n",
    "\n",
    "  @classmethod\n",
    "  def allQuery(cls, key = 'allData', bucket = INVENTORY_BUCKET_NAME, **kwargs):\n",
    "    result = S3.presign(key, bucket = bucket, **kwargs)\n",
    "    return result\n",
    "  \n",
    "  @staticmethod\n",
    "  def validateInputQuery(keys: list, input:dict):\n",
    "    '''\n",
    "      check if input query contains the valid key\n",
    "      data should have the following structure\n",
    "      key is a list of keys to check\n",
    "\n",
    "      ib_prcode: String?\n",
    "      ib_brcode: String?\n",
    "\n",
    "      option, one of or both of the ib_procde must be present\n",
    "    '''\n",
    "    for key in keys:\n",
    "      if key not in input.keys():\n",
    "        raise ValueError(f\"key {key} is missing from the input\")\n",
    "      if not input.get(key).isdigit():\n",
    "        raise ValueError(f'key is not convertable to in {input.get(key)}')\n",
    "    return True"
   ]
  },
  {
   "cell_type": "code",
   "execution_count": null,
   "metadata": {},
   "outputs": [],
   "source": [
    "import pickle, os\n",
    "\n",
    "os.environ['DATABASE_TABLE_NAME'] = 'product-table-dev-manual'\n",
    "os.environ['REGION'] = 'ap-southeast-1'\n",
    "os.environ['INVENTORY_BUCKET_NAME'] = 'product-bucket-dev-manual'\n",
    "os.environ['INPUT_BUCKET_NAME'] = 'input-product-bucket-dev-manual'\n",
    "DAX_ENDPOINT = 'longtermcluster.vuu7lr.clustercfg.dax.apse1.cache.amazonaws.com:8111'\n",
    "os.environ['LINEKEY'] = '2uAfV4AoYglUGmKTAk2xNOm0aV2Ufgh1BQPvQl9vJd4'\n",
    "REGION = 'ap-southeast-1'"
   ]
  },
  {
   "cell_type": "code",
   "execution_count": null,
   "metadata": {},
   "outputs": [
    {
     "ename": "Exception",
     "evalue": "product not found",
     "output_type": "error",
     "traceback": [
      "\u001b[0;31m---------------------------------------------------------------------------\u001b[0m",
      "\u001b[0;31mException\u001b[0m                                 Traceback (most recent call last)",
      "\u001b[0;32m<ipython-input-17-721a471e2f91>\u001b[0m in \u001b[0;36m<module>\u001b[0;34m\u001b[0m\n\u001b[1;32m      9\u001b[0m   \u001b[0;32mpass\u001b[0m\u001b[0;34m\u001b[0m\u001b[0;34m\u001b[0m\u001b[0m\n\u001b[1;32m     10\u001b[0m \u001b[0;34m\u001b[0m\u001b[0m\n\u001b[0;32m---> 11\u001b[0;31m \u001b[0mTester\u001b[0m\u001b[0;34m.\u001b[0m\u001b[0msingleProductQuery\u001b[0m\u001b[0;34m(\u001b[0m\u001b[0;34m{\u001b[0m\u001b[0;34m'iprcode'\u001b[0m\u001b[0;34m:\u001b[0m\u001b[0;34m'1234'\u001b[0m\u001b[0;34m}\u001b[0m\u001b[0;34m)\u001b[0m\u001b[0;34m\u001b[0m\u001b[0;34m\u001b[0m\u001b[0m\n\u001b[0m",
      "\u001b[0;32m<ipython-input-12-970c88c94230>\u001b[0m in \u001b[0;36msingleProductQuery\u001b[0;34m(cls, input)\u001b[0m\n\u001b[1;32m      5\u001b[0m     \u001b[0;32mif\u001b[0m \u001b[0;32mnot\u001b[0m \u001b[0mcls\u001b[0m\u001b[0;34m.\u001b[0m\u001b[0mvalidateInputQuery\u001b[0m\u001b[0;34m(\u001b[0m\u001b[0;34m[\u001b[0m\u001b[0;34m'iprcode'\u001b[0m\u001b[0;34m]\u001b[0m \u001b[0;34m,\u001b[0m \u001b[0minput\u001b[0m\u001b[0;34m)\u001b[0m\u001b[0;34m:\u001b[0m \u001b[0;32mreturn\u001b[0m \u001b[0;34mf\"error input {input}\"\u001b[0m\u001b[0;34m\u001b[0m\u001b[0;34m\u001b[0m\u001b[0m\n\u001b[1;32m      6\u001b[0m     \u001b[0;32mif\u001b[0m \u001b[0;34m(\u001b[0m\u001b[0mresult\u001b[0m\u001b[0;34m:=\u001b[0m\u001b[0mnext\u001b[0m\u001b[0;34m(\u001b[0m\u001b[0mcls\u001b[0m\u001b[0;34m.\u001b[0m\u001b[0mquery\u001b[0m\u001b[0;34m(\u001b[0m\u001b[0minput\u001b[0m\u001b[0;34m.\u001b[0m\u001b[0mget\u001b[0m\u001b[0;34m(\u001b[0m\u001b[0;34m'iprcode'\u001b[0m\u001b[0;34m)\u001b[0m\u001b[0;34m)\u001b[0m\u001b[0;34m,\u001b[0m\u001b[0;32mNone\u001b[0m\u001b[0;34m)\u001b[0m\u001b[0;34m)\u001b[0m\u001b[0;34m:\u001b[0m \u001b[0;32mreturn\u001b[0m \u001b[0mresult\u001b[0m\u001b[0;34m\u001b[0m\u001b[0;34m\u001b[0m\u001b[0m\n\u001b[0;32m----> 7\u001b[0;31m     \u001b[0;32melse\u001b[0m\u001b[0;34m:\u001b[0m \u001b[0;32mraise\u001b[0m \u001b[0mException\u001b[0m\u001b[0;34m(\u001b[0m\u001b[0;34m'product not found'\u001b[0m\u001b[0;34m)\u001b[0m\u001b[0;34m\u001b[0m\u001b[0;34m\u001b[0m\u001b[0m\n\u001b[0m\u001b[1;32m      8\u001b[0m \u001b[0;34m\u001b[0m\u001b[0m\n\u001b[1;32m      9\u001b[0m   \u001b[0;34m@\u001b[0m\u001b[0mclassmethod\u001b[0m\u001b[0;34m\u001b[0m\u001b[0;34m\u001b[0m\u001b[0m\n",
      "\u001b[0;31mException\u001b[0m: product not found"
     ]
    }
   ],
   "source": [
    "from villaProductDatabase.database import ProductDatabase\n",
    "class Tester(Querier, ProductDatabase):\n",
    "  class Meta:\n",
    "    table_name = os.environ['DATABASE_TABLE_NAME']\n",
    "    region = os.environ['REGION']\n",
    "    billing_mode='PAY_PER_REQUEST'\n",
    "    dax_read_endpoints = [DAX_ENDPOINT] if DAX_ENDPOINT else None\n",
    "    dax_write_endpoints = [DAX_ENDPOINT] if DAX_ENDPOINT else None\n",
    "  pass\n",
    "  \n",
    "Tester.singleProductQuery({'iprcode':'1234'})"
   ]
  },
  {
   "cell_type": "code",
   "execution_count": null,
   "metadata": {},
   "outputs": [
    {
     "data": {
      "text/plain": [
       "ProductDatabase Object\n",
       "cprcode 0000009\n",
       "iprcode 0000009\n",
       "oprcode 0000009\n",
       "ordertype Y\n",
       "pr_abb J. WALKER RED 70 CL.\n",
       "pr_active Y\n",
       "pr_cgcode 01\n",
       "pr_code 0000009\n",
       "pr_dpcode 01\n",
       "pr_engname JOHNNIE WALKER RED 70 CL.\n",
       "pr_ggcode 001\n",
       "pr_market J. WALKER RED 70 CL\n",
       "pr_name JOHNNIE WALKER RED 70 CL\n",
       "pr_puqty 12.00\n",
       "pr_sa_method 1\n",
       "pr_sucode1 1782\n",
       "pr_suref3 A\n",
       "prtype I\n",
       "psqty 1\n",
       "pstype 1\n",
       "pr_country_th \n",
       "pr_country_en United Kingdom\n",
       "pr_keyword_th \n",
       "pr_keyword_en \n",
       "pr_filter_th Alcohol,Spirits  Liqueurs\n",
       "pr_filter_en Alcohol,Spirits  Liqueurs\n",
       "online_category_l1_th เบียร์, ไวน์และสุรา\n",
       "online_category_l1_en Beer Wine & Spirits\n",
       "online_category_l2_th เหล้า\n",
       "online_category_l2_en Spirits & Liqueurs\n",
       "online_category_l3_th \n",
       "online_category_l3_en \n",
       "villa_category_l1_en Dry Grocery\n",
       "villa_category_l2_en Alcohol & Beverage\n",
       "villa_category_l3_en Whisky\n",
       "villa_category_l4_en Scoth Whisky\n",
       "content_en 0000009 Johnnie Walker Red 700ml\n",
       "content_th JOHNNIE WALKER RED 700ml\n",
       "hema_brand_th Johnnie Walker\n",
       "hema_brand_en Johnnie Walker\n",
       "hema_sizedesc 700ml\n",
       "pr_brand_en Johnnie Walker\n",
       "pr_brand_th Johnnie Walker\n",
       "pr_online_name_en Johnnie Walker Red 700ml\n",
       "pr_online_name_th JOHNNIE WALKER RED 700ml\n",
       "hema_name_en Johnnie Walker Red\n",
       "hema_name_th JOHNNIE WALKER RED\n",
       "pr_name_en JOHNNIE WALKER RED 70 CL.\n",
       "pr_name_th JOHNNIE WALKER RED 70 CL\n",
       "sort_weight 0"
      ]
     },
     "execution_count": null,
     "metadata": {},
     "output_type": "execute_result"
    }
   ],
   "source": [
    "\n",
    "Tester.singleProductQuery({'iprcode':'0000009'})"
   ]
  },
  {
   "cell_type": "code",
   "execution_count": null,
   "metadata": {},
   "outputs": [],
   "source": []
  }
 ],
 "metadata": {
  "kernelspec": {
   "display_name": "python38",
   "language": "python",
   "name": "python38"
  }
 },
 "nbformat": 4,
 "nbformat_minor": 4
}
