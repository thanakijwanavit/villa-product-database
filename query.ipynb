{
 "cells": [
  {
   "cell_type": "code",
   "execution_count": null,
   "metadata": {},
   "outputs": [],
   "source": [
    "#default_exp query"
   ]
  },
  {
   "cell_type": "markdown",
   "metadata": {},
   "source": [
    "# Query\n",
    "Codes used to query database\n",
    "This includes\n",
    "## singleProductQuery\n",
    "## branchQuery\n",
    "## validateInputQuery"
   ]
  },
  {
   "cell_type": "markdown",
   "metadata": {},
   "source": [
    "### import files"
   ]
  },
  {
   "cell_type": "code",
   "execution_count": null,
   "metadata": {},
   "outputs": [],
   "source": [
    "#export\n",
    "import pandas as pd\n",
    "from datetime import datetime\n",
    "from s3bz.s3bz import S3\n",
    "import pickle, json , boto3, zlib, os"
   ]
  },
  {
   "cell_type": "code",
   "execution_count": null,
   "metadata": {},
   "outputs": [
    {
     "name": "stdout",
     "output_type": "stream",
     "text": [
      "missing environment variable 'INVENTORY_BUCKET_NAME' in query NB\n"
     ]
    }
   ],
   "source": [
    "#export\n",
    "try:\n",
    "  INVENTORY_BUCKET_NAME = os.environ['INVENTORY_BUCKET_NAME']\n",
    "except Exception as e:\n",
    "  print(f'missing environment variable {e} in query NB')\n",
    "  INVENTORY_BUCKET_NAME = None"
   ]
  },
  {
   "cell_type": "code",
   "execution_count": null,
   "metadata": {},
   "outputs": [],
   "source": [
    "#export\n",
    "class Querier:\n",
    "  @classmethod\n",
    "  def singleProductQuery(cls, input):\n",
    "    if not cls.validateInputQuery(['iprcode'] , input): return f\"error input {input}\"\n",
    "    return next(cls.query(input.get('iprcode')),{})\n",
    "\n",
    "  @classmethod\n",
    "  def allQuery(cls, key = 'allData', bucket = INVENTORY_BUCKET_NAME, **kwargs):\n",
    "    result = S3.presign(key, bucket = bucket, **kwargs)\n",
    "    return result\n",
    "  \n",
    "  @staticmethod\n",
    "  def validateInputQuery(keys: list, input:dict):\n",
    "    '''\n",
    "      check if input query contains the valid key\n",
    "      data should have the following structure\n",
    "      key is a list of keys to check\n",
    "\n",
    "      ib_prcode: String?\n",
    "      ib_brcode: String?\n",
    "\n",
    "      option, one of or both of the ib_procde must be present\n",
    "    '''\n",
    "    for key in keys:\n",
    "      if key not in input.keys():\n",
    "        raise ValueError(f\"key {key} is missing from the input\")\n",
    "      if not input.get(key).isdigit():\n",
    "        raise ValueError(f'key is not convertable to in {input.get(key)}')\n",
    "    return True"
   ]
  },
  {
   "cell_type": "code",
   "execution_count": null,
   "metadata": {},
   "outputs": [],
   "source": []
  }
 ],
 "metadata": {
  "kernelspec": {
   "display_name": "python38",
   "language": "python",
   "name": "python38"
  },
  "language_info": {
   "codemirror_mode": {
    "name": "ipython",
    "version": 3
   },
   "file_extension": ".py",
   "mimetype": "text/x-python",
   "name": "python",
   "nbconvert_exporter": "python",
   "pygments_lexer": "ipython3",
   "version": "3.8.6"
  }
 },
 "nbformat": 4,
 "nbformat_minor": 4
}
