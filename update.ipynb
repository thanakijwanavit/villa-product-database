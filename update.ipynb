{
 "cells": [
  {
   "cell_type": "code",
   "execution_count": 1,
   "metadata": {},
   "outputs": [],
   "source": [
    "#default_exp update"
   ]
  },
  {
   "cell_type": "code",
   "execution_count": 2,
   "metadata": {},
   "outputs": [],
   "source": [
    "#export\n",
    "import pandas as pd\n",
    "from datetime import datetime\n",
    "import pickle, json , boto3, zlib, os, logging"
   ]
  },
  {
   "cell_type": "code",
   "execution_count": 3,
   "metadata": {},
   "outputs": [
    {
     "name": "stdout",
     "output_type": "stream",
     "text": [
      "missing environment variable 'INPUT_BUCKET_NAME' in update NB\n"
     ]
    }
   ],
   "source": [
    "#export\n",
    "try:\n",
    "#   INVENTORY_BUCKET_NAME = os.environ['INVENTORY_BUCKET_NAME']\n",
    "  INPUT_BUCKET_NAME = os.environ['INPUT_BUCKET_NAME']\n",
    "except Exception as e:\n",
    "  print(f'missing environment variable {e} in update NB')\n",
    "#   INVENTORY_BUCKET_NAME = None\n",
    "  INPUT_BUCKET_NAME = None"
   ]
  },
  {
   "cell_type": "code",
   "execution_count": 6,
   "metadata": {},
   "outputs": [],
   "source": [
    "#export\n",
    "class Updater:\n",
    "  @classmethod\n",
    "  def updateWithDict(cls, originalObject, inputDict:dict ):\n",
    "    data = originalObject.data\n",
    "    data.update(inputDict)\n",
    "    return cls.fromDict(data)\n",
    "  \n",
    "  @classmethod\n",
    "  def valueUpdate(cls, inputs):\n",
    "    ''' \n",
    "      check for difference and batch update the changes in product data\n",
    "    '''\n",
    "    itemsUpdated = {'success':0, 'failure': 0, 'skipped': 0 ,'failureMessage':[], 'timetaken': 0}\n",
    "    t0 = datetime.now()\n",
    "\n",
    "    logging.info(f'there are {len(inputs)} products to update')\n",
    "\n",
    "    with cls.batch_write() as batch:\n",
    "      # loop through each product\n",
    "      for input_ in inputs:\n",
    "        iprcode = input_['iprcode']\n",
    "        cprcode = input_['cprcode']\n",
    "\n",
    "        # check if product is in the database, if not, create an empty class with the product code\n",
    "        incumbentBr = next(cls.query(iprcode , cls.cprcode == cprcode), cls(iprcode = iprcode, cprcode = cprcode, data = {}))\n",
    "        # save original data to a variable\n",
    "        originalData = incumbentBr.data.copy()\n",
    "        # update data\n",
    "        updatedData = cls.updateWithDict(incumbentBr, input_)\n",
    "\n",
    "        logging.info(f'incumbentBr is {incumbentBr.iprcode}\\n, prcode is {iprcode}')\n",
    "\n",
    "        # check for difference\n",
    "        if updatedData.data != originalData:\n",
    "          logging.info(f'product {iprcode} has changed from \\n{originalData} \\n{updatedData.data}')\n",
    "          batch.save(updatedData)\n",
    "          itemsUpdated['success'] += 1\n",
    "        else:\n",
    "          logging.info(f'no change for {iprcode}')\n",
    "          itemsUpdated['skipped'] += 1\n",
    "          \n",
    "        # log time taken\n",
    "        itemsUpdated['timetaken'] = (datetime.now()- t0).total_seconds()*1000\n",
    "    return itemsUpdated\n",
    "  \n",
    "\n",
    "\n",
    "  @classmethod\n",
    "  def updateLambdaInput(cls, inputs):\n",
    "    '''\n",
    "    update products in the database by first grouping the data from lambda\n",
    "    input\n",
    "    - iprcode: String\n",
    "      ibrcode: String\n",
    "    '''\n",
    "#     groupedInput = cls.Helper.groupByProduct(input)\n",
    "    return cls.valueUpdate(inputs)\n",
    "\n",
    "  @classmethod\n",
    "  def updateS3Input(cls, inputBucketName = INPUT_BUCKET_NAME, key = '', **kwargs):\n",
    "    s3Result = cls.loadFromS3(bucketName= inputBucketName, key = key, **kwargs)\n",
    "    transformedS3Result = [{\n",
    "        'ib_prcode': item.get('ib_prcode') or item.get('prcode'),\n",
    "        'ib_brcode': item.get('ib_brcode') or item.get('brcode'),\n",
    "        'ib_cf_qty': item.get('ib_cf_qty'),\n",
    "        'new_ib_vs_stock_cv': item.get('new_ib_vs_stock_cv')\n",
    "        } for item in s3Result]\n",
    "\n",
    "    logging.info(f' s3 result is {transformedS3Result}')\n",
    "    groupedInput = cls.Helper.groupByProduct(transformedS3Result)\n",
    "    updateResult = cls.bulkUpdate(groupedInput, **kwargs)\n",
    "    return updateResult\n"
   ]
  },
  {
   "cell_type": "code",
   "execution_count": null,
   "metadata": {},
   "outputs": [],
   "source": []
  }
 ],
 "metadata": {
  "kernelspec": {
   "display_name": "Python 3",
   "language": "python",
   "name": "python3"
  },
  "language_info": {
   "codemirror_mode": {
    "name": "ipython",
    "version": 3
   },
   "file_extension": ".py",
   "mimetype": "text/x-python",
   "name": "python",
   "nbconvert_exporter": "python",
   "pygments_lexer": "ipython3",
   "version": "3.8.5"
  }
 },
 "nbformat": 4,
 "nbformat_minor": 4
}
