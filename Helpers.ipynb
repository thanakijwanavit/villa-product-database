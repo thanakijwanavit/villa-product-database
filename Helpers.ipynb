{
 "cells": [
  {
   "cell_type": "code",
   "execution_count": null,
   "metadata": {},
   "outputs": [],
   "source": [
    "#default_exp helpers"
   ]
  },
  {
   "cell_type": "code",
   "execution_count": null,
   "metadata": {},
   "outputs": [],
   "source": [
    "#hide\n",
    "import pickle, os\n",
    "\n",
    "os.environ['DATABASE_TABLE_NAME'] = 'product-table-dev-manual'\n",
    "os.environ['REGION'] = 'ap-southeast-1'\n",
    "os.environ['INVENTORY_BUCKET_NAME'] = 'product-bucket-dev-manual'\n",
    "os.environ['INPUT_BUCKET_NAME'] = 'input-product-bucket-dev-manual'\n",
    "os.environ['DAX_ENDPOINT'] = 'longtermcluster.vuu7lr.clustercfg.dax.apse1.cache.amazonaws.com:8111'\n",
    "os.environ['LINEKEY'] = '2uAfV4AoYglUGmKTAk2xNOm0aV2Ufgh1BQPvQl9vJd4'\n",
    "REGION = 'ap-southeast-1'"
   ]
  },
  {
   "cell_type": "code",
   "execution_count": null,
   "metadata": {},
   "outputs": [
    {
     "name": "stdout",
     "output_type": "stream",
     "text": [
      "longtermcluster.vuu7lr.clustercfg.dax.apse1.cache.amazonaws.com:8111\n",
      "longtermcluster.vuu7lr.clustercfg.dax.apse1.cache.amazonaws.com:8111\n",
      "longtermcluster.vuu7lr.clustercfg.dax.apse1.cache.amazonaws.com:8111\n",
      "longtermcluster.vuu7lr.clustercfg.dax.apse1.cache.amazonaws.com:8111\n"
     ]
    }
   ],
   "source": [
    "from villaProductDatabase.database import ProductDatabase\n",
    "from villaProductDatabase.query import Querier"
   ]
  },
  {
   "cell_type": "code",
   "execution_count": null,
   "metadata": {},
   "outputs": [],
   "source": [
    "#export\n",
    "from nicHelper.wrappers import add_method, add_class_method, add_static_method\n",
    "from nicHelper.dictUtil import stripDict\n",
    "from linesdk.linesdk import Line\n",
    "from typing import List\n",
    "import pandas as pd\n",
    "import os, logging\n",
    "\n"
   ]
  },
  {
   "cell_type": "markdown",
   "metadata": {},
   "source": [
    "# Helpers\n",
    "## Static functions"
   ]
  },
  {
   "cell_type": "code",
   "execution_count": null,
   "metadata": {},
   "outputs": [],
   "source": [
    "#export\n",
    "class Helpers:\n",
    "  pass"
   ]
  },
  {
   "cell_type": "code",
   "execution_count": null,
   "metadata": {},
   "outputs": [],
   "source": [
    "class Tester(Helpers, ProductDatabase, ):\n",
    "  class Meta:\n",
    "    table_name = os.environ.get('DATABASE_TABLE_NAME')\n",
    "    region = os.environ.get('REGION')\n",
    "  pass"
   ]
  },
  {
   "cell_type": "markdown",
   "metadata": {},
   "source": [
    "### send notification"
   ]
  },
  {
   "cell_type": "code",
   "execution_count": null,
   "metadata": {},
   "outputs": [],
   "source": [
    "#export\n",
    "@add_static_method(Helpers)\n",
    "def notify(message):\n",
    "  line = Line(os.environ.get('LINEKEY'))\n",
    "  r = line.sendNotify(message)\n",
    "  if r.status_code != 200:\n",
    "    print(r.json())\n",
    "    return False\n",
    "  return True"
   ]
  },
  {
   "cell_type": "code",
   "execution_count": null,
   "metadata": {},
   "outputs": [
    {
     "data": {
      "text/plain": [
       "True"
      ]
     },
     "execution_count": null,
     "metadata": {},
     "output_type": "execute_result"
    }
   ],
   "source": [
    "Tester.notify('hello')"
   ]
  },
  {
   "cell_type": "markdown",
   "metadata": {},
   "source": [
    "## Class functions"
   ]
  },
  {
   "cell_type": "markdown",
   "metadata": {},
   "source": [
    "### Get keys"
   ]
  },
  {
   "cell_type": "code",
   "execution_count": null,
   "metadata": {},
   "outputs": [],
   "source": [
    "#export\n",
    "@add_class_method(Helpers)\n",
    "def keys(cls):\n",
    "  keys = list(vars(cls)['_attributes'].keys())\n",
    "  return keys"
   ]
  },
  {
   "cell_type": "code",
   "execution_count": null,
   "metadata": {},
   "outputs": [
    {
     "data": {
      "text/plain": [
       "['cprcode',\n",
       " 'data',\n",
       " 'iprcode',\n",
       " 'lastUpdate',\n",
       " 'needsUpdate',\n",
       " 'oprcode',\n",
       " 'pr_barcode',\n",
       " 'pr_barcode2',\n",
       " 'pr_dpcode',\n",
       " 'pr_sa_method',\n",
       " 'pr_sucode1',\n",
       " 'pr_suref3',\n",
       " 'sellingPrice']"
      ]
     },
     "execution_count": null,
     "metadata": {},
     "output_type": "execute_result"
    }
   ],
   "source": [
    "Tester.keys()"
   ]
  },
  {
   "cell_type": "markdown",
   "metadata": {},
   "source": [
    "### scan"
   ]
  },
  {
   "cell_type": "code",
   "execution_count": null,
   "metadata": {},
   "outputs": [],
   "source": [
    "#export\n",
    "@add_class_method(Helpers)\n",
    "def scanDb(cls, limit=100):\n",
    "  return list(cls.scan())"
   ]
  },
  {
   "cell_type": "code",
   "execution_count": null,
   "metadata": {},
   "outputs": [
    {
     "name": "stdout",
     "output_type": "stream",
     "text": [
      "CPU times: user 6.79 s, sys: 379 ms, total: 7.17 s\n",
      "Wall time: 11.6 s\n"
     ]
    },
    {
     "data": {
      "text/plain": [
       "39738"
      ]
     },
     "execution_count": null,
     "metadata": {},
     "output_type": "execute_result"
    }
   ],
   "source": [
    "%%time\n",
    "items = Tester.scanDb(limit=1000)\n",
    "len(items)"
   ]
  },
  {
   "cell_type": "code",
   "execution_count": null,
   "metadata": {},
   "outputs": [
    {
     "name": "stdout",
     "output_type": "stream",
     "text": [
      "CPU times: user 7.14 s, sys: 400 ms, total: 7.54 s\n",
      "Wall time: 11.9 s\n"
     ]
    },
    {
     "data": {
      "text/plain": [
       "39738"
      ]
     },
     "execution_count": null,
     "metadata": {},
     "output_type": "execute_result"
    }
   ],
   "source": [
    "%%time\n",
    "table = list(Tester.scan())\n",
    "len(table)"
   ]
  },
  {
   "cell_type": "markdown",
   "metadata": {},
   "source": [
    "## convert to df"
   ]
  },
  {
   "cell_type": "code",
   "execution_count": null,
   "metadata": {},
   "outputs": [
    {
     "data": {
      "text/html": [
       "<div>\n",
       "<style scoped>\n",
       "    .dataframe tbody tr th:only-of-type {\n",
       "        vertical-align: middle;\n",
       "    }\n",
       "\n",
       "    .dataframe tbody tr th {\n",
       "        vertical-align: top;\n",
       "    }\n",
       "\n",
       "    .dataframe thead th {\n",
       "        text-align: right;\n",
       "    }\n",
       "</style>\n",
       "<table border=\"1\" class=\"dataframe\">\n",
       "  <thead>\n",
       "    <tr style=\"text-align: right;\">\n",
       "      <th></th>\n",
       "      <th>cprcode</th>\n",
       "      <th>iprcode</th>\n",
       "      <th>oprcode</th>\n",
       "      <th>ordertype</th>\n",
       "      <th>pr_abb</th>\n",
       "      <th>pr_active</th>\n",
       "      <th>pr_cgcode</th>\n",
       "      <th>pr_code</th>\n",
       "      <th>pr_dpcode</th>\n",
       "      <th>pr_engname</th>\n",
       "      <th>...</th>\n",
       "      <th>hema_name_th</th>\n",
       "      <th>pr_name_en</th>\n",
       "      <th>pr_name_th</th>\n",
       "      <th>sort_weight</th>\n",
       "      <th>pr_barcode</th>\n",
       "      <th>pr_barcode2</th>\n",
       "      <th>master_online</th>\n",
       "      <th>SaleMode_unit</th>\n",
       "      <th>ba_nprice</th>\n",
       "      <th>sort_villa_sku</th>\n",
       "    </tr>\n",
       "  </thead>\n",
       "  <tbody>\n",
       "    <tr>\n",
       "      <th>0</th>\n",
       "      <td>225407</td>\n",
       "      <td>225407</td>\n",
       "      <td>225407</td>\n",
       "      <td>Y</td>\n",
       "      <td>MOKU</td>\n",
       "      <td>Y</td>\n",
       "      <td>87</td>\n",
       "      <td>0225407</td>\n",
       "      <td>21</td>\n",
       "      <td>KONJAC LINGUINI</td>\n",
       "      <td>...</td>\n",
       "      <td>บุกเส้นแบน ตราโมกุ</td>\n",
       "      <td>KONJAC LINGUINI</td>\n",
       "      <td>บุกเส้นแบน ตราโมกุ</td>\n",
       "      <td>0</td>\n",
       "      <td>none</td>\n",
       "      <td>none</td>\n",
       "      <td>none</td>\n",
       "      <td>none</td>\n",
       "      <td>none</td>\n",
       "      <td>none</td>\n",
       "    </tr>\n",
       "    <tr>\n",
       "      <th>1</th>\n",
       "      <td>241101</td>\n",
       "      <td>241101</td>\n",
       "      <td>241101</td>\n",
       "      <td>Y</td>\n",
       "      <td>BUMILGOCHUJANG</td>\n",
       "      <td>Y</td>\n",
       "      <td>06</td>\n",
       "      <td>0241101</td>\n",
       "      <td>08</td>\n",
       "      <td>BUMILGOCHUJANG</td>\n",
       "      <td>...</td>\n",
       "      <td>nan</td>\n",
       "      <td>BUMILGOCHUJANG</td>\n",
       "      <td>บูมิลโคชูจังซอสเผ้ดเกาหลี</td>\n",
       "      <td>0</td>\n",
       "      <td>none</td>\n",
       "      <td>none</td>\n",
       "      <td>none</td>\n",
       "      <td>none</td>\n",
       "      <td>none</td>\n",
       "      <td>none</td>\n",
       "    </tr>\n",
       "    <tr>\n",
       "      <th>2</th>\n",
       "      <td>190100</td>\n",
       "      <td>190100</td>\n",
       "      <td>190100</td>\n",
       "      <td>Y</td>\n",
       "      <td>WHITE SHIMEJI</td>\n",
       "      <td>Y</td>\n",
       "      <td>05</td>\n",
       "      <td>0190100</td>\n",
       "      <td>19</td>\n",
       "      <td>WHITE SHIMEJI</td>\n",
       "      <td>...</td>\n",
       "      <td>QUALITY VEGETABLE เห็ดชิเมจิขาว</td>\n",
       "      <td>WHITE SHIMEJI</td>\n",
       "      <td>QUALITY VEGETABLE เห็ดชิเมจิขาว</td>\n",
       "      <td>0</td>\n",
       "      <td>none</td>\n",
       "      <td>none</td>\n",
       "      <td>none</td>\n",
       "      <td>none</td>\n",
       "      <td>none</td>\n",
       "      <td>none</td>\n",
       "    </tr>\n",
       "    <tr>\n",
       "      <th>3</th>\n",
       "      <td>192167</td>\n",
       "      <td>192167</td>\n",
       "      <td>192167</td>\n",
       "      <td>Y</td>\n",
       "      <td>**COLGATE TOTAL CHAR</td>\n",
       "      <td>Y</td>\n",
       "      <td>10</td>\n",
       "      <td>0192167</td>\n",
       "      <td>09</td>\n",
       "      <td>**COLGATE TOTAL CHARCOAL DEEP CLEAN 150G</td>\n",
       "      <td>...</td>\n",
       "      <td>Total Charcoal Deep Clean</td>\n",
       "      <td>**COLGATE TOTAL CHARCOAL DEEP CLEAN 150G</td>\n",
       "      <td>COGATE ยสฟ.โททอลชาร์โคลดีพคลีน 150กรัม</td>\n",
       "      <td>0</td>\n",
       "      <td>none</td>\n",
       "      <td>none</td>\n",
       "      <td>none</td>\n",
       "      <td>none</td>\n",
       "      <td>none</td>\n",
       "      <td>none</td>\n",
       "    </tr>\n",
       "    <tr>\n",
       "      <th>4</th>\n",
       "      <td>195886</td>\n",
       "      <td>195886</td>\n",
       "      <td>195886</td>\n",
       "      <td>Y</td>\n",
       "      <td>HERR'S MEDIUM SALSA</td>\n",
       "      <td>Y</td>\n",
       "      <td>07</td>\n",
       "      <td>0195886</td>\n",
       "      <td>08</td>\n",
       "      <td>HERR'S MEDIUM SALSA DIP 454 G.</td>\n",
       "      <td>...</td>\n",
       "      <td>Medium Salsa Dip</td>\n",
       "      <td>HERR'S MEDIUM SALSA DIP 454 G.</td>\n",
       "      <td>HERR'S มีเดีย ซัลซ่า ดิป ซอส 454 G.</td>\n",
       "      <td>0</td>\n",
       "      <td>none</td>\n",
       "      <td>none</td>\n",
       "      <td>none</td>\n",
       "      <td>none</td>\n",
       "      <td>none</td>\n",
       "      <td>none</td>\n",
       "    </tr>\n",
       "    <tr>\n",
       "      <th>...</th>\n",
       "      <td>...</td>\n",
       "      <td>...</td>\n",
       "      <td>...</td>\n",
       "      <td>...</td>\n",
       "      <td>...</td>\n",
       "      <td>...</td>\n",
       "      <td>...</td>\n",
       "      <td>...</td>\n",
       "      <td>...</td>\n",
       "      <td>...</td>\n",
       "      <td>...</td>\n",
       "      <td>...</td>\n",
       "      <td>...</td>\n",
       "      <td>...</td>\n",
       "      <td>...</td>\n",
       "      <td>...</td>\n",
       "      <td>...</td>\n",
       "      <td>...</td>\n",
       "      <td>...</td>\n",
       "      <td>...</td>\n",
       "      <td>...</td>\n",
       "    </tr>\n",
       "    <tr>\n",
       "      <th>95</th>\n",
       "      <td>224654</td>\n",
       "      <td>224654</td>\n",
       "      <td>224654</td>\n",
       "      <td>Y</td>\n",
       "      <td>FARMER UNION GREEK 1</td>\n",
       "      <td>Y</td>\n",
       "      <td>84</td>\n",
       "      <td>0224654</td>\n",
       "      <td>23</td>\n",
       "      <td>FARMER UNION GREEK 130 G.</td>\n",
       "      <td>...</td>\n",
       "      <td>Greek</td>\n",
       "      <td>FARMER UNION GREEK 130 G.</td>\n",
       "      <td>FARMER UNION กรีก 8021 130 G.</td>\n",
       "      <td>0</td>\n",
       "      <td>none</td>\n",
       "      <td>none</td>\n",
       "      <td>none</td>\n",
       "      <td>none</td>\n",
       "      <td>none</td>\n",
       "      <td>none</td>\n",
       "    </tr>\n",
       "    <tr>\n",
       "      <th>96</th>\n",
       "      <td>173999</td>\n",
       "      <td>173999</td>\n",
       "      <td>173999</td>\n",
       "      <td>Y</td>\n",
       "      <td>FG MUSGROOM WHITE BO</td>\n",
       "      <td>Y</td>\n",
       "      <td>05</td>\n",
       "      <td>0173999</td>\n",
       "      <td>19</td>\n",
       "      <td>FG MUSGROOM WHITE BOTTON 250 G</td>\n",
       "      <td>...</td>\n",
       "      <td>FG เห็ดไวท์บัททอน 250ก.</td>\n",
       "      <td>FG MUSGROOM WHITE BOTTON 250 G</td>\n",
       "      <td>FG เห็ดไวท์บัททอน 250กรัม</td>\n",
       "      <td>0</td>\n",
       "      <td>none</td>\n",
       "      <td>none</td>\n",
       "      <td>none</td>\n",
       "      <td>none</td>\n",
       "      <td>none</td>\n",
       "      <td>none</td>\n",
       "    </tr>\n",
       "    <tr>\n",
       "      <th>97</th>\n",
       "      <td>20308</td>\n",
       "      <td>20308</td>\n",
       "      <td>20308</td>\n",
       "      <td>Y</td>\n",
       "      <td>ALLOWRIE BUTTER SALT</td>\n",
       "      <td>Y</td>\n",
       "      <td>07</td>\n",
       "      <td>0020308</td>\n",
       "      <td>23</td>\n",
       "      <td>ALLOWRIE BUTTER SALTED 454 G.</td>\n",
       "      <td>...</td>\n",
       "      <td>Butter Salted</td>\n",
       "      <td>ALLOWRIE BUTTER SALTED 454 G.</td>\n",
       "      <td>ALLOWRIE เนยเค็ม 454 G.</td>\n",
       "      <td>0</td>\n",
       "      <td>none</td>\n",
       "      <td>none</td>\n",
       "      <td>none</td>\n",
       "      <td>none</td>\n",
       "      <td>none</td>\n",
       "      <td>none</td>\n",
       "    </tr>\n",
       "    <tr>\n",
       "      <th>98</th>\n",
       "      <td>156518</td>\n",
       "      <td>156518</td>\n",
       "      <td>156518</td>\n",
       "      <td>Y</td>\n",
       "      <td>BENNETT VITAMIN E SO</td>\n",
       "      <td>Y</td>\n",
       "      <td>16</td>\n",
       "      <td>0156518</td>\n",
       "      <td>19</td>\n",
       "      <td>BENNETT VITAMIN E SOAP</td>\n",
       "      <td>...</td>\n",
       "      <td>BENNETT VITAMIN E SOAP</td>\n",
       "      <td>BENNETT VITAMIN E SOAP</td>\n",
       "      <td>BENNETT สบู่วิตามินอี สูตรดั่งเดิม 130 กรัม</td>\n",
       "      <td>0</td>\n",
       "      <td>none</td>\n",
       "      <td>none</td>\n",
       "      <td>none</td>\n",
       "      <td>none</td>\n",
       "      <td>none</td>\n",
       "      <td>none</td>\n",
       "    </tr>\n",
       "    <tr>\n",
       "      <th>99</th>\n",
       "      <td>143859</td>\n",
       "      <td>143859</td>\n",
       "      <td>143859</td>\n",
       "      <td>Y</td>\n",
       "      <td>ORGANIC MIXED VEG</td>\n",
       "      <td>Y</td>\n",
       "      <td>05</td>\n",
       "      <td>0143859</td>\n",
       "      <td>19</td>\n",
       "      <td>ORGANIC MIXED VEG</td>\n",
       "      <td>...</td>\n",
       "      <td>ORGANIC MIXED VEG</td>\n",
       "      <td>ORGANIC MIXED VEG</td>\n",
       "      <td>ORGANIC ผักสลัดรวม</td>\n",
       "      <td>0</td>\n",
       "      <td>none</td>\n",
       "      <td>none</td>\n",
       "      <td>none</td>\n",
       "      <td>none</td>\n",
       "      <td>none</td>\n",
       "      <td>none</td>\n",
       "    </tr>\n",
       "  </tbody>\n",
       "</table>\n",
       "<p>100 rows × 56 columns</p>\n",
       "</div>"
      ],
      "text/plain": [
       "    cprcode  iprcode  oprcode ordertype                pr_abb pr_active  \\\n",
       "0    225407   225407   225407         Y                  MOKU         Y   \n",
       "1    241101   241101   241101         Y        BUMILGOCHUJANG         Y   \n",
       "2    190100   190100   190100         Y         WHITE SHIMEJI         Y   \n",
       "3    192167   192167   192167         Y  **COLGATE TOTAL CHAR         Y   \n",
       "4    195886   195886   195886         Y   HERR'S MEDIUM SALSA         Y   \n",
       "..      ...      ...      ...       ...                   ...       ...   \n",
       "95   224654   224654   224654         Y  FARMER UNION GREEK 1         Y   \n",
       "96   173999   173999   173999         Y  FG MUSGROOM WHITE BO         Y   \n",
       "97    20308    20308    20308         Y  ALLOWRIE BUTTER SALT         Y   \n",
       "98   156518   156518   156518         Y  BENNETT VITAMIN E SO         Y   \n",
       "99   143859   143859   143859         Y     ORGANIC MIXED VEG         Y   \n",
       "\n",
       "   pr_cgcode  pr_code pr_dpcode                                pr_engname  \\\n",
       "0         87  0225407        21                           KONJAC LINGUINI   \n",
       "1         06  0241101        08                            BUMILGOCHUJANG   \n",
       "2         05  0190100        19                             WHITE SHIMEJI   \n",
       "3         10  0192167        09  **COLGATE TOTAL CHARCOAL DEEP CLEAN 150G   \n",
       "4         07  0195886        08            HERR'S MEDIUM SALSA DIP 454 G.   \n",
       "..       ...      ...       ...                                       ...   \n",
       "95        84  0224654        23                 FARMER UNION GREEK 130 G.   \n",
       "96        05  0173999        19            FG MUSGROOM WHITE BOTTON 250 G   \n",
       "97        07  0020308        23             ALLOWRIE BUTTER SALTED 454 G.   \n",
       "98        16  0156518        19                    BENNETT VITAMIN E SOAP   \n",
       "99        05  0143859        19                         ORGANIC MIXED VEG   \n",
       "\n",
       "    ...                     hema_name_th  \\\n",
       "0   ...               บุกเส้นแบน ตราโมกุ   \n",
       "1   ...                              nan   \n",
       "2   ...  QUALITY VEGETABLE เห็ดชิเมจิขาว   \n",
       "3   ...        Total Charcoal Deep Clean   \n",
       "4   ...                 Medium Salsa Dip   \n",
       "..  ...                              ...   \n",
       "95  ...                            Greek   \n",
       "96  ...          FG เห็ดไวท์บัททอน 250ก.   \n",
       "97  ...                    Butter Salted   \n",
       "98  ...           BENNETT VITAMIN E SOAP   \n",
       "99  ...                ORGANIC MIXED VEG   \n",
       "\n",
       "                                  pr_name_en  \\\n",
       "0                            KONJAC LINGUINI   \n",
       "1                             BUMILGOCHUJANG   \n",
       "2                              WHITE SHIMEJI   \n",
       "3   **COLGATE TOTAL CHARCOAL DEEP CLEAN 150G   \n",
       "4             HERR'S MEDIUM SALSA DIP 454 G.   \n",
       "..                                       ...   \n",
       "95                 FARMER UNION GREEK 130 G.   \n",
       "96            FG MUSGROOM WHITE BOTTON 250 G   \n",
       "97             ALLOWRIE BUTTER SALTED 454 G.   \n",
       "98                    BENNETT VITAMIN E SOAP   \n",
       "99                         ORGANIC MIXED VEG   \n",
       "\n",
       "                                     pr_name_th sort_weight pr_barcode  \\\n",
       "0                            บุกเส้นแบน ตราโมกุ           0       none   \n",
       "1                     บูมิลโคชูจังซอสเผ้ดเกาหลี           0       none   \n",
       "2               QUALITY VEGETABLE เห็ดชิเมจิขาว           0       none   \n",
       "3        COGATE ยสฟ.โททอลชาร์โคลดีพคลีน 150กรัม           0       none   \n",
       "4           HERR'S มีเดีย ซัลซ่า ดิป ซอส 454 G.           0       none   \n",
       "..                                          ...         ...        ...   \n",
       "95                FARMER UNION กรีก 8021 130 G.           0       none   \n",
       "96                    FG เห็ดไวท์บัททอน 250กรัม           0       none   \n",
       "97                      ALLOWRIE เนยเค็ม 454 G.           0       none   \n",
       "98  BENNETT สบู่วิตามินอี สูตรดั่งเดิม 130 กรัม           0       none   \n",
       "99                           ORGANIC ผักสลัดรวม           0       none   \n",
       "\n",
       "   pr_barcode2 master_online SaleMode_unit ba_nprice sort_villa_sku  \n",
       "0         none          none          none      none           none  \n",
       "1         none          none          none      none           none  \n",
       "2         none          none          none      none           none  \n",
       "3         none          none          none      none           none  \n",
       "4         none          none          none      none           none  \n",
       "..         ...           ...           ...       ...            ...  \n",
       "95        none          none          none      none           none  \n",
       "96        none          none          none      none           none  \n",
       "97        none          none          none      none           none  \n",
       "98        none          none          none      none           none  \n",
       "99        none          none          none      none           none  \n",
       "\n",
       "[100 rows x 56 columns]"
      ]
     },
     "execution_count": null,
     "metadata": {},
     "output_type": "execute_result"
    }
   ],
   "source": [
    "items = Tester.scan(limit=100)\n",
    "pd.DataFrame([item.data for item in items])"
   ]
  },
  {
   "cell_type": "code",
   "execution_count": null,
   "metadata": {},
   "outputs": [],
   "source": [
    "#export\n",
    "@add_class_method(Helpers)\n",
    "def toDf(cls, products:List[Helpers])->pd.DataFrame:\n",
    "  df = pd.DataFrame([item.data for item in products])\n",
    "#   df = pd.DataFrame()\n",
    "#   for product in products:\n",
    "#     productSeries = product.toSeries()\n",
    "#     productSeries = productSeries.rename(product.cprcode)\n",
    "#     df = df.append(productSeries)\n",
    "  return df"
   ]
  },
  {
   "cell_type": "code",
   "execution_count": null,
   "metadata": {},
   "outputs": [
    {
     "name": "stdout",
     "output_type": "stream",
     "text": [
      "CPU times: user 28.4 ms, sys: 252 µs, total: 28.7 ms\n",
      "Wall time: 49.2 ms\n"
     ]
    },
    {
     "data": {
      "text/html": [
       "<div>\n",
       "<style scoped>\n",
       "    .dataframe tbody tr th:only-of-type {\n",
       "        vertical-align: middle;\n",
       "    }\n",
       "\n",
       "    .dataframe tbody tr th {\n",
       "        vertical-align: top;\n",
       "    }\n",
       "\n",
       "    .dataframe thead th {\n",
       "        text-align: right;\n",
       "    }\n",
       "</style>\n",
       "<table border=\"1\" class=\"dataframe\">\n",
       "  <thead>\n",
       "    <tr style=\"text-align: right;\">\n",
       "      <th></th>\n",
       "      <th>cprcode</th>\n",
       "      <th>iprcode</th>\n",
       "      <th>oprcode</th>\n",
       "      <th>ordertype</th>\n",
       "      <th>pr_abb</th>\n",
       "      <th>pr_active</th>\n",
       "      <th>pr_cgcode</th>\n",
       "      <th>pr_code</th>\n",
       "      <th>pr_dpcode</th>\n",
       "      <th>pr_engname</th>\n",
       "      <th>...</th>\n",
       "      <th>hema_name_th</th>\n",
       "      <th>pr_name_en</th>\n",
       "      <th>pr_name_th</th>\n",
       "      <th>sort_weight</th>\n",
       "      <th>pr_barcode</th>\n",
       "      <th>pr_barcode2</th>\n",
       "      <th>master_online</th>\n",
       "      <th>SaleMode_unit</th>\n",
       "      <th>ba_nprice</th>\n",
       "      <th>sort_villa_sku</th>\n",
       "    </tr>\n",
       "  </thead>\n",
       "  <tbody>\n",
       "    <tr>\n",
       "      <th>0</th>\n",
       "      <td>225407</td>\n",
       "      <td>225407</td>\n",
       "      <td>225407</td>\n",
       "      <td>Y</td>\n",
       "      <td>MOKU</td>\n",
       "      <td>Y</td>\n",
       "      <td>87</td>\n",
       "      <td>0225407</td>\n",
       "      <td>21</td>\n",
       "      <td>KONJAC LINGUINI</td>\n",
       "      <td>...</td>\n",
       "      <td>บุกเส้นแบน ตราโมกุ</td>\n",
       "      <td>KONJAC LINGUINI</td>\n",
       "      <td>บุกเส้นแบน ตราโมกุ</td>\n",
       "      <td>0</td>\n",
       "      <td>none</td>\n",
       "      <td>none</td>\n",
       "      <td>none</td>\n",
       "      <td>none</td>\n",
       "      <td>none</td>\n",
       "      <td>none</td>\n",
       "    </tr>\n",
       "    <tr>\n",
       "      <th>1</th>\n",
       "      <td>241101</td>\n",
       "      <td>241101</td>\n",
       "      <td>241101</td>\n",
       "      <td>Y</td>\n",
       "      <td>BUMILGOCHUJANG</td>\n",
       "      <td>Y</td>\n",
       "      <td>06</td>\n",
       "      <td>0241101</td>\n",
       "      <td>08</td>\n",
       "      <td>BUMILGOCHUJANG</td>\n",
       "      <td>...</td>\n",
       "      <td>nan</td>\n",
       "      <td>BUMILGOCHUJANG</td>\n",
       "      <td>บูมิลโคชูจังซอสเผ้ดเกาหลี</td>\n",
       "      <td>0</td>\n",
       "      <td>none</td>\n",
       "      <td>none</td>\n",
       "      <td>none</td>\n",
       "      <td>none</td>\n",
       "      <td>none</td>\n",
       "      <td>none</td>\n",
       "    </tr>\n",
       "    <tr>\n",
       "      <th>2</th>\n",
       "      <td>190100</td>\n",
       "      <td>190100</td>\n",
       "      <td>190100</td>\n",
       "      <td>Y</td>\n",
       "      <td>WHITE SHIMEJI</td>\n",
       "      <td>Y</td>\n",
       "      <td>05</td>\n",
       "      <td>0190100</td>\n",
       "      <td>19</td>\n",
       "      <td>WHITE SHIMEJI</td>\n",
       "      <td>...</td>\n",
       "      <td>QUALITY VEGETABLE เห็ดชิเมจิขาว</td>\n",
       "      <td>WHITE SHIMEJI</td>\n",
       "      <td>QUALITY VEGETABLE เห็ดชิเมจิขาว</td>\n",
       "      <td>0</td>\n",
       "      <td>none</td>\n",
       "      <td>none</td>\n",
       "      <td>none</td>\n",
       "      <td>none</td>\n",
       "      <td>none</td>\n",
       "      <td>none</td>\n",
       "    </tr>\n",
       "    <tr>\n",
       "      <th>3</th>\n",
       "      <td>192167</td>\n",
       "      <td>192167</td>\n",
       "      <td>192167</td>\n",
       "      <td>Y</td>\n",
       "      <td>**COLGATE TOTAL CHAR</td>\n",
       "      <td>Y</td>\n",
       "      <td>10</td>\n",
       "      <td>0192167</td>\n",
       "      <td>09</td>\n",
       "      <td>**COLGATE TOTAL CHARCOAL DEEP CLEAN 150G</td>\n",
       "      <td>...</td>\n",
       "      <td>Total Charcoal Deep Clean</td>\n",
       "      <td>**COLGATE TOTAL CHARCOAL DEEP CLEAN 150G</td>\n",
       "      <td>COGATE ยสฟ.โททอลชาร์โคลดีพคลีน 150กรัม</td>\n",
       "      <td>0</td>\n",
       "      <td>none</td>\n",
       "      <td>none</td>\n",
       "      <td>none</td>\n",
       "      <td>none</td>\n",
       "      <td>none</td>\n",
       "      <td>none</td>\n",
       "    </tr>\n",
       "    <tr>\n",
       "      <th>4</th>\n",
       "      <td>195886</td>\n",
       "      <td>195886</td>\n",
       "      <td>195886</td>\n",
       "      <td>Y</td>\n",
       "      <td>HERR'S MEDIUM SALSA</td>\n",
       "      <td>Y</td>\n",
       "      <td>07</td>\n",
       "      <td>0195886</td>\n",
       "      <td>08</td>\n",
       "      <td>HERR'S MEDIUM SALSA DIP 454 G.</td>\n",
       "      <td>...</td>\n",
       "      <td>Medium Salsa Dip</td>\n",
       "      <td>HERR'S MEDIUM SALSA DIP 454 G.</td>\n",
       "      <td>HERR'S มีเดีย ซัลซ่า ดิป ซอส 454 G.</td>\n",
       "      <td>0</td>\n",
       "      <td>none</td>\n",
       "      <td>none</td>\n",
       "      <td>none</td>\n",
       "      <td>none</td>\n",
       "      <td>none</td>\n",
       "      <td>none</td>\n",
       "    </tr>\n",
       "  </tbody>\n",
       "</table>\n",
       "<p>5 rows × 56 columns</p>\n",
       "</div>"
      ],
      "text/plain": [
       "   cprcode  iprcode  oprcode ordertype                pr_abb pr_active  \\\n",
       "0   225407   225407   225407         Y                  MOKU         Y   \n",
       "1   241101   241101   241101         Y        BUMILGOCHUJANG         Y   \n",
       "2   190100   190100   190100         Y         WHITE SHIMEJI         Y   \n",
       "3   192167   192167   192167         Y  **COLGATE TOTAL CHAR         Y   \n",
       "4   195886   195886   195886         Y   HERR'S MEDIUM SALSA         Y   \n",
       "\n",
       "  pr_cgcode  pr_code pr_dpcode                                pr_engname  ...  \\\n",
       "0        87  0225407        21                           KONJAC LINGUINI  ...   \n",
       "1        06  0241101        08                            BUMILGOCHUJANG  ...   \n",
       "2        05  0190100        19                             WHITE SHIMEJI  ...   \n",
       "3        10  0192167        09  **COLGATE TOTAL CHARCOAL DEEP CLEAN 150G  ...   \n",
       "4        07  0195886        08            HERR'S MEDIUM SALSA DIP 454 G.  ...   \n",
       "\n",
       "                      hema_name_th                                pr_name_en  \\\n",
       "0               บุกเส้นแบน ตราโมกุ                           KONJAC LINGUINI   \n",
       "1                              nan                            BUMILGOCHUJANG   \n",
       "2  QUALITY VEGETABLE เห็ดชิเมจิขาว                             WHITE SHIMEJI   \n",
       "3        Total Charcoal Deep Clean  **COLGATE TOTAL CHARCOAL DEEP CLEAN 150G   \n",
       "4                 Medium Salsa Dip            HERR'S MEDIUM SALSA DIP 454 G.   \n",
       "\n",
       "                               pr_name_th sort_weight pr_barcode pr_barcode2  \\\n",
       "0                      บุกเส้นแบน ตราโมกุ           0       none        none   \n",
       "1               บูมิลโคชูจังซอสเผ้ดเกาหลี           0       none        none   \n",
       "2         QUALITY VEGETABLE เห็ดชิเมจิขาว           0       none        none   \n",
       "3  COGATE ยสฟ.โททอลชาร์โคลดีพคลีน 150กรัม           0       none        none   \n",
       "4     HERR'S มีเดีย ซัลซ่า ดิป ซอส 454 G.           0       none        none   \n",
       "\n",
       "  master_online SaleMode_unit ba_nprice sort_villa_sku  \n",
       "0          none          none      none           none  \n",
       "1          none          none      none           none  \n",
       "2          none          none      none           none  \n",
       "3          none          none      none           none  \n",
       "4          none          none      none           none  \n",
       "\n",
       "[5 rows x 56 columns]"
      ]
     },
     "execution_count": null,
     "metadata": {},
     "output_type": "execute_result"
    }
   ],
   "source": [
    "%%time\n",
    "df = Tester.toDf(Tester.scan(limit=100))\n",
    "df.head()"
   ]
  },
  {
   "cell_type": "markdown",
   "metadata": {},
   "source": [
    "### From Series"
   ]
  },
  {
   "cell_type": "code",
   "execution_count": null,
   "metadata": {},
   "outputs": [],
   "source": [
    "#export\n",
    "@add_class_method(Helpers)\n",
    "def fromSeries(cls, data:pd.Series)->Helpers:\n",
    "  return cls.fromDict(data.to_dict())\n",
    "  "
   ]
  },
  {
   "cell_type": "code",
   "execution_count": null,
   "metadata": {},
   "outputs": [
    {
     "data": {
      "text/plain": [
       "{'SaleMode_unit': 'none',\n",
       " 'ba_nprice': 'none',\n",
       " 'content_en': '0225407 KONJAC LINGUINI',\n",
       " 'content_th': 'บุกเส้นแบน ตราโมกุ',\n",
       " 'cprcode': 225407.0,\n",
       " 'hema_brand_en': 'nan',\n",
       " 'hema_brand_th': 'nan',\n",
       " 'hema_name_en': 'KONJAC LINGUINI',\n",
       " 'hema_name_th': 'บุกเส้นแบน ตราโมกุ',\n",
       " 'hema_sizedesc': 'nan',\n",
       " 'iprcode': 225407.0,\n",
       " 'master_online': 'none',\n",
       " 'online_category_l1_en': 'Delicatessen & Eggs',\n",
       " 'online_category_l1_th': 'อาหารสำเร็จรูปและไข่',\n",
       " 'online_category_l2_en': 'Ready Meals',\n",
       " 'online_category_l2_th': 'อาหารพร้อมทาน',\n",
       " 'online_category_l3_en': 'nan',\n",
       " 'online_category_l3_th': 'nan',\n",
       " 'oprcode': 225407.0,\n",
       " 'ordertype': 'Y',\n",
       " 'pr_abb': 'MOKU',\n",
       " 'pr_active': 'Y',\n",
       " 'pr_barcode': 'none',\n",
       " 'pr_barcode2': 'none',\n",
       " 'pr_brand_en': 'nan',\n",
       " 'pr_brand_th': 'nan',\n",
       " 'pr_cgcode': '87',\n",
       " 'pr_code': '0225407',\n",
       " 'pr_country_en': 'Thailand',\n",
       " 'pr_country_th': 'nan',\n",
       " 'pr_dpcode': '21',\n",
       " 'pr_engname': 'KONJAC LINGUINI',\n",
       " 'pr_filter_en': 'nan',\n",
       " 'pr_filter_th': 'nan',\n",
       " 'pr_ggcode': '010',\n",
       " 'pr_keyword_en': 'nan',\n",
       " 'pr_keyword_th': 'nan',\n",
       " 'pr_market': 'MOKU',\n",
       " 'pr_name': 'บุกเส้นแบน ตราโมกุ',\n",
       " 'pr_name_en': 'KONJAC LINGUINI',\n",
       " 'pr_name_th': 'บุกเส้นแบน ตราโมกุ',\n",
       " 'pr_online_name_en': 'KONJAC LINGUINI',\n",
       " 'pr_online_name_th': 'บุกเส้นแบน ตราโมกุ',\n",
       " 'pr_puqty': '1.00',\n",
       " 'pr_sa_method': '1',\n",
       " 'pr_sucode1': 'F1148',\n",
       " 'pr_suref3': 'A',\n",
       " 'prtype': 'I',\n",
       " 'psqty': '1',\n",
       " 'pstype': '1',\n",
       " 'sort_villa_sku': 'none',\n",
       " 'sort_weight': '0',\n",
       " 'villa_category_l1_en': 'Fresh',\n",
       " 'villa_category_l2_en': 'Delicatessen',\n",
       " 'villa_category_l3_en': 'Local',\n",
       " 'villa_category_l4_en': 'Local Foods'}"
      ]
     },
     "execution_count": null,
     "metadata": {},
     "output_type": "execute_result"
    }
   ],
   "source": [
    "item = df.iloc[0]\n",
    "type(item)\n",
    "result = Tester.fromSeries(item)\n",
    "result.data"
   ]
  },
  {
   "cell_type": "markdown",
   "metadata": {},
   "source": [
    "### From DF"
   ]
  },
  {
   "cell_type": "code",
   "execution_count": null,
   "metadata": {},
   "outputs": [],
   "source": [
    "#export\n",
    "@add_class_method(Helpers)\n",
    "def fromDf(cls, data:pd.DataFrame)->List[Helpers]:\n",
    "  return data.apply(lambda x: cls.fromSeries(x), axis=1).to_list()\n",
    "  "
   ]
  },
  {
   "cell_type": "code",
   "execution_count": null,
   "metadata": {},
   "outputs": [
    {
     "data": {
      "text/plain": [
       "ProductDatabase Object\n",
       "SaleMode_unit none\n",
       "ba_nprice none\n",
       "content_en 0225407 KONJAC LINGUINI\n",
       "content_th บุกเส้นแบน ตราโมกุ\n",
       "cprcode 225407.0\n",
       "hema_brand_en nan\n",
       "hema_brand_th nan\n",
       "hema_name_en KONJAC LINGUINI\n",
       "hema_name_th บุกเส้นแบน ตราโมกุ\n",
       "hema_sizedesc nan\n",
       "iprcode 225407.0\n",
       "master_online none\n",
       "online_category_l1_en Delicatessen & Eggs\n",
       "online_category_l1_th อาหารสำเร็จรูปและไข่\n",
       "online_category_l2_en Ready Meals\n",
       "online_category_l2_th อาหารพร้อมทาน\n",
       "online_category_l3_en nan\n",
       "online_category_l3_th nan\n",
       "oprcode 225407.0\n",
       "ordertype Y\n",
       "pr_abb MOKU\n",
       "pr_active Y\n",
       "pr_barcode none\n",
       "pr_barcode2 none\n",
       "pr_brand_en nan\n",
       "pr_brand_th nan\n",
       "pr_cgcode 87\n",
       "pr_code 0225407\n",
       "pr_country_en Thailand\n",
       "pr_country_th nan\n",
       "pr_dpcode 21\n",
       "pr_engname KONJAC LINGUINI\n",
       "pr_filter_en nan\n",
       "pr_filter_th nan\n",
       "pr_ggcode 010\n",
       "pr_keyword_en nan\n",
       "pr_keyword_th nan\n",
       "pr_market MOKU\n",
       "pr_name บุกเส้นแบน ตราโมกุ\n",
       "pr_name_en KONJAC LINGUINI\n",
       "pr_name_th บุกเส้นแบน ตราโมกุ\n",
       "pr_online_name_en KONJAC LINGUINI\n",
       "pr_online_name_th บุกเส้นแบน ตราโมกุ\n",
       "pr_puqty 1.00\n",
       "pr_sa_method 1\n",
       "pr_sucode1 F1148\n",
       "pr_suref3 A\n",
       "prtype I\n",
       "psqty 1\n",
       "pstype 1\n",
       "sort_villa_sku none\n",
       "sort_weight 0\n",
       "villa_category_l1_en Fresh\n",
       "villa_category_l2_en Delicatessen\n",
       "villa_category_l3_en Local\n",
       "villa_category_l4_en Local Foods"
      ]
     },
     "execution_count": null,
     "metadata": {},
     "output_type": "execute_result"
    }
   ],
   "source": [
    "Tester.fromDf(df)[0]"
   ]
  },
  {
   "cell_type": "markdown",
   "metadata": {},
   "source": [
    "### From dict"
   ]
  },
  {
   "cell_type": "code",
   "execution_count": null,
   "metadata": {},
   "outputs": [],
   "source": [
    "#export\n",
    "@add_class_method(Helpers)\n",
    "def fromDict(cls, dictInput):\n",
    "  logging.debug(dictInput)\n",
    "  dictInput = stripDict(dictInput)\n",
    "  #### extract the keys\n",
    "  filteredInput = {k:v for k,v in dictInput.items() if k in cls.keys()}\n",
    "  #### save whole object to dictInput\n",
    "  filteredInput['data'] = dictInput\n",
    "  logging.debug(filteredInput)\n",
    "  return cls(**filteredInput)"
   ]
  },
  {
   "cell_type": "code",
   "execution_count": null,
   "metadata": {},
   "outputs": [
    {
     "data": {
      "text/plain": [
       "ProductDatabase Object\n",
       "cprcode 0171670\n",
       "iprcode 0171670\n",
       "oprcode 0171670\n",
       "ordertype Y\n",
       "pr_abb JIRAPAT YOUNG KALE 2\n",
       "pr_active Y\n",
       "pr_cgcode 05\n",
       "pr_code 0171670\n",
       "pr_dpcode 19\n",
       "pr_engname JIRAAT YOUNG KALE 200 G.\n",
       "pr_ggcode 057\n",
       "pr_market JIRAPAT ยอดคะน้า 200 G.\n",
       "pr_name JIRAPAT ยอดคะน้า 200 G.\n",
       "pr_puqty 1\n",
       "pr_sa_method 1\n",
       "pr_sucode1 CM845\n",
       "pr_suref3 A\n",
       "prtype I\n",
       "psqty 1\n",
       "pstype 1"
      ]
     },
     "execution_count": null,
     "metadata": {},
     "output_type": "execute_result"
    }
   ],
   "source": [
    "item = {\n",
    "  'cprcode': '0171670',\n",
    "  'iprcode': '0171670',\n",
    "  'oprcode': '0171670',\n",
    "  'ordertype': 'Y',\n",
    "  'pr_abb': 'JIRAPAT YOUNG KALE 2',\n",
    "  'pr_active': 'Y',\n",
    "  'pr_cgcode': '05',\n",
    "  'pr_code': '0171670',\n",
    "  'pr_dpcode': '19',\n",
    "  'pr_engname': 'JIRAAT YOUNG KALE 200 G.',\n",
    "  'pr_ggcode': '057',\n",
    "  'pr_market': 'JIRAPAT ยอดคะน้า 200 G.',\n",
    "  'pr_name': 'JIRAPAT ยอดคะน้า 200 G.',\n",
    "  'pr_puqty': '1',\n",
    "  'pr_sa_method': '1',\n",
    "  'pr_sucode1': 'CM845',\n",
    "  'pr_suref3': 'A',\n",
    "  'prtype': 'I',\n",
    "  'psqty': '1',\n",
    "  'pstype': '1'}\n",
    "Tester.fromDict(item)"
   ]
  },
  {
   "cell_type": "markdown",
   "metadata": {},
   "source": [
    "### toListOfDict"
   ]
  },
  {
   "cell_type": "code",
   "execution_count": null,
   "metadata": {},
   "outputs": [],
   "source": [
    "#export\n",
    "@add_class_method(Helpers)\n",
    "def toListDict(cls, items:List[Helpers]):\n",
    "  return [item.data for item in items]"
   ]
  },
  {
   "cell_type": "code",
   "execution_count": null,
   "metadata": {},
   "outputs": [
    {
     "data": {
      "text/plain": [
       "100"
      ]
     },
     "execution_count": null,
     "metadata": {},
     "output_type": "execute_result"
    }
   ],
   "source": [
    "items = Tester.fromDf(df)\n",
    "len(Tester.toListDict(items))"
   ]
  },
  {
   "cell_type": "markdown",
   "metadata": {},
   "source": [
    "## Standard functions"
   ]
  },
  {
   "cell_type": "markdown",
   "metadata": {},
   "source": [
    "### toSeries "
   ]
  },
  {
   "cell_type": "code",
   "execution_count": null,
   "metadata": {},
   "outputs": [],
   "source": [
    "#export\n",
    "@add_method(Helpers)\n",
    "def toSeries(self):\n",
    "  return pd.Series(self.data)"
   ]
  },
  {
   "cell_type": "code",
   "execution_count": null,
   "metadata": {},
   "outputs": [
    {
     "ename": "QueryError",
     "evalue": "Failed to query items: An error occurred (ValidationException) on request (JG34R1Q89K2ITK7822VD99EDGNVV4KQNSO5AEMVJF66Q9ASUAAJG) on table (product-table-dev-manual) when calling the Query operation: ExpressionAttributeValues contains invalid value: The parameter cannot be converted to a numeric value: \"0000009\" for key :0",
     "output_type": "error",
     "traceback": [
      "\u001b[0;31m---------------------------------------------------------------------------\u001b[0m",
      "\u001b[0;31mVerboseClientError\u001b[0m                        Traceback (most recent call last)",
      "\u001b[0;32m~/SageMaker/.persisted_conda/python38/lib/python3.8/site-packages/pynamodb/connection/base.py\u001b[0m in \u001b[0;36mquery\u001b[0;34m(self, table_name, hash_key, range_key_condition, filter_condition, attributes_to_get, consistent_read, exclusive_start_key, index_name, limit, return_consumed_capacity, scan_index_forward, select)\u001b[0m\n\u001b[1;32m   1348\u001b[0m         \u001b[0;32mtry\u001b[0m\u001b[0;34m:\u001b[0m\u001b[0;34m\u001b[0m\u001b[0;34m\u001b[0m\u001b[0m\n\u001b[0;32m-> 1349\u001b[0;31m             \u001b[0;32mreturn\u001b[0m \u001b[0mself\u001b[0m\u001b[0;34m.\u001b[0m\u001b[0mdispatch\u001b[0m\u001b[0;34m(\u001b[0m\u001b[0mQUERY\u001b[0m\u001b[0;34m,\u001b[0m \u001b[0moperation_kwargs\u001b[0m\u001b[0;34m)\u001b[0m\u001b[0;34m\u001b[0m\u001b[0;34m\u001b[0m\u001b[0m\n\u001b[0m\u001b[1;32m   1350\u001b[0m         \u001b[0;32mexcept\u001b[0m \u001b[0mBOTOCORE_EXCEPTIONS\u001b[0m \u001b[0;32mas\u001b[0m \u001b[0me\u001b[0m\u001b[0;34m:\u001b[0m\u001b[0;34m\u001b[0m\u001b[0;34m\u001b[0m\u001b[0m\n",
      "\u001b[0;32m~/SageMaker/.persisted_conda/python38/lib/python3.8/site-packages/pynamodb/connection/base.py\u001b[0m in \u001b[0;36mdispatch\u001b[0;34m(self, operation_name, operation_kwargs)\u001b[0m\n\u001b[1;32m    348\u001b[0m         \u001b[0mself\u001b[0m\u001b[0;34m.\u001b[0m\u001b[0msend_pre_boto_callback\u001b[0m\u001b[0;34m(\u001b[0m\u001b[0moperation_name\u001b[0m\u001b[0;34m,\u001b[0m \u001b[0mreq_uuid\u001b[0m\u001b[0;34m,\u001b[0m \u001b[0mtable_name\u001b[0m\u001b[0;34m)\u001b[0m\u001b[0;34m\u001b[0m\u001b[0;34m\u001b[0m\u001b[0m\n\u001b[0;32m--> 349\u001b[0;31m         \u001b[0mdata\u001b[0m \u001b[0;34m=\u001b[0m \u001b[0mself\u001b[0m\u001b[0;34m.\u001b[0m\u001b[0m_make_api_call\u001b[0m\u001b[0;34m(\u001b[0m\u001b[0moperation_name\u001b[0m\u001b[0;34m,\u001b[0m \u001b[0moperation_kwargs\u001b[0m\u001b[0;34m)\u001b[0m\u001b[0;34m\u001b[0m\u001b[0;34m\u001b[0m\u001b[0m\n\u001b[0m\u001b[1;32m    350\u001b[0m         \u001b[0mself\u001b[0m\u001b[0;34m.\u001b[0m\u001b[0msend_post_boto_callback\u001b[0m\u001b[0;34m(\u001b[0m\u001b[0moperation_name\u001b[0m\u001b[0;34m,\u001b[0m \u001b[0mreq_uuid\u001b[0m\u001b[0;34m,\u001b[0m \u001b[0mtable_name\u001b[0m\u001b[0;34m)\u001b[0m\u001b[0;34m\u001b[0m\u001b[0;34m\u001b[0m\u001b[0m\n",
      "\u001b[0;32m~/SageMaker/.persisted_conda/python38/lib/python3.8/site-packages/pynamodb/connection/base.py\u001b[0m in \u001b[0;36m_make_api_call\u001b[0;34m(self, operation_name, operation_kwargs)\u001b[0m\n\u001b[1;32m    458\u001b[0m                 \u001b[0;32mtry\u001b[0m\u001b[0;34m:\u001b[0m\u001b[0;34m\u001b[0m\u001b[0;34m\u001b[0m\u001b[0m\n\u001b[0;32m--> 459\u001b[0;31m                     \u001b[0;32mraise\u001b[0m \u001b[0mVerboseClientError\u001b[0m\u001b[0;34m(\u001b[0m\u001b[0mbotocore_expected_format\u001b[0m\u001b[0;34m,\u001b[0m \u001b[0moperation_name\u001b[0m\u001b[0;34m,\u001b[0m \u001b[0mverbose_properties\u001b[0m\u001b[0;34m)\u001b[0m\u001b[0;34m\u001b[0m\u001b[0;34m\u001b[0m\u001b[0m\n\u001b[0m\u001b[1;32m    460\u001b[0m                 \u001b[0;32mexcept\u001b[0m \u001b[0mVerboseClientError\u001b[0m \u001b[0;32mas\u001b[0m \u001b[0me\u001b[0m\u001b[0;34m:\u001b[0m\u001b[0;34m\u001b[0m\u001b[0;34m\u001b[0m\u001b[0m\n",
      "\u001b[0;31mVerboseClientError\u001b[0m: An error occurred (ValidationException) on request (JG34R1Q89K2ITK7822VD99EDGNVV4KQNSO5AEMVJF66Q9ASUAAJG) on table (product-table-dev-manual) when calling the Query operation: ExpressionAttributeValues contains invalid value: The parameter cannot be converted to a numeric value: \"0000009\" for key :0",
      "\nDuring handling of the above exception, another exception occurred:\n",
      "\u001b[0;31mQueryError\u001b[0m                                Traceback (most recent call last)",
      "\u001b[0;32m<ipython-input-25-336790b9c69b>\u001b[0m in \u001b[0;36m<module>\u001b[0;34m\u001b[0m\n\u001b[0;32m----> 1\u001b[0;31m \u001b[0mitem\u001b[0m \u001b[0;34m=\u001b[0m \u001b[0mnext\u001b[0m\u001b[0;34m(\u001b[0m\u001b[0mTester\u001b[0m\u001b[0;34m.\u001b[0m\u001b[0mquery\u001b[0m\u001b[0;34m(\u001b[0m\u001b[0;34m'0000009'\u001b[0m\u001b[0;34m)\u001b[0m\u001b[0;34m)\u001b[0m\u001b[0;34m\u001b[0m\u001b[0;34m\u001b[0m\u001b[0m\n\u001b[0m\u001b[1;32m      2\u001b[0m \u001b[0mdata\u001b[0m \u001b[0;34m=\u001b[0m \u001b[0mitem\u001b[0m\u001b[0;34m.\u001b[0m\u001b[0mdata\u001b[0m\u001b[0;34m\u001b[0m\u001b[0;34m\u001b[0m\u001b[0m\n\u001b[1;32m      3\u001b[0m \u001b[0mitem\u001b[0m\u001b[0;34m.\u001b[0m\u001b[0mtoSeries\u001b[0m\u001b[0;34m(\u001b[0m\u001b[0;34m)\u001b[0m\u001b[0;34m\u001b[0m\u001b[0;34m\u001b[0m\u001b[0m\n",
      "\u001b[0;32m~/SageMaker/.persisted_conda/python38/lib/python3.8/site-packages/pynamodb/pagination.py\u001b[0m in \u001b[0;36m__next__\u001b[0;34m(self)\u001b[0m\n\u001b[1;32m    189\u001b[0m         \u001b[0;32mif\u001b[0m \u001b[0mself\u001b[0m\u001b[0;34m.\u001b[0m\u001b[0m_first_iteration\u001b[0m\u001b[0;34m:\u001b[0m\u001b[0;34m\u001b[0m\u001b[0;34m\u001b[0m\u001b[0m\n\u001b[1;32m    190\u001b[0m             \u001b[0mself\u001b[0m\u001b[0;34m.\u001b[0m\u001b[0m_first_iteration\u001b[0m \u001b[0;34m=\u001b[0m \u001b[0;32mFalse\u001b[0m\u001b[0;34m\u001b[0m\u001b[0;34m\u001b[0m\u001b[0m\n\u001b[0;32m--> 191\u001b[0;31m             \u001b[0mself\u001b[0m\u001b[0;34m.\u001b[0m\u001b[0m_get_next_page\u001b[0m\u001b[0;34m(\u001b[0m\u001b[0;34m)\u001b[0m\u001b[0;34m\u001b[0m\u001b[0;34m\u001b[0m\u001b[0m\n\u001b[0m\u001b[1;32m    192\u001b[0m \u001b[0;34m\u001b[0m\u001b[0m\n\u001b[1;32m    193\u001b[0m         \u001b[0;32mwhile\u001b[0m \u001b[0mself\u001b[0m\u001b[0;34m.\u001b[0m\u001b[0m_index\u001b[0m \u001b[0;34m==\u001b[0m \u001b[0mself\u001b[0m\u001b[0;34m.\u001b[0m\u001b[0m_count\u001b[0m\u001b[0;34m:\u001b[0m\u001b[0;34m\u001b[0m\u001b[0;34m\u001b[0m\u001b[0m\n",
      "\u001b[0;32m~/SageMaker/.persisted_conda/python38/lib/python3.8/site-packages/pynamodb/pagination.py\u001b[0m in \u001b[0;36m_get_next_page\u001b[0;34m(self)\u001b[0m\n\u001b[1;32m    174\u001b[0m \u001b[0;34m\u001b[0m\u001b[0m\n\u001b[1;32m    175\u001b[0m     \u001b[0;32mdef\u001b[0m \u001b[0m_get_next_page\u001b[0m\u001b[0;34m(\u001b[0m\u001b[0mself\u001b[0m\u001b[0;34m)\u001b[0m \u001b[0;34m->\u001b[0m \u001b[0;32mNone\u001b[0m\u001b[0;34m:\u001b[0m\u001b[0;34m\u001b[0m\u001b[0;34m\u001b[0m\u001b[0m\n\u001b[0;32m--> 176\u001b[0;31m         \u001b[0mpage\u001b[0m \u001b[0;34m=\u001b[0m \u001b[0mnext\u001b[0m\u001b[0;34m(\u001b[0m\u001b[0mself\u001b[0m\u001b[0;34m.\u001b[0m\u001b[0mpage_iter\u001b[0m\u001b[0;34m)\u001b[0m\u001b[0;34m\u001b[0m\u001b[0;34m\u001b[0m\u001b[0m\n\u001b[0m\u001b[1;32m    177\u001b[0m         \u001b[0mself\u001b[0m\u001b[0;34m.\u001b[0m\u001b[0m_count\u001b[0m \u001b[0;34m=\u001b[0m \u001b[0mpage\u001b[0m\u001b[0;34m[\u001b[0m\u001b[0mCAMEL_COUNT\u001b[0m\u001b[0;34m]\u001b[0m\u001b[0;34m\u001b[0m\u001b[0;34m\u001b[0m\u001b[0m\n\u001b[1;32m    178\u001b[0m         \u001b[0mself\u001b[0m\u001b[0;34m.\u001b[0m\u001b[0m_items\u001b[0m \u001b[0;34m=\u001b[0m \u001b[0mpage\u001b[0m\u001b[0;34m.\u001b[0m\u001b[0mget\u001b[0m\u001b[0;34m(\u001b[0m\u001b[0mITEMS\u001b[0m\u001b[0;34m)\u001b[0m  \u001b[0;31m# not returned if 'Select' is set to 'COUNT'\u001b[0m\u001b[0;34m\u001b[0m\u001b[0;34m\u001b[0m\u001b[0m\n",
      "\u001b[0;32m~/SageMaker/.persisted_conda/python38/lib/python3.8/site-packages/pynamodb/pagination.py\u001b[0m in \u001b[0;36m__next__\u001b[0;34m(self)\u001b[0m\n\u001b[1;32m    111\u001b[0m             \u001b[0mself\u001b[0m\u001b[0;34m.\u001b[0m\u001b[0m_rate_limiter\u001b[0m\u001b[0;34m.\u001b[0m\u001b[0macquire\u001b[0m\u001b[0;34m(\u001b[0m\u001b[0;34m)\u001b[0m\u001b[0;34m\u001b[0m\u001b[0;34m\u001b[0m\u001b[0m\n\u001b[1;32m    112\u001b[0m             \u001b[0mself\u001b[0m\u001b[0;34m.\u001b[0m\u001b[0m_kwargs\u001b[0m\u001b[0;34m[\u001b[0m\u001b[0;34m'return_consumed_capacity'\u001b[0m\u001b[0;34m]\u001b[0m \u001b[0;34m=\u001b[0m \u001b[0mTOTAL\u001b[0m\u001b[0;34m\u001b[0m\u001b[0;34m\u001b[0m\u001b[0m\n\u001b[0;32m--> 113\u001b[0;31m         \u001b[0mpage\u001b[0m \u001b[0;34m=\u001b[0m \u001b[0mself\u001b[0m\u001b[0;34m.\u001b[0m\u001b[0m_operation\u001b[0m\u001b[0;34m(\u001b[0m\u001b[0;34m*\u001b[0m\u001b[0mself\u001b[0m\u001b[0;34m.\u001b[0m\u001b[0m_args\u001b[0m\u001b[0;34m,\u001b[0m \u001b[0;34m**\u001b[0m\u001b[0mself\u001b[0m\u001b[0;34m.\u001b[0m\u001b[0m_kwargs\u001b[0m\u001b[0;34m)\u001b[0m\u001b[0;34m\u001b[0m\u001b[0;34m\u001b[0m\u001b[0m\n\u001b[0m\u001b[1;32m    114\u001b[0m         \u001b[0mself\u001b[0m\u001b[0;34m.\u001b[0m\u001b[0m_last_evaluated_key\u001b[0m \u001b[0;34m=\u001b[0m \u001b[0mpage\u001b[0m\u001b[0;34m.\u001b[0m\u001b[0mget\u001b[0m\u001b[0;34m(\u001b[0m\u001b[0mLAST_EVALUATED_KEY\u001b[0m\u001b[0;34m)\u001b[0m\u001b[0;34m\u001b[0m\u001b[0;34m\u001b[0m\u001b[0m\n\u001b[1;32m    115\u001b[0m         \u001b[0mself\u001b[0m\u001b[0;34m.\u001b[0m\u001b[0m_total_scanned_count\u001b[0m \u001b[0;34m+=\u001b[0m \u001b[0mpage\u001b[0m\u001b[0;34m[\u001b[0m\u001b[0mSCANNED_COUNT\u001b[0m\u001b[0;34m]\u001b[0m\u001b[0;34m\u001b[0m\u001b[0;34m\u001b[0m\u001b[0m\n",
      "\u001b[0;32m~/SageMaker/.persisted_conda/python38/lib/python3.8/site-packages/pynamodb/connection/table.py\u001b[0m in \u001b[0;36mquery\u001b[0;34m(self, hash_key, range_key_condition, filter_condition, attributes_to_get, consistent_read, exclusive_start_key, index_name, limit, return_consumed_capacity, scan_index_forward, select)\u001b[0m\n\u001b[1;32m    256\u001b[0m         \u001b[0mPerforms\u001b[0m \u001b[0mthe\u001b[0m \u001b[0mQuery\u001b[0m \u001b[0moperation\u001b[0m \u001b[0;32mand\u001b[0m \u001b[0mreturns\u001b[0m \u001b[0mthe\u001b[0m \u001b[0mresult\u001b[0m\u001b[0;34m\u001b[0m\u001b[0;34m\u001b[0m\u001b[0m\n\u001b[1;32m    257\u001b[0m         \"\"\"\n\u001b[0;32m--> 258\u001b[0;31m         return self.connection.query(\n\u001b[0m\u001b[1;32m    259\u001b[0m             \u001b[0mself\u001b[0m\u001b[0;34m.\u001b[0m\u001b[0mtable_name\u001b[0m\u001b[0;34m,\u001b[0m\u001b[0;34m\u001b[0m\u001b[0;34m\u001b[0m\u001b[0m\n\u001b[1;32m    260\u001b[0m             \u001b[0mhash_key\u001b[0m\u001b[0;34m,\u001b[0m\u001b[0;34m\u001b[0m\u001b[0;34m\u001b[0m\u001b[0m\n",
      "\u001b[0;32m~/SageMaker/.persisted_conda/python38/lib/python3.8/site-packages/pynamodb/connection/base.py\u001b[0m in \u001b[0;36mquery\u001b[0;34m(self, table_name, hash_key, range_key_condition, filter_condition, attributes_to_get, consistent_read, exclusive_start_key, index_name, limit, return_consumed_capacity, scan_index_forward, select)\u001b[0m\n\u001b[1;32m   1349\u001b[0m             \u001b[0;32mreturn\u001b[0m \u001b[0mself\u001b[0m\u001b[0;34m.\u001b[0m\u001b[0mdispatch\u001b[0m\u001b[0;34m(\u001b[0m\u001b[0mQUERY\u001b[0m\u001b[0;34m,\u001b[0m \u001b[0moperation_kwargs\u001b[0m\u001b[0;34m)\u001b[0m\u001b[0;34m\u001b[0m\u001b[0;34m\u001b[0m\u001b[0m\n\u001b[1;32m   1350\u001b[0m         \u001b[0;32mexcept\u001b[0m \u001b[0mBOTOCORE_EXCEPTIONS\u001b[0m \u001b[0;32mas\u001b[0m \u001b[0me\u001b[0m\u001b[0;34m:\u001b[0m\u001b[0;34m\u001b[0m\u001b[0;34m\u001b[0m\u001b[0m\n\u001b[0;32m-> 1351\u001b[0;31m             \u001b[0;32mraise\u001b[0m \u001b[0mQueryError\u001b[0m\u001b[0;34m(\u001b[0m\u001b[0;34m\"Failed to query items: {}\"\u001b[0m\u001b[0;34m.\u001b[0m\u001b[0mformat\u001b[0m\u001b[0;34m(\u001b[0m\u001b[0me\u001b[0m\u001b[0;34m)\u001b[0m\u001b[0;34m,\u001b[0m \u001b[0me\u001b[0m\u001b[0;34m)\u001b[0m\u001b[0;34m\u001b[0m\u001b[0;34m\u001b[0m\u001b[0m\n\u001b[0m\u001b[1;32m   1352\u001b[0m \u001b[0;34m\u001b[0m\u001b[0m\n\u001b[1;32m   1353\u001b[0m     \u001b[0;32mdef\u001b[0m \u001b[0m_check_condition\u001b[0m\u001b[0;34m(\u001b[0m\u001b[0mself\u001b[0m\u001b[0;34m,\u001b[0m \u001b[0mname\u001b[0m\u001b[0;34m,\u001b[0m \u001b[0mcondition\u001b[0m\u001b[0;34m)\u001b[0m\u001b[0;34m:\u001b[0m\u001b[0;34m\u001b[0m\u001b[0;34m\u001b[0m\u001b[0m\n",
      "\u001b[0;31mQueryError\u001b[0m: Failed to query items: An error occurred (ValidationException) on request (JG34R1Q89K2ITK7822VD99EDGNVV4KQNSO5AEMVJF66Q9ASUAAJG) on table (product-table-dev-manual) when calling the Query operation: ExpressionAttributeValues contains invalid value: The parameter cannot be converted to a numeric value: \"0000009\" for key :0"
     ]
    }
   ],
   "source": [
    "item = next(Tester.query('0000009'))\n",
    "data = item.data\n",
    "item.toSeries()"
   ]
  },
  {
   "cell_type": "markdown",
   "metadata": {},
   "source": [
    "### Set update status"
   ]
  },
  {
   "cell_type": "code",
   "execution_count": null,
   "metadata": {},
   "outputs": [],
   "source": [
    "#export\n",
    "@add_method(Helpers)\n",
    "def setNoUpdate(self, batch = None):\n",
    "  self.needsUpdate = self.FALSE\n",
    "  if batch:\n",
    "    return batch.save(self)\n",
    "  else:\n",
    "    return self.save()\n",
    "  \n",
    "@add_method(Helpers)\n",
    "def setUpdate(self, batch=None):\n",
    "  self.needsUpdate = self.TRUE\n",
    "  if batch:\n",
    "    return batch.save(self)\n",
    "  else:\n",
    "    return self.save()"
   ]
  },
  {
   "cell_type": "code",
   "execution_count": null,
   "metadata": {},
   "outputs": [],
   "source": [
    "%%time\n",
    "sku = '0000009'\n",
    "item = next(ProductDatabase.query(sku))\n",
    "item.setUpdate()\n",
    "item = next(ProductDatabase.query(sku))\n",
    "print(item.needsUpdate)\n",
    "item.setNoUpdate()\n",
    "item = next(ProductDatabase.query(sku))\n",
    "print(item.needsUpdate)"
   ]
  },
  {
   "cell_type": "code",
   "execution_count": null,
   "metadata": {},
   "outputs": [],
   "source": [
    "class A:\n",
    "  def a(self):\n",
    "    print('a')\n",
    "class B:\n",
    "  def a(self):\n",
    "    print('b')\n",
    "class C(A,B):\n",
    "  pass"
   ]
  },
  {
   "cell_type": "code",
   "execution_count": null,
   "metadata": {},
   "outputs": [
    {
     "name": "stdout",
     "output_type": "stream",
     "text": [
      "a\n"
     ]
    }
   ],
   "source": [
    "C().a()"
   ]
  },
  {
   "cell_type": "code",
   "execution_count": null,
   "metadata": {},
   "outputs": [],
   "source": []
  }
 ],
 "metadata": {
  "kernelspec": {
   "display_name": "python38",
   "language": "python",
   "name": "python38"
  }
 },
 "nbformat": 4,
 "nbformat_minor": 4
}
