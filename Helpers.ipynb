{
 "cells": [
  {
   "cell_type": "code",
   "execution_count": null,
   "metadata": {},
   "outputs": [],
   "source": [
    "#default_exp helpers"
   ]
  },
  {
   "cell_type": "code",
   "execution_count": null,
   "metadata": {},
   "outputs": [],
   "source": [
    "#hide\n",
    "import pickle, os\n",
    "\n",
    "os.environ['DATABASE_TABLE_NAME'] = 'product-table-dev-manual'\n",
    "os.environ['REGION'] = 'ap-southeast-1'\n",
    "os.environ['INVENTORY_BUCKET_NAME'] = 'product-bucket-dev-manual'\n",
    "os.environ['INPUT_BUCKET_NAME'] = 'input-product-bucket-dev-manual'\n",
    "os.environ['DAX_ENDPOINT'] = 'longtermcluster.vuu7lr.clustercfg.dax.apse1.cache.amazonaws.com:8111'\n",
    "os.environ['LINEKEY'] = '2uAfV4AoYglUGmKTAk2xNOm0aV2Ufgh1BQPvQl9vJd4'\n",
    "REGION = 'ap-southeast-1'"
   ]
  },
  {
   "cell_type": "code",
   "execution_count": null,
   "metadata": {},
   "outputs": [
    {
     "name": "stdout",
     "output_type": "stream",
     "text": [
      "longtermcluster.vuu7lr.clustercfg.dax.apse1.cache.amazonaws.com:8111\n",
      "longtermcluster.vuu7lr.clustercfg.dax.apse1.cache.amazonaws.com:8111\n",
      "longtermcluster.vuu7lr.clustercfg.dax.apse1.cache.amazonaws.com:8111\n",
      "longtermcluster.vuu7lr.clustercfg.dax.apse1.cache.amazonaws.com:8111\n"
     ]
    }
   ],
   "source": [
    "from villaProductDatabase.database import ProductDatabase\n",
    "from villaProductDatabase.query import Querier"
   ]
  },
  {
   "cell_type": "code",
   "execution_count": null,
   "metadata": {},
   "outputs": [],
   "source": [
    "#export\n",
    "from nicHelper.wrappers import add_method, add_class_method, add_static_method\n",
    "from nicHelper.dictUtil import stripDict\n",
    "from linesdk.linesdk import Line\n",
    "from typing import List\n",
    "import pandas as pd\n",
    "import os, logging\n",
    "\n"
   ]
  },
  {
   "cell_type": "markdown",
   "metadata": {},
   "source": [
    "# Helpers\n",
    "## Static functions"
   ]
  },
  {
   "cell_type": "code",
   "execution_count": null,
   "metadata": {},
   "outputs": [],
   "source": [
    "#export\n",
    "class Helpers:\n",
    "  pass"
   ]
  },
  {
   "cell_type": "code",
   "execution_count": null,
   "metadata": {},
   "outputs": [],
   "source": [
    "class Tester(ProductDatabase, Helpers):\n",
    "  class Meta:\n",
    "    table_name = os.environ.get('DATABASE_TABLE_NAME')\n",
    "    region = os.environ.get('REGION')\n",
    "  pass"
   ]
  },
  {
   "cell_type": "markdown",
   "metadata": {},
   "source": [
    "### send notification"
   ]
  },
  {
   "cell_type": "code",
   "execution_count": null,
   "metadata": {},
   "outputs": [],
   "source": [
    "#export\n",
    "@add_static_method(Helpers)\n",
    "def notify(message):\n",
    "  line = Line(os.environ.get('LINEKEY'))\n",
    "  r = line.sendNotify(message)\n",
    "  if r.status_code != 200:\n",
    "    print(r.json())\n",
    "    return False\n",
    "  return True"
   ]
  },
  {
   "cell_type": "code",
   "execution_count": null,
   "metadata": {},
   "outputs": [
    {
     "data": {
      "text/plain": [
       "True"
      ]
     },
     "execution_count": null,
     "metadata": {},
     "output_type": "execute_result"
    }
   ],
   "source": [
    "Tester.notify('hello')"
   ]
  },
  {
   "cell_type": "markdown",
   "metadata": {},
   "source": [
    "## Class functions"
   ]
  },
  {
   "cell_type": "markdown",
   "metadata": {},
   "source": [
    "### Get keys"
   ]
  },
  {
   "cell_type": "code",
   "execution_count": null,
   "metadata": {},
   "outputs": [],
   "source": [
    "#export\n",
    "@add_class_method(Helpers)\n",
    "def keys(cls):\n",
    "  keys = list(vars(cls)['_attributes'].keys())\n",
    "  return keys"
   ]
  },
  {
   "cell_type": "code",
   "execution_count": null,
   "metadata": {},
   "outputs": [
    {
     "data": {
      "text/plain": [
       "['cprcode',\n",
       " 'data',\n",
       " 'iprcode',\n",
       " 'lastUpdate',\n",
       " 'needsUpdate',\n",
       " 'oprcode',\n",
       " 'pr_barcode',\n",
       " 'pr_barcode2',\n",
       " 'pr_dpcode',\n",
       " 'pr_sa_method',\n",
       " 'pr_sucode1',\n",
       " 'pr_suref3',\n",
       " 'sellingPrice']"
      ]
     },
     "execution_count": null,
     "metadata": {},
     "output_type": "execute_result"
    }
   ],
   "source": [
    "Tester.keys()"
   ]
  },
  {
   "cell_type": "markdown",
   "metadata": {},
   "source": [
    "### scan"
   ]
  },
  {
   "cell_type": "code",
   "execution_count": null,
   "metadata": {},
   "outputs": [],
   "source": [
    "#export\n",
    "@add_class_method(Helpers)\n",
    "def scanDb(cls, limit=100):\n",
    "  return list(cls.scan(limit=limit))"
   ]
  },
  {
   "cell_type": "code",
   "execution_count": null,
   "metadata": {},
   "outputs": [
    {
     "name": "stdout",
     "output_type": "stream",
     "text": [
      "CPU times: user 173 ms, sys: 27.4 ms, total: 200 ms\n",
      "Wall time: 360 ms\n"
     ]
    },
    {
     "data": {
      "text/plain": [
       "1000"
      ]
     },
     "execution_count": null,
     "metadata": {},
     "output_type": "execute_result"
    }
   ],
   "source": [
    "%%time\n",
    "items = Tester.scanDb(limit=1000)\n",
    "len(items)"
   ]
  },
  {
   "cell_type": "markdown",
   "metadata": {},
   "source": [
    "## convert to df"
   ]
  },
  {
   "cell_type": "code",
   "execution_count": null,
   "metadata": {},
   "outputs": [],
   "source": [
    "#export\n",
    "@add_class_method(Helpers)\n",
    "def toDf(cls, products:List[Helpers])->pd.DataFrame:\n",
    "  df = pd.DataFrame()\n",
    "  for product in products:\n",
    "    productSeries = product.toSeries()\n",
    "    productSeries = productSeries.rename(product.cprcode)\n",
    "    df = df.append(productSeries)\n",
    "  return df"
   ]
  },
  {
   "cell_type": "code",
   "execution_count": null,
   "metadata": {},
   "outputs": [
    {
     "name": "stdout",
     "output_type": "stream",
     "text": [
      "CPU times: user 1.27 s, sys: 102 µs, total: 1.27 s\n",
      "Wall time: 1.28 s\n"
     ]
    },
    {
     "data": {
      "text/html": [
       "<div>\n",
       "<style scoped>\n",
       "    .dataframe tbody tr th:only-of-type {\n",
       "        vertical-align: middle;\n",
       "    }\n",
       "\n",
       "    .dataframe tbody tr th {\n",
       "        vertical-align: top;\n",
       "    }\n",
       "\n",
       "    .dataframe thead th {\n",
       "        text-align: right;\n",
       "    }\n",
       "</style>\n",
       "<table border=\"1\" class=\"dataframe\">\n",
       "  <thead>\n",
       "    <tr style=\"text-align: right;\">\n",
       "      <th></th>\n",
       "      <th>content_en</th>\n",
       "      <th>content_th</th>\n",
       "      <th>cprcode</th>\n",
       "      <th>hema_brand_en</th>\n",
       "      <th>hema_brand_th</th>\n",
       "      <th>hema_name_en</th>\n",
       "      <th>hema_name_th</th>\n",
       "      <th>hema_sizedesc</th>\n",
       "      <th>iprcode</th>\n",
       "      <th>online_category_l1_en</th>\n",
       "      <th>...</th>\n",
       "      <th>pr_suref3</th>\n",
       "      <th>prtype</th>\n",
       "      <th>psqty</th>\n",
       "      <th>pstype</th>\n",
       "      <th>sort_weight</th>\n",
       "      <th>villa_category_l1_en</th>\n",
       "      <th>villa_category_l2_en</th>\n",
       "      <th>villa_category_l3_en</th>\n",
       "      <th>villa_category_l4_en</th>\n",
       "      <th>0171670</th>\n",
       "    </tr>\n",
       "  </thead>\n",
       "  <tbody>\n",
       "    <tr>\n",
       "      <th>0140942</th>\n",
       "      <td>0140942 Fragata Olive Pomace Oil 2L cooking oi...</td>\n",
       "      <td>Fragata Olive Pomace Oil 2L</td>\n",
       "      <td>0140942</td>\n",
       "      <td>Fragata</td>\n",
       "      <td>Fragata</td>\n",
       "      <td>Olive Pomace Oil</td>\n",
       "      <td>Olive Pomace Oil</td>\n",
       "      <td>2L</td>\n",
       "      <td>0140942</td>\n",
       "      <td>Grocery</td>\n",
       "      <td>...</td>\n",
       "      <td>A</td>\n",
       "      <td>I</td>\n",
       "      <td>1</td>\n",
       "      <td>1</td>\n",
       "      <td>0</td>\n",
       "      <td>Dry Grocery</td>\n",
       "      <td>Grocery</td>\n",
       "      <td>Oil &amp; Seasoning &amp; Sauce</td>\n",
       "      <td>Cooking Oil</td>\n",
       "      <td>NaN</td>\n",
       "    </tr>\n",
       "    <tr>\n",
       "      <th>0223750</th>\n",
       "      <td>0223750 Samyang Hot Chickhen Carbonarag 130g s...</td>\n",
       "      <td>Samyang Hot Chickhen Carbonarag 130g</td>\n",
       "      <td>0223750</td>\n",
       "      <td>Samyang</td>\n",
       "      <td>Samyang</td>\n",
       "      <td>Hot Chickhen Carbonarag</td>\n",
       "      <td>Hot Chickhen Carbonarag</td>\n",
       "      <td>130g</td>\n",
       "      <td>0223750</td>\n",
       "      <td>Grocery</td>\n",
       "      <td>...</td>\n",
       "      <td>A</td>\n",
       "      <td>I</td>\n",
       "      <td>1</td>\n",
       "      <td>1</td>\n",
       "      <td>0</td>\n",
       "      <td>Dry Grocery</td>\n",
       "      <td>Grocery</td>\n",
       "      <td>Rice &amp; Noodles &amp; Japanese</td>\n",
       "      <td>Noodles</td>\n",
       "      <td>NaN</td>\n",
       "    </tr>\n",
       "    <tr>\n",
       "      <th>0203790</th>\n",
       "      <td>0203790 KRISTY HAMPER 2016 SET G</td>\n",
       "      <td>KRISTY HAMPER 2016 SET G</td>\n",
       "      <td>0203790</td>\n",
       "      <td></td>\n",
       "      <td></td>\n",
       "      <td>KRISTY HAMPER 2016 SET G</td>\n",
       "      <td>KRISTY HAMPER 2016 SET G</td>\n",
       "      <td></td>\n",
       "      <td>0203790</td>\n",
       "      <td></td>\n",
       "      <td>...</td>\n",
       "      <td>A</td>\n",
       "      <td>I</td>\n",
       "      <td>1</td>\n",
       "      <td>1</td>\n",
       "      <td>0</td>\n",
       "      <td>Dry Grocery</td>\n",
       "      <td>Grocery</td>\n",
       "      <td>Oil &amp; Seasoning &amp; Sauce</td>\n",
       "      <td>Baking Needs</td>\n",
       "      <td>NaN</td>\n",
       "    </tr>\n",
       "    <tr>\n",
       "      <th>0207006</th>\n",
       "      <td>0207006 Malee 100% Tangerine Sukhothai 1L juice</td>\n",
       "      <td>Malee 100% Tangerine Sukhothai 1L น้ำผลไม้</td>\n",
       "      <td>0207006</td>\n",
       "      <td>Malee</td>\n",
       "      <td>Malee</td>\n",
       "      <td>100% Tangerine Sukhothai</td>\n",
       "      <td>100% Tangerine Sukhothai</td>\n",
       "      <td>1L</td>\n",
       "      <td>0207006</td>\n",
       "      <td>Drinks</td>\n",
       "      <td>...</td>\n",
       "      <td>C</td>\n",
       "      <td>I</td>\n",
       "      <td>1</td>\n",
       "      <td>1</td>\n",
       "      <td>0</td>\n",
       "      <td>Dry Grocery</td>\n",
       "      <td>Alcohol &amp; Beverage</td>\n",
       "      <td>Juice</td>\n",
       "      <td>Juice Local</td>\n",
       "      <td>NaN</td>\n",
       "    </tr>\n",
       "    <tr>\n",
       "      <th>235078</th>\n",
       "      <td>0235078 PLANEAT ROASTED SEASONED AJI BLACK PEPPE</td>\n",
       "      <td>PLANEAT ROASTED SEASONED AJI BLACK PEPPE</td>\n",
       "      <td>235078</td>\n",
       "      <td>none</td>\n",
       "      <td>none</td>\n",
       "      <td>PLANEAT ROASTED SEASONED AJI BLACK PEPPE</td>\n",
       "      <td>PLANEAT ROASTED SEASONED AJI BLACK PEPPE</td>\n",
       "      <td>none</td>\n",
       "      <td>235078</td>\n",
       "      <td>none</td>\n",
       "      <td>...</td>\n",
       "      <td>A</td>\n",
       "      <td>I</td>\n",
       "      <td>1.0</td>\n",
       "      <td>1.0</td>\n",
       "      <td>0.0</td>\n",
       "      <td>none</td>\n",
       "      <td>none</td>\n",
       "      <td>none</td>\n",
       "      <td>none</td>\n",
       "      <td>NaN</td>\n",
       "    </tr>\n",
       "  </tbody>\n",
       "</table>\n",
       "<p>5 rows × 53 columns</p>\n",
       "</div>"
      ],
      "text/plain": [
       "                                                content_en  \\\n",
       "0140942  0140942 Fragata Olive Pomace Oil 2L cooking oi...   \n",
       "0223750  0223750 Samyang Hot Chickhen Carbonarag 130g s...   \n",
       "0203790                   0203790 KRISTY HAMPER 2016 SET G   \n",
       "0207006    0207006 Malee 100% Tangerine Sukhothai 1L juice   \n",
       "235078    0235078 PLANEAT ROASTED SEASONED AJI BLACK PEPPE   \n",
       "\n",
       "                                         content_th  cprcode hema_brand_en  \\\n",
       "0140942                 Fragata Olive Pomace Oil 2L  0140942       Fragata   \n",
       "0223750        Samyang Hot Chickhen Carbonarag 130g  0223750       Samyang   \n",
       "0203790                    KRISTY HAMPER 2016 SET G  0203790                 \n",
       "0207006  Malee 100% Tangerine Sukhothai 1L น้ำผลไม้  0207006         Malee   \n",
       "235078     PLANEAT ROASTED SEASONED AJI BLACK PEPPE   235078          none   \n",
       "\n",
       "        hema_brand_th                              hema_name_en  \\\n",
       "0140942       Fragata                          Olive Pomace Oil   \n",
       "0223750       Samyang                   Hot Chickhen Carbonarag   \n",
       "0203790                                KRISTY HAMPER 2016 SET G   \n",
       "0207006         Malee                  100% Tangerine Sukhothai   \n",
       "235078           none  PLANEAT ROASTED SEASONED AJI BLACK PEPPE   \n",
       "\n",
       "                                     hema_name_th hema_sizedesc  iprcode  \\\n",
       "0140942                          Olive Pomace Oil            2L  0140942   \n",
       "0223750                   Hot Chickhen Carbonarag          130g  0223750   \n",
       "0203790                  KRISTY HAMPER 2016 SET G                0203790   \n",
       "0207006                  100% Tangerine Sukhothai            1L  0207006   \n",
       "235078   PLANEAT ROASTED SEASONED AJI BLACK PEPPE          none   235078   \n",
       "\n",
       "        online_category_l1_en  ... pr_suref3 prtype psqty pstype sort_weight  \\\n",
       "0140942               Grocery  ...         A      I     1      1           0   \n",
       "0223750               Grocery  ...         A      I     1      1           0   \n",
       "0203790                        ...         A      I     1      1           0   \n",
       "0207006                Drinks  ...         C      I     1      1           0   \n",
       "235078                   none  ...         A      I   1.0    1.0         0.0   \n",
       "\n",
       "        villa_category_l1_en villa_category_l2_en       villa_category_l3_en  \\\n",
       "0140942          Dry Grocery              Grocery    Oil & Seasoning & Sauce   \n",
       "0223750          Dry Grocery              Grocery  Rice & Noodles & Japanese   \n",
       "0203790          Dry Grocery              Grocery    Oil & Seasoning & Sauce   \n",
       "0207006          Dry Grocery   Alcohol & Beverage                      Juice   \n",
       "235078                  none                 none                       none   \n",
       "\n",
       "        villa_category_l4_en 0171670  \n",
       "0140942          Cooking Oil     NaN  \n",
       "0223750              Noodles     NaN  \n",
       "0203790         Baking Needs     NaN  \n",
       "0207006          Juice Local     NaN  \n",
       "235078                  none     NaN  \n",
       "\n",
       "[5 rows x 53 columns]"
      ]
     },
     "execution_count": null,
     "metadata": {},
     "output_type": "execute_result"
    }
   ],
   "source": [
    "%%time\n",
    "df = Tester.toDf(Tester.scan(limit=100))\n",
    "df.head()"
   ]
  },
  {
   "cell_type": "markdown",
   "metadata": {},
   "source": [
    "### From Series"
   ]
  },
  {
   "cell_type": "code",
   "execution_count": null,
   "metadata": {},
   "outputs": [],
   "source": [
    "#export\n",
    "@add_class_method(Helpers)\n",
    "def fromSeries(cls, data:pd.Series)->Helpers:\n",
    "  return cls.fromDict(data.to_dict())\n",
    "  "
   ]
  },
  {
   "cell_type": "code",
   "execution_count": null,
   "metadata": {},
   "outputs": [
    {
     "data": {
      "text/plain": [
       "{'content_en': '0140942 Fragata Olive Pomace Oil 2L cooking oil, oil cooking,Fragata Olive Pomace Oil, Fragata, Olive purity pomace oil, Omace oil olive pomace oil, cooking olive pomace oil, olive pomace oil cooking',\n",
       " 'content_th': 'Fragata Olive Pomace Oil 2L',\n",
       " 'cprcode': '0140942',\n",
       " 'hema_brand_en': 'Fragata',\n",
       " 'hema_brand_th': 'Fragata',\n",
       " 'hema_name_en': 'Olive Pomace Oil',\n",
       " 'hema_name_th': 'Olive Pomace Oil',\n",
       " 'hema_sizedesc': '2L',\n",
       " 'iprcode': '0140942',\n",
       " 'online_category_l1_en': 'Grocery',\n",
       " 'online_category_l1_th': 'สินค้าบริโภค',\n",
       " 'online_category_l2_en': 'Oils & Vinegar',\n",
       " 'online_category_l2_th': 'น้ำมันและน้ำส้มสายชู',\n",
       " 'online_category_l3_en': '',\n",
       " 'online_category_l3_th': '',\n",
       " 'oprcode': '0140942',\n",
       " 'ordertype': 'Y',\n",
       " 'pr_abb': 'FRAGATA OLIVE POMACE',\n",
       " 'pr_active': 'Y',\n",
       " 'pr_barcode': '8410134118601',\n",
       " 'pr_barcode2': '841013411860',\n",
       " 'pr_brand_en': 'Fragata',\n",
       " 'pr_brand_th': 'Fragata',\n",
       " 'pr_cgcode': '01',\n",
       " 'pr_code': '0140942',\n",
       " 'pr_country_en': '',\n",
       " 'pr_country_th': '',\n",
       " 'pr_dpcode': '08',\n",
       " 'pr_engname': 'FRAGATA OLIVE POMACE OIL 2 LITE',\n",
       " 'pr_filter_en': 'Oils  Vinegar,Grocery',\n",
       " 'pr_filter_th': 'Oils  Vinegar,Grocery',\n",
       " 'pr_ggcode': '008',\n",
       " 'pr_keyword_en': 'cooking oil, oil cooking,Fragata Olive Pomace Oil, Fragata, Olive purity pomace oil, Omace oil olive pomace oil, cooking olive pomace oil, olive pomace oil cooking',\n",
       " 'pr_keyword_th': '',\n",
       " 'pr_market': 'FRAGATA น้ำมันมะกอกธรรมชาติผสม',\n",
       " 'pr_name': 'FRAGATA น้ำมันมะกอกธรรมชาติ-กรรมวิธี 2 ลิตร',\n",
       " 'pr_name_en': 'FRAGATA OLIVE POMACE OIL 2 LITE',\n",
       " 'pr_name_th': 'FRAGATA น้ำมันมะกอกธรรมชาติ-กรรมวิธี 2 ลิตร',\n",
       " 'pr_online_name_en': 'Fragata Olive Pomace Oil 2L',\n",
       " 'pr_online_name_th': 'Fragata Olive Pomace Oil 2L',\n",
       " 'pr_puqty': '8.00',\n",
       " 'pr_sa_method': '1',\n",
       " 'pr_sucode1': '1036',\n",
       " 'pr_suref3': 'A',\n",
       " 'prtype': 'I',\n",
       " 'psqty': '1',\n",
       " 'pstype': '1',\n",
       " 'sort_weight': '0',\n",
       " 'villa_category_l1_en': 'Dry Grocery',\n",
       " 'villa_category_l2_en': 'Grocery',\n",
       " 'villa_category_l3_en': 'Oil & Seasoning & Sauce',\n",
       " 'villa_category_l4_en': 'Cooking Oil',\n",
       " '0171670': nan}"
      ]
     },
     "execution_count": null,
     "metadata": {},
     "output_type": "execute_result"
    }
   ],
   "source": [
    "item = df.iloc[0]\n",
    "type(item)\n",
    "result = Tester.fromSeries(item)\n",
    "result.data"
   ]
  },
  {
   "cell_type": "markdown",
   "metadata": {},
   "source": [
    "### From DF"
   ]
  },
  {
   "cell_type": "code",
   "execution_count": null,
   "metadata": {},
   "outputs": [],
   "source": [
    "#export\n",
    "@add_class_method(Helpers)\n",
    "def fromDf(cls, data:pd.DataFrame)->List[Helpers]:\n",
    "  return data.apply(lambda x: cls.fromSeries(x), axis=1).to_list()\n",
    "  "
   ]
  },
  {
   "cell_type": "code",
   "execution_count": null,
   "metadata": {},
   "outputs": [],
   "source": [
    "Tester.fromDf(df)[0]"
   ]
  },
  {
   "cell_type": "markdown",
   "metadata": {},
   "source": [
    "### From dict"
   ]
  },
  {
   "cell_type": "code",
   "execution_count": null,
   "metadata": {},
   "outputs": [],
   "source": [
    "#export\n",
    "@add_class_method(Helpers)\n",
    "def fromDict(cls, dictInput):\n",
    "  logging.debug(dictInput)\n",
    "  dictInput = stripDict(dictInput)\n",
    "  #### extract the keys\n",
    "  filteredInput = {k:v for k,v in dictInput.items() if k in cls.keys()}\n",
    "  #### save whole object to dictInput\n",
    "  filteredInput['data'] = dictInput\n",
    "  logging.debug(filteredInput)\n",
    "  return cls(**filteredInput)"
   ]
  },
  {
   "cell_type": "code",
   "execution_count": null,
   "metadata": {},
   "outputs": [],
   "source": [
    "item = {\n",
    "  'cprcode': '0171670',\n",
    "  'iprcode': '0171670',\n",
    "  'oprcode': '0171670',\n",
    "  'ordertype': 'Y',\n",
    "  'pr_abb': 'JIRAPAT YOUNG KALE 2',\n",
    "  'pr_active': 'Y',\n",
    "  'pr_cgcode': '05',\n",
    "  'pr_code': '0171670',\n",
    "  'pr_dpcode': '19',\n",
    "  'pr_engname': 'JIRAAT YOUNG KALE 200 G.',\n",
    "  'pr_ggcode': '057',\n",
    "  'pr_market': 'JIRAPAT ยอดคะน้า 200 G.',\n",
    "  'pr_name': 'JIRAPAT ยอดคะน้า 200 G.',\n",
    "  'pr_puqty': '1',\n",
    "  'pr_sa_method': '1',\n",
    "  'pr_sucode1': 'CM845',\n",
    "  'pr_suref3': 'A',\n",
    "  'prtype': 'I',\n",
    "  'psqty': '1',\n",
    "  'pstype': '1'}\n",
    "Tester.fromDict(item)"
   ]
  },
  {
   "cell_type": "markdown",
   "metadata": {},
   "source": [
    "### toListOfDict"
   ]
  },
  {
   "cell_type": "code",
   "execution_count": null,
   "metadata": {},
   "outputs": [],
   "source": [
    "#export\n",
    "@add_class_method(Helpers)\n",
    "def toListDict(cls, items:List[Helpers]):\n",
    "  return [item.data for item in items]"
   ]
  },
  {
   "cell_type": "code",
   "execution_count": null,
   "metadata": {},
   "outputs": [],
   "source": [
    "items = Tester.fromDf(df)\n",
    "len(Tester.toListDict(items))"
   ]
  },
  {
   "cell_type": "markdown",
   "metadata": {},
   "source": [
    "## Standard functions"
   ]
  },
  {
   "cell_type": "markdown",
   "metadata": {},
   "source": [
    "### toSeries "
   ]
  },
  {
   "cell_type": "code",
   "execution_count": null,
   "metadata": {},
   "outputs": [],
   "source": [
    "#export\n",
    "@add_method(Helpers)\n",
    "def toSeries(self):\n",
    "  return pd.Series(self.data)"
   ]
  },
  {
   "cell_type": "code",
   "execution_count": null,
   "metadata": {},
   "outputs": [],
   "source": [
    "item = next(Tester.query('0000009'))\n",
    "data = item.data\n",
    "item.toSeries()"
   ]
  },
  {
   "cell_type": "markdown",
   "metadata": {},
   "source": [
    "### Set update status"
   ]
  },
  {
   "cell_type": "code",
   "execution_count": null,
   "metadata": {},
   "outputs": [],
   "source": [
    "#export\n",
    "@add_method(Helpers)\n",
    "def setNoUpdate(self, batch = None):\n",
    "  self.needsUpdate = self.FALSE\n",
    "  if batch:\n",
    "    return batch.save(self)\n",
    "  else:\n",
    "    return self.save()\n",
    "  \n",
    "@add_method(Helpers)\n",
    "def setUpdate(self, batch=None):\n",
    "  self.needsUpdate = self.TRUE\n",
    "  if batch:\n",
    "    return batch.save(self)\n",
    "  else:\n",
    "    return self.save()"
   ]
  },
  {
   "cell_type": "code",
   "execution_count": null,
   "metadata": {},
   "outputs": [],
   "source": [
    "%%time\n",
    "sku = '0000009'\n",
    "item = next(ProductDatabase.query(sku))\n",
    "item.setUpdate()\n",
    "item = next(ProductDatabase.query(sku))\n",
    "print(item.needsUpdate)\n",
    "item.setNoUpdate()\n",
    "item = next(ProductDatabase.query(sku))\n",
    "print(item.needsUpdate)"
   ]
  },
  {
   "cell_type": "code",
   "execution_count": null,
   "metadata": {},
   "outputs": [],
   "source": []
  }
 ],
 "metadata": {
  "kernelspec": {
   "display_name": "python38",
   "language": "python",
   "name": "python38"
  }
 },
 "nbformat": 4,
 "nbformat_minor": 4
}
